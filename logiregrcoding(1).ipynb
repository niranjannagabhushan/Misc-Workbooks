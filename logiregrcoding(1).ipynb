{
  "nbformat": 4,
  "nbformat_minor": 0,
  "metadata": {
    "colab": {
      "name": "logiregrcoding.ipynb",
      "provenance": []
    },
    "kernelspec": {
      "name": "python3",
      "display_name": "Python 3"
    },
    "language_info": {
      "name": "python"
    }
  },
  "cells": [
    {
      "cell_type": "code",
      "execution_count": null,
      "metadata": {
        "id": "3spZj-Zz-A68"
      },
      "outputs": [],
      "source": [
        ""
      ]
    },
    {
      "cell_type": "markdown",
      "source": [
        "Description\n",
        "Compute and display Fibonacci series upto n terms where n is a positive integer entered by the user.\n",
        "You can go here to read about Fibonacci series.\n",
        "Sample Input:\n",
        "5\n",
        "Sample Output:\n",
        "0\n",
        "1\n",
        "1\n",
        "2\n",
        "3"
      ],
      "metadata": {
        "id": "DCQzz7UC-TCR"
      }
    },
    {
      "cell_type": "code",
      "source": [
        "n=int(input())\n",
        "secondLast=0\n",
        "last=1\n",
        "if n>0:\n",
        "    print(secondLast)\n",
        "if n>1:\n",
        "    print(last)\n",
        "for i in range(3,n+1):\n",
        "    nextNumber=last+secondLast\n",
        "    print(nextNumber)\n",
        "    secondLast=last\n",
        "    last=nextNumber \n"
      ],
      "metadata": {
        "colab": {
          "base_uri": "https://localhost:8080/"
        },
        "id": "MvHLKgqa-WIH",
        "outputId": "8e1b1f3e-b39f-43b0-872c-853c566b46e6"
      },
      "execution_count": null,
      "outputs": [
        {
          "output_type": "stream",
          "name": "stdout",
          "text": [
            "5\n",
            "0\n",
            "1\n",
            "1\n",
            "2\n",
            "3\n"
          ]
        }
      ]
    },
    {
      "cell_type": "markdown",
      "source": [
        ""
      ],
      "metadata": {
        "id": "VMF1rk_U_Rgi"
      }
    },
    {
      "cell_type": "markdown",
      "source": [
        "Prime Numbers\n",
        "Description\n",
        "Determine whether a positive integer n is a prime number or not. Assume n>1.\n",
        "Display “number entered is prime” if n is prime, otherwise display “number entered is not prime”.\n",
        "Sample Input:\n",
        "7\n",
        "Sample Output:\n",
        "number entered is prime"
      ],
      "metadata": {
        "id": "lxHOE2A4_RZA"
      }
    },
    {
      "cell_type": "code",
      "source": [
        "n=int(input())\n",
        "out=True\n",
        "for i in range(2,n):\n",
        "    if(n%i==0):\n",
        "        out=False\n",
        "        break\n",
        "if out==True:\n",
        "    print(\"number entered is prime\")\n",
        "else:\n",
        "    print(\"number entered is not prime\")\n"
      ],
      "metadata": {
        "id": "fgrvWdFg_Li2"
      },
      "execution_count": null,
      "outputs": []
    },
    {
      "cell_type": "markdown",
      "source": [
        ""
      ],
      "metadata": {
        "id": "CLpuzU1f_Ycb"
      }
    },
    {
      "cell_type": "markdown",
      "source": [
        "Armstrong number\n",
        "Description\n",
        "Any number, say n is called an Armstrong number if it is equal to the sum of its digits, where each is raised to the power of number of digits in n.\n",
        "For example:\n",
        "153=13+53+33\n",
        "\n",
        "Write Python code to determine whether an entered three digit number is an Armstrong number or not. \n",
        "Assume that the number entered will strictly be a three digit number.\n",
        "Print \"True\" if it is an Armstrong number and print \"False\" if it is not.\n",
        "Sample Input:\n",
        "153\n",
        "Sample Output:\n",
        "True"
      ],
      "metadata": {
        "id": "pL6YT2Jh_YT5"
      }
    },
    {
      "cell_type": "code",
      "source": [
        "n=int(input())\n",
        "digits=list(map(int,str(n)))\n",
        "num=sum(list(map(lambda x:x**3,digits)))\n",
        "print(num==n)"
      ],
      "metadata": {
        "colab": {
          "base_uri": "https://localhost:8080/"
        },
        "id": "aeQ4lTkl_cjs",
        "outputId": "366409de-8e5e-49c8-f659-8db6d8bf8aa7"
      },
      "execution_count": null,
      "outputs": [
        {
          "output_type": "stream",
          "name": "stdout",
          "text": [
            "584\n",
            "False\n"
          ]
        }
      ]
    },
    {
      "cell_type": "code",
      "source": [
        ""
      ],
      "metadata": {
        "id": "oDXYdL6O_e9J"
      },
      "execution_count": null,
      "outputs": []
    },
    {
      "cell_type": "markdown",
      "source": [
        ""
      ],
      "metadata": {
        "id": "8N0Ttdyb_hfB"
      }
    },
    {
      "cell_type": "markdown",
      "source": [
        "Selecting dataframe columns\n",
        "Description\n",
        "Write a program to select all columns of a dataframe except the ones specified.\n",
        "The input will contain a list of columns that you should skip.\n",
        "You should print the first five rows of the dataframe as output where the columns are alphabetically sorted.\n",
        "\n",
        "Sample Input:\n",
        "['PassengerId', 'Pclass', 'Name', 'Sex','Embarked']\n",
        "Sample Output:"
      ],
      "metadata": {
        "id": "diqM9Jg9_hW9"
      }
    },
    {
      "cell_type": "code",
      "source": [
        "import pandas as pd\n",
        "import ast,sys\n",
        "df=pd.read_csv(\"https://media-doselect.s3.amazonaws.com/generic/X0kvr3wEYXRzONE5W37xWWYYA/test.csv\")\n",
        "input_str = sys.stdin.read()\n",
        "to_omit = ast.literal_eval(input_str)\n",
        "df=df[df.columns[~df.columns.isin(to_omit)]]\n",
        "print(df.loc[:, sorted(list(df.columns))].head())"
      ],
      "metadata": {
        "id": "99F99aA1_m6k"
      },
      "execution_count": null,
      "outputs": []
    },
    {
      "cell_type": "markdown",
      "source": [
        ""
      ],
      "metadata": {
        "id": "cXKteGIo_qIH"
      }
    },
    {
      "cell_type": "markdown",
      "source": [
        "Two series\n",
        "Description\n",
        "Given two pandas series, find the position of elements in series2 in series1.\n",
        "You can assume that all elements in series2 will be present in series1.\n",
        "The input will contain two lines with series1 and series2 respectively.\n",
        "The output should be a list of indexes indicating elements of series2 in series 1.\n",
        "Note: In the output list, the indexes should be in ascending order.\n",
        "Sample Input:\n",
        "[1,2,3,4,5,6,7]\n",
        "[1,3,7]\n",
        "Sample Output:\n",
        "[0,2,6]\n",
        "\n",
        "Execution Time Limit\n",
        "10 seconds"
      ],
      "metadata": {
        "id": "mpPLS4nw_p_k"
      }
    },
    {
      "cell_type": "code",
      "source": [
        "import ast,sys\n",
        "import pandas as pd\n",
        "input_str = sys.stdin.read()\n",
        "input_list = ast.literal_eval(input_str)\n",
        "series1=pd.Series(input_list[0])\n",
        "series2=pd.Series(input_list[1])\n",
        "out_list=[pd.Index(series1).get_loc(num) for num in series2]\n",
        "print(list(map(int,out_list)))"
      ],
      "metadata": {
        "id": "aFtDdv9Z_uYT"
      },
      "execution_count": null,
      "outputs": []
    },
    {
      "cell_type": "markdown",
      "source": [
        ""
      ],
      "metadata": {
        "id": "Wc8Kx15d_w4Y"
      }
    },
    {
      "cell_type": "markdown",
      "source": [
        "Cleaning columns\n",
        "Description\n",
        "For the given dataframe, you have to clean the \"Installs\" column and print its correlation with other numeric columns of the dataframe.(print df.corr())\n",
        "You have to do the following:\n",
        "1. Remove characters like ',' from the number of installs.\n",
        "2. Delete rows where the Installs column has irrelevant strings like 'Free'\n",
        "3. Convert the column to int type\n",
        "You can access the dataframe using the following URL in your Jupyter notebook:\n",
        "https://media-doselect.s3.amazonaws.com/generic/8NMooe4G0ENEe8z9q5ZvaZA7/googleplaystore.csv\n",
        "Note: You should try this problem on your own Jupyter notebook before submitting. Do not clean any column other than \"Installs\".\n",
        "Sample Output:\n",
        "            Rating  Installs\n",
        "Rating    1.000000  0.051355\n",
        "Installs  0.051355  1.000000\n",
        "Execution Time Limit\n",
        "10 seconds"
      ],
      "metadata": {
        "id": "wos21yAW_wwn"
      }
    },
    {
      "cell_type": "code",
      "source": [
        ""
      ],
      "metadata": {
        "id": "vfszRmkc_z3j"
      },
      "execution_count": null,
      "outputs": []
    },
    {
      "cell_type": "markdown",
      "source": [
        ""
      ],
      "metadata": {
        "id": "fadJUx2XAuhe"
      }
    },
    {
      "cell_type": "markdown",
      "source": [
        "Capitalise\n",
        "Description\n",
        "Given a sentence as a string, capitalise the first letter of every word. Output the final sentence after capitalising.\n",
        "\n",
        "Hint: Since strings are immutable, you need to output a new string.\n",
        "\n",
        "Example:\n",
        "Input 1:\n",
        "I am now a master of Logistic regression\n",
        "Output 1:\n",
        "I Am Now A Master Of Logistic Regression\n",
        "Execution Time Limit\n",
        "15 seconds"
      ],
      "metadata": {
        "id": "Q4slUueaAuYR"
      }
    },
    {
      "cell_type": "code",
      "source": [
        "# Read the input string \n",
        "input_string = input()\n",
        "\n",
        "# Split the string at the white spaces so that you have the individual words\n",
        "l = input_string.split(\" \")\n",
        "\n",
        "# Declare a new string since you cannot mutate strings in Python\n",
        "new_s = \"\"\n",
        "\n",
        "# Run a loop for all the words\n",
        "for word in l:\n",
        "    \n",
        "# If the first letter of the word is in lowercase, covert it to uppercase by using \n",
        "# the ord and chr functions. Note that that order of 'a' is 97 and order of 'A' is\n",
        "# 65. So to capitalise, you need to subtract 32.\n",
        "    if(ord(word[0]) >= ord('a') and ord(word[0]) <= ord('z')):\n",
        "        \n",
        "# Add the capitalised character to the new string alongwith a white space. Then\n",
        "# add the rest of the word as well.\n",
        "        new_s = new_s + \" \" + chr(ord(word[0]) - 32)\n",
        "        new_s = new_s + word[1:]\n",
        "        \n",
        "# If the first letter is already capital, just add the word to the new string as is \n",
        "    else:\n",
        "        new_s = new_s + \" \" + word\n",
        "\n",
        "# Print the new string after doing an lstrip() since the first word was also added\n",
        "# with a whitespace\n",
        "print(new_s.lstrip())"
      ],
      "metadata": {
        "id": "LpBJK9uUBELi"
      },
      "execution_count": null,
      "outputs": []
    },
    {
      "cell_type": "markdown",
      "source": [
        ""
      ],
      "metadata": {
        "id": "GQ0XLa9HBJb9"
      }
    },
    {
      "cell_type": "markdown",
      "source": [
        "Second Maximum Number in a List\n",
        "Description\n",
        "Given a list of numbers, find the second largest number in the list.\n",
        "\n",
        "Note: There might be repeated numbers in the list. If there is only one number present in the list, return 'not present'.\n",
        "\n",
        "Examples:\n",
        "Input 1:\n",
        "[7, 2, 0, 9, -1, 8]\n",
        "Output 1:\n",
        "8\n",
        "\n",
        "Input 2:\n",
        "[3, 1, 4, 4, 5, 5, 5, 0, 2, 2]\n",
        "Output 2:\n",
        "4\n",
        "\n",
        "Input 2:\n",
        "[6, 6, 6, 6, 6]\n",
        "Output 2:\n",
        "not present\n",
        "Execution Time Limit\n",
        "15 seconds"
      ],
      "metadata": {
        "id": "vwb_YL-IBJUG"
      }
    },
    {
      "cell_type": "code",
      "source": [
        "# Read the input list\n",
        "import ast,sys\n",
        "input_str = sys.stdin.read()\n",
        "input_list = ast.literal_eval(input_str)\n",
        "\n",
        "# Declare two variables max1 and max2 which will contain the maximum and the second\n",
        "# maximum element. Choose a very small number (like -10000 in this case). You will\n",
        "# understand why in the next few steps\n",
        "max1 = -10000\n",
        "max2 = -10000\n",
        "    \n",
        "# Run a loop throughout the length of the loop    \n",
        "for i in input_list:\n",
        "\n",
        "# If you encounter a number greater than max1, update the values of both max1 and max2\n",
        "# max2 will now take the value of max1 and max1 will take the value of i\n",
        "    if(i > max1):\n",
        "        max2, max1 = max1, i\n",
        "\n",
        "# Else if you encounter a number which is less than max1 but greater than max2, just\n",
        "# update the value of max2\n",
        "    elif(i < max1 and i > max2):\n",
        "        max2 = i\n",
        "\n",
        "# If max1 is equal to max2, or either of max1 and max2 are -10000 (the initial value),\n",
        "# it means that only one number (repeated several times) is present in the list, so\n",
        "# print not present. Else print the value of max2\n",
        "if((max1 == max2) or (max1 == -10000) or (max2 == -10000)):\n",
        "    print(\"not present\")\n",
        "else:\n",
        "    print(max2)"
      ],
      "metadata": {
        "id": "GxdIH7QgBNXv"
      },
      "execution_count": null,
      "outputs": []
    },
    {
      "cell_type": "markdown",
      "source": [
        ""
      ],
      "metadata": {
        "id": "BPQDlKMCBQ9h"
      }
    },
    {
      "cell_type": "markdown",
      "source": [
        "Data Quality\n",
        "Description\n",
        "You have a Wholesale Customers dataset. Here are the first few rows of the dataset:\n",
        "﻿\n",
        "﻿The last column 'Channel' contains information about the type of channel the items are supplied to. There are only three types of channels - 'Hotel', 'Restaurant', and 'Cafe'. But as you can notice, there are quality issues in the last data. A lot of the times Cafe as been written as 'C', Hotel has been written as 'Hot', etc. Inspect these incorrect values and replace them with their actual full names. \n",
        "\n",
        "\n",
        "After this operation, the final column should only have 3 kinds of label - 'Hotel', 'Restaurant', and 'Cafe'. \n",
        "\n",
        "The dataframe has already been read to you in the variable 'wholesale'.\n",
        "\n",
        "The print statement to print the final dataframe has also been provided. You just need to perform the operations for correcting the names present in the last column.\n"
      ],
      "metadata": {
        "id": "KL0mpHt8BQ1N"
      }
    },
    {
      "cell_type": "code",
      "source": [
        "# Importing the Pandas package and reading the data\n",
        "import pandas as pd\n",
        "wholesale = pd.read_csv('https://media-doselect.s3.amazonaws.com/generic/OkbnaOBqrBXZOpRQw1JGMgaM9/Wholesale_Data.csv')\n",
        "\n",
        "# Inspecting the first few rows\n",
        "wholesale.head(10)\n",
        "\n",
        "# Checking the value counts of the column 'Channel' to see what all values are present\n",
        "wholesale['Channel'].value_counts()\n",
        "\n",
        "# Define a function to correct the names. Code self-explanatory\n",
        "def correction(x):\n",
        "    if x in ['H', 'Hote', 'Hot']:\n",
        "        x = 'Hotel'\n",
        "    elif x in ['C', 'Caffe']:\n",
        "        x = 'Cafe'\n",
        "    elif x in ['R', 'Rest']:\n",
        "        x = 'Restaurant'\n",
        "    return(x)\n",
        "\n",
        "# Apply the function written above to the column 'Channel'\n",
        "wholesale['Channel'] = wholesale['Channel'].apply(lambda x: correction(x))\n",
        "\n",
        "# Checking the final dataframe\n",
        "wholesale.head()\n",
        "\n",
        "# The final print statement. Please don't edit this part. Also don't write any other\n",
        "# print statement otherwise your answer will not match even if it is correct\n",
        "print(wholesale['Channel'].value_counts())"
      ],
      "metadata": {
        "colab": {
          "base_uri": "https://localhost:8080/"
        },
        "id": "R-1rXEkoBVwX",
        "outputId": "623ef5e2-a225-46fa-e122-81ed34ac455a"
      },
      "execution_count": 3,
      "outputs": [
        {
          "output_type": "stream",
          "name": "stdout",
          "text": [
            "Hotel         146\n",
            "Cafe          123\n",
            "Restaurant    101\n",
            "Name: Channel, dtype: int64\n"
          ]
        }
      ]
    },
    {
      "cell_type": "code",
      "source": [
        ""
      ],
      "metadata": {
        "id": "UOe5ecxcBYHt"
      },
      "execution_count": null,
      "outputs": []
    },
    {
      "cell_type": "markdown",
      "source": [
        ""
      ],
      "metadata": {
        "id": "hbhIYpdzBZ1K"
      }
    },
    {
      "cell_type": "markdown",
      "source": [
        "Worst Channel\n",
        "Description\n",
        "You again have the wholesale dataset but this time it is cleaned. Here are the first few rows:﻿\n",
        "﻿\n",
        "Each of the columns except for the column 'Channel' tells you the sales for each kind of product and the 'Channel' column tells you which 'Channel' you're selling to. Your task is to find out which of the three channels has the least total sales (for all the products combined). For example, if the total sales to Cafe, Hotel, and Restaurant turn out to be 1 lakh, 2 lakh, and 3 lakh rupees, you need to print 'Cafe' since it has the lowest sales. "
      ],
      "metadata": {
        "id": "f-dvpfM9BZmk"
      }
    },
    {
      "cell_type": "code",
      "source": [
        "# Import Pandas and read the dataframe\n",
        "import pandas as pd\n",
        "wholesale = pd.read_csv('https://media-doselect.s3.amazonaws.com/generic/OqwpypRKN09x5GYej2LvVrprn/Wholesale_Data_Cleaned.csv')\n",
        "\n",
        "# Inspect the dataframe\n",
        "wholesale.head()\n",
        "wholesale.shape\n",
        "\n",
        "# Create a new column 'Total' that contains the sum of all the columns\n",
        "wholesale['Total'] = wholesale.sum(axis=1)\n",
        "\n",
        "# Inspect the dataframe again\n",
        "wholesale.head()\n",
        "\n",
        "# Group the dataframe using 'Channel' as the index, 'Total' as the values, and \n",
        "# 'sum' as the aggfunc\n",
        "channels = wholesale.pivot_table(index='Channel', values = 'Total', aggfunc = 'sum')\n",
        "\n",
        "# Check the grouped dataframe\n",
        "channels.head()\n",
        "\n",
        "# Sort the grouped dataframe and print the smallest value\n",
        "print(channels.sort_values(by='Total').index[0])"
      ],
      "metadata": {
        "colab": {
          "base_uri": "https://localhost:8080/"
        },
        "id": "vY_3BnSIBgkp",
        "outputId": "245dd272-d655-43ef-934d-e5a04e70d950"
      },
      "execution_count": 4,
      "outputs": [
        {
          "output_type": "stream",
          "name": "stdout",
          "text": [
            "Restaurant\n"
          ]
        },
        {
          "output_type": "stream",
          "name": "stderr",
          "text": [
            "/usr/local/lib/python3.7/dist-packages/ipykernel_launcher.py:10: FutureWarning: Dropping of nuisance columns in DataFrame reductions (with 'numeric_only=None') is deprecated; in a future version this will raise TypeError.  Select only valid columns before calling the reduction.\n",
            "  # Remove the CWD from sys.path while we load stuff.\n"
          ]
        }
      ]
    },
    {
      "cell_type": "code",
      "source": [
        ""
      ],
      "metadata": {
        "id": "xgVY6aO6Bhho"
      },
      "execution_count": null,
      "outputs": []
    }
  ]
}