{
 "cells": [
  {
   "cell_type": "code",
   "execution_count": 1,
   "metadata": {},
   "outputs": [],
   "source": [
    "import pandas as pd\n",
    "import numpy as np"
   ]
  },
  {
   "cell_type": "code",
   "execution_count": 5,
   "metadata": {},
   "outputs": [
    {
     "name": "stderr",
     "output_type": "stream",
     "text": [
      "C:\\Users\\bepec\\anaconda3\\lib\\site-packages\\openpyxl\\worksheet\\header_footer.py:48: UserWarning: Cannot parse header or footer so it will be ignored\n",
      "  warn(\"\"\"Cannot parse header or footer so it will be ignored\"\"\")\n"
     ]
    }
   ],
   "source": [
    "lend = pd.read_excel(r'C:\\Users\\rakes\\Documents\\Raq files\\Data Science\\Data sets\\Lending Data.xlsx', engine='openpyxl')"
   ]
  },
  {
   "cell_type": "code",
   "execution_count": 6,
   "metadata": {},
   "outputs": [
    {
     "data": {
      "text/html": [
       "<div>\n",
       "<style scoped>\n",
       "    .dataframe tbody tr th:only-of-type {\n",
       "        vertical-align: middle;\n",
       "    }\n",
       "\n",
       "    .dataframe tbody tr th {\n",
       "        vertical-align: top;\n",
       "    }\n",
       "\n",
       "    .dataframe thead th {\n",
       "        text-align: right;\n",
       "    }\n",
       "</style>\n",
       "<table border=\"1\" class=\"dataframe\">\n",
       "  <thead>\n",
       "    <tr style=\"text-align: right;\">\n",
       "      <th></th>\n",
       "      <th>Name of Lending Institution</th>\n",
       "      <th>HQ State</th>\n",
       "      <th>Rank</th>\n",
       "      <th>TA Ratio1</th>\n",
       "      <th>TBL Ratio1</th>\n",
       "      <th>Amount ($1,000)</th>\n",
       "      <th>Number</th>\n",
       "      <th>Lender Asset Size</th>\n",
       "      <th>Amount ($1,000).1</th>\n",
       "      <th>Number .1</th>\n",
       "      <th>Unnamed: 10</th>\n",
       "      <th>Amount ($1,000).2</th>\n",
       "      <th>Number .2</th>\n",
       "      <th>CC Amount/TA1</th>\n",
       "    </tr>\n",
       "  </thead>\n",
       "  <tbody>\n",
       "    <tr>\n",
       "      <th>0</th>\n",
       "      <td>NaN</td>\n",
       "      <td>NaN</td>\n",
       "      <td>-1</td>\n",
       "      <td>-2</td>\n",
       "      <td>-3</td>\n",
       "      <td>-4</td>\n",
       "      <td>-5</td>\n",
       "      <td>-6</td>\n",
       "      <td>-7.0</td>\n",
       "      <td>-8.0</td>\n",
       "      <td>NaN</td>\n",
       "      <td>-9.0</td>\n",
       "      <td>-10.0</td>\n",
       "      <td>-11</td>\n",
       "    </tr>\n",
       "    <tr>\n",
       "      <th>1</th>\n",
       "      <td>American Express Co.</td>\n",
       "      <td>NY</td>\n",
       "      <td>1</td>\n",
       "      <td>0.23829</td>\n",
       "      <td>0.999544</td>\n",
       "      <td>16350038</td>\n",
       "      <td>3603226</td>\n",
       "      <td>&gt;$50B</td>\n",
       "      <td>16318089.0</td>\n",
       "      <td>3603088.0</td>\n",
       "      <td>NaN</td>\n",
       "      <td>31949.0</td>\n",
       "      <td>138.0</td>\n",
       "      <td>0.28</td>\n",
       "    </tr>\n",
       "    <tr>\n",
       "      <th>2</th>\n",
       "      <td>First Citizens Banchares</td>\n",
       "      <td>NC</td>\n",
       "      <td>2</td>\n",
       "      <td>0.187393</td>\n",
       "      <td>0.49083</td>\n",
       "      <td>3914507</td>\n",
       "      <td>117702</td>\n",
       "      <td>$10B-$50B</td>\n",
       "      <td>378394.0</td>\n",
       "      <td>105081.0</td>\n",
       "      <td>NaN</td>\n",
       "      <td>3536113.0</td>\n",
       "      <td>12621.0</td>\n",
       "      <td>.</td>\n",
       "    </tr>\n",
       "    <tr>\n",
       "      <th>3</th>\n",
       "      <td>Wintrust Financial Corp.</td>\n",
       "      <td>IL</td>\n",
       "      <td>3</td>\n",
       "      <td>0.168999</td>\n",
       "      <td>0.383561</td>\n",
       "      <td>2842793</td>\n",
       "      <td>136801</td>\n",
       "      <td>$10B-$50B</td>\n",
       "      <td>800526.0</td>\n",
       "      <td>126455.0</td>\n",
       "      <td>NaN</td>\n",
       "      <td>2042267.0</td>\n",
       "      <td>10346.0</td>\n",
       "      <td>0</td>\n",
       "    </tr>\n",
       "    <tr>\n",
       "      <th>4</th>\n",
       "      <td>Zions Bancorp</td>\n",
       "      <td>UT</td>\n",
       "      <td>4</td>\n",
       "      <td>0.117973</td>\n",
       "      <td>0.260577</td>\n",
       "      <td>6231770</td>\n",
       "      <td>52612</td>\n",
       "      <td>&gt;$50B</td>\n",
       "      <td>526206.0</td>\n",
       "      <td>32973.0</td>\n",
       "      <td>NaN</td>\n",
       "      <td>5705564.0</td>\n",
       "      <td>19639.0</td>\n",
       "      <td>0</td>\n",
       "    </tr>\n",
       "  </tbody>\n",
       "</table>\n",
       "</div>"
      ],
      "text/plain": [
       "  Name of Lending Institution HQ State Rank TA Ratio1 TBL Ratio1  \\\n",
       "0                         NaN      NaN   -1        -2         -3   \n",
       "1       American Express Co.       NY     1   0.23829   0.999544   \n",
       "2    First Citizens Banchares      NC     2  0.187393    0.49083   \n",
       "3    Wintrust Financial Corp.      IL     3  0.168999   0.383561   \n",
       "4               Zions Bancorp      UT     4  0.117973   0.260577   \n",
       "\n",
       "  Amount ($1,000)  Number      Lender Asset Size  Amount ($1,000).1  \\\n",
       "0              -4       -5                    -6               -7.0   \n",
       "1        16350038  3603226  >$50B                        16318089.0   \n",
       "2         3914507   117702  $10B-$50B                      378394.0   \n",
       "3         2842793   136801  $10B-$50B                      800526.0   \n",
       "4         6231770    52612  >$50B                          526206.0   \n",
       "\n",
       "   Number .1  Unnamed: 10  Amount ($1,000).2  Number .2 CC Amount/TA1  \n",
       "0       -8.0          NaN               -9.0      -10.0           -11  \n",
       "1  3603088.0          NaN            31949.0      138.0          0.28  \n",
       "2   105081.0          NaN          3536113.0    12621.0           .    \n",
       "3   126455.0          NaN          2042267.0    10346.0             0  \n",
       "4    32973.0          NaN          5705564.0    19639.0             0  "
      ]
     },
     "execution_count": 6,
     "metadata": {},
     "output_type": "execute_result"
    }
   ],
   "source": [
    "lend.head()"
   ]
  },
  {
   "cell_type": "code",
   "execution_count": 7,
   "metadata": {},
   "outputs": [
    {
     "data": {
      "text/html": [
       "<div>\n",
       "<style scoped>\n",
       "    .dataframe tbody tr th:only-of-type {\n",
       "        vertical-align: middle;\n",
       "    }\n",
       "\n",
       "    .dataframe tbody tr th {\n",
       "        vertical-align: top;\n",
       "    }\n",
       "\n",
       "    .dataframe thead th {\n",
       "        text-align: right;\n",
       "    }\n",
       "</style>\n",
       "<table border=\"1\" class=\"dataframe\">\n",
       "  <thead>\n",
       "    <tr style=\"text-align: right;\">\n",
       "      <th></th>\n",
       "      <th>Name of Lending Institution</th>\n",
       "      <th>HQ State</th>\n",
       "      <th>Rank</th>\n",
       "      <th>TA Ratio1</th>\n",
       "      <th>TBL Ratio1</th>\n",
       "      <th>Amount ($1,000)</th>\n",
       "      <th>Number</th>\n",
       "      <th>Lender Asset Size</th>\n",
       "      <th>Amount ($1,000).1</th>\n",
       "      <th>Number .1</th>\n",
       "      <th>Unnamed: 10</th>\n",
       "      <th>Amount ($1,000).2</th>\n",
       "      <th>Number .2</th>\n",
       "      <th>CC Amount/TA1</th>\n",
       "    </tr>\n",
       "  </thead>\n",
       "  <tbody>\n",
       "    <tr>\n",
       "      <th>92</th>\n",
       "      <td>Charles Schwab Bk</td>\n",
       "      <td>NV</td>\n",
       "      <td>NR</td>\n",
       "      <td>-</td>\n",
       "      <td>-</td>\n",
       "      <td>-</td>\n",
       "      <td>-</td>\n",
       "      <td>&gt;$10B</td>\n",
       "      <td>0.0</td>\n",
       "      <td>0.0</td>\n",
       "      <td>NaN</td>\n",
       "      <td>0.0</td>\n",
       "      <td>0.0</td>\n",
       "      <td>.</td>\n",
       "    </tr>\n",
       "    <tr>\n",
       "      <th>93</th>\n",
       "      <td>Third FS&amp;LA</td>\n",
       "      <td>OH</td>\n",
       "      <td>NR</td>\n",
       "      <td>-</td>\n",
       "      <td>-</td>\n",
       "      <td>-</td>\n",
       "      <td>-</td>\n",
       "      <td>&gt;$10B</td>\n",
       "      <td>0.0</td>\n",
       "      <td>0.0</td>\n",
       "      <td>NaN</td>\n",
       "      <td>0.0</td>\n",
       "      <td>0.0</td>\n",
       "      <td>.</td>\n",
       "    </tr>\n",
       "    <tr>\n",
       "      <th>94</th>\n",
       "      <td>*The bank was formerly known as GE Money Bank,...</td>\n",
       "      <td>NaN</td>\n",
       "      <td>NaN</td>\n",
       "      <td>NaN</td>\n",
       "      <td>NaN</td>\n",
       "      <td>NaN</td>\n",
       "      <td>NaN</td>\n",
       "      <td>NaN</td>\n",
       "      <td>NaN</td>\n",
       "      <td>NaN</td>\n",
       "      <td>NaN</td>\n",
       "      <td>NaN</td>\n",
       "      <td>NaN</td>\n",
       "      <td>NaN</td>\n",
       "    </tr>\n",
       "    <tr>\n",
       "      <th>95</th>\n",
       "      <td>1 TA = total domestic assets held by the lende...</td>\n",
       "      <td>NaN</td>\n",
       "      <td>NaN</td>\n",
       "      <td>NaN</td>\n",
       "      <td>NaN</td>\n",
       "      <td>NaN</td>\n",
       "      <td>NaN</td>\n",
       "      <td>NaN</td>\n",
       "      <td>NaN</td>\n",
       "      <td>NaN</td>\n",
       "      <td>NaN</td>\n",
       "      <td>NaN</td>\n",
       "      <td>NaN</td>\n",
       "      <td>NaN</td>\n",
       "    </tr>\n",
       "    <tr>\n",
       "      <th>96</th>\n",
       "      <td>Source: U.S. Small Business Administration, Of...</td>\n",
       "      <td>NaN</td>\n",
       "      <td>NaN</td>\n",
       "      <td>NaN</td>\n",
       "      <td>NaN</td>\n",
       "      <td>NaN</td>\n",
       "      <td>NaN</td>\n",
       "      <td>NaN</td>\n",
       "      <td>NaN</td>\n",
       "      <td>NaN</td>\n",
       "      <td>NaN</td>\n",
       "      <td>NaN</td>\n",
       "      <td>NaN</td>\n",
       "      <td>NaN</td>\n",
       "    </tr>\n",
       "  </tbody>\n",
       "</table>\n",
       "</div>"
      ],
      "text/plain": [
       "                          Name of Lending Institution HQ State Rank TA Ratio1  \\\n",
       "92                     Charles Schwab Bk                    NV   NR         -   \n",
       "93                     Third FS&LA                          OH   NR         -   \n",
       "94  *The bank was formerly known as GE Money Bank,...      NaN  NaN       NaN   \n",
       "95  1 TA = total domestic assets held by the lende...      NaN  NaN       NaN   \n",
       "96  Source: U.S. Small Business Administration, Of...      NaN  NaN       NaN   \n",
       "\n",
       "   TBL Ratio1 Amount ($1,000) Number      Lender Asset Size  \\\n",
       "92          -               -       -  >$10B                  \n",
       "93          -               -       -  >$10B                  \n",
       "94        NaN             NaN     NaN                   NaN   \n",
       "95        NaN             NaN     NaN                   NaN   \n",
       "96        NaN             NaN     NaN                   NaN   \n",
       "\n",
       "    Amount ($1,000).1  Number .1  Unnamed: 10  Amount ($1,000).2  Number .2  \\\n",
       "92                0.0        0.0          NaN                0.0        0.0   \n",
       "93                0.0        0.0          NaN                0.0        0.0   \n",
       "94                NaN        NaN          NaN                NaN        NaN   \n",
       "95                NaN        NaN          NaN                NaN        NaN   \n",
       "96                NaN        NaN          NaN                NaN        NaN   \n",
       "\n",
       "   CC Amount/TA1  \n",
       "92           .    \n",
       "93           .    \n",
       "94           NaN  \n",
       "95           NaN  \n",
       "96           NaN  "
      ]
     },
     "execution_count": 7,
     "metadata": {},
     "output_type": "execute_result"
    }
   ],
   "source": [
    "lend.tail()"
   ]
  },
  {
   "cell_type": "code",
   "execution_count": 5,
   "metadata": {},
   "outputs": [
    {
     "data": {
      "text/plain": [
       "(97, 14)"
      ]
     },
     "execution_count": 5,
     "metadata": {},
     "output_type": "execute_result"
    }
   ],
   "source": [
    "lend.shape"
   ]
  },
  {
   "cell_type": "code",
   "execution_count": 4,
   "metadata": {},
   "outputs": [
    {
     "data": {
      "text/plain": [
       "Name of Lending Institution     1\n",
       "HQ State                        4\n",
       "Rank                            3\n",
       "TA Ratio1                       3\n",
       "TBL Ratio1                      3\n",
       "Amount ($1,000)                 3\n",
       "Number                          3\n",
       "Lender Asset Size               3\n",
       "Amount ($1,000).1               3\n",
       "Number .1                       3\n",
       "Unnamed: 10                    97\n",
       "Amount ($1,000).2               3\n",
       "Number .2                       3\n",
       "CC Amount/TA1                   3\n",
       "dtype: int64"
      ]
     },
     "execution_count": 4,
     "metadata": {},
     "output_type": "execute_result"
    }
   ],
   "source": [
    "lend.isnull().sum()"
   ]
  },
  {
   "cell_type": "code",
   "execution_count": 7,
   "metadata": {},
   "outputs": [],
   "source": [
    "del lend['Unnamed: 10']"
   ]
  },
  {
   "cell_type": "code",
   "execution_count": 8,
   "metadata": {},
   "outputs": [
    {
     "data": {
      "text/plain": [
       "Name of Lending Institution    1\n",
       "HQ State                       4\n",
       "Rank                           3\n",
       "TA Ratio1                      3\n",
       "TBL Ratio1                     3\n",
       "Amount ($1,000)                3\n",
       "Number                         3\n",
       "Lender Asset Size              3\n",
       "Amount ($1,000).1              3\n",
       "Number .1                      3\n",
       "Amount ($1,000).2              3\n",
       "Number .2                      3\n",
       "CC Amount/TA1                  3\n",
       "dtype: int64"
      ]
     },
     "execution_count": 8,
     "metadata": {},
     "output_type": "execute_result"
    }
   ],
   "source": [
    "lend.isnull().sum()"
   ]
  },
  {
   "cell_type": "markdown",
   "metadata": {},
   "source": [
    "# Clean Rank with value 0"
   ]
  },
  {
   "cell_type": "code",
   "execution_count": 9,
   "metadata": {},
   "outputs": [
    {
     "data": {
      "text/plain": [
       "array([-1, 1, 2, 3, 4, 5, 6, 7, 8, 10, 11, 13, 15, 16, 17, 18, 19, 22, 23,\n",
       "       24, 25, 26, 27, 28, 29, 30, 31, 32, 33, 34, 36, 37, 38, 39, 40, 42,\n",
       "       43, 44, 45, 46, 47, 48, 49, 50, 51, 52, 53, 54, 55, 56, 57, 58, 59,\n",
       "       60, 61, 62, 63, 64, 65, 66, 67, 69, 70, 71, 72, 73, 74, 75, 76, 77,\n",
       "       78, 79, 80, 81, 82, 83, 84, 85, 86, 87, 88, 'NR', nan],\n",
       "      dtype=object)"
      ]
     },
     "execution_count": 9,
     "metadata": {},
     "output_type": "execute_result"
    }
   ],
   "source": [
    "lend['Rank'].unique()"
   ]
  },
  {
   "cell_type": "code",
   "execution_count": 10,
   "metadata": {},
   "outputs": [],
   "source": [
    "lend['Rank'] = lend['Rank'].replace('NR', 0)\n"
   ]
  },
  {
   "cell_type": "code",
   "execution_count": 11,
   "metadata": {},
   "outputs": [
    {
     "data": {
      "text/plain": [
       "array([-1.,  1.,  2.,  3.,  4.,  5.,  6.,  7.,  8., 10., 11., 13., 15.,\n",
       "       16., 17., 18., 19., 22., 23., 24., 25., 26., 27., 28., 29., 30.,\n",
       "       31., 32., 33., 34., 36., 37., 38., 39., 40., 42., 43., 44., 45.,\n",
       "       46., 47., 48., 49., 50., 51., 52., 53., 54., 55., 56., 57., 58.,\n",
       "       59., 60., 61., 62., 63., 64., 65., 66., 67., 69., 70., 71., 72.,\n",
       "       73., 74., 75., 76., 77., 78., 79., 80., 81., 82., 83., 84., 85.,\n",
       "       86., 87., 88.,  0., nan])"
      ]
     },
     "execution_count": 11,
     "metadata": {},
     "output_type": "execute_result"
    }
   ],
   "source": [
    "lend['Rank'].unique()"
   ]
  },
  {
   "cell_type": "code",
   "execution_count": 12,
   "metadata": {},
   "outputs": [],
   "source": [
    "lend = lend.dropna()"
   ]
  },
  {
   "cell_type": "code",
   "execution_count": 13,
   "metadata": {},
   "outputs": [
    {
     "data": {
      "text/plain": [
       "Name of Lending Institution    0\n",
       "HQ State                       0\n",
       "Rank                           0\n",
       "TA Ratio1                      0\n",
       "TBL Ratio1                     0\n",
       "Amount ($1,000)                0\n",
       "Number                         0\n",
       "Lender Asset Size              0\n",
       "Amount ($1,000).1              0\n",
       "Number .1                      0\n",
       "Amount ($1,000).2              0\n",
       "Number .2                      0\n",
       "CC Amount/TA1                  0\n",
       "dtype: int64"
      ]
     },
     "execution_count": 13,
     "metadata": {},
     "output_type": "execute_result"
    }
   ],
   "source": [
    "lend.isnull().sum()"
   ]
  },
  {
   "cell_type": "markdown",
   "metadata": {},
   "source": [
    "# clean '-' values with column mean"
   ]
  },
  {
   "cell_type": "code",
   "execution_count": 15,
   "metadata": {},
   "outputs": [],
   "source": [
    "lend = lend.replace('-', np.nan)"
   ]
  },
  {
   "cell_type": "code",
   "execution_count": 16,
   "metadata": {},
   "outputs": [
    {
     "name": "stdout",
     "output_type": "stream",
     "text": [
      "<class 'pandas.core.frame.DataFrame'>\n",
      "Int64Index: 93 entries, 1 to 93\n",
      "Data columns (total 13 columns):\n",
      " #   Column                       Non-Null Count  Dtype  \n",
      "---  ------                       --------------  -----  \n",
      " 0   Name of Lending Institution  93 non-null     object \n",
      " 1   HQ State                     93 non-null     object \n",
      " 2   Rank                         93 non-null     float64\n",
      " 3   TA Ratio1                    89 non-null     float64\n",
      " 4   TBL Ratio1                   88 non-null     float64\n",
      " 5   Amount ($1,000)              89 non-null     float64\n",
      " 6   Number                       89 non-null     float64\n",
      " 7   Lender Asset Size            93 non-null     object \n",
      " 8   Amount ($1,000).1            93 non-null     float64\n",
      " 9   Number .1                    93 non-null     float64\n",
      " 10  Amount ($1,000).2            93 non-null     float64\n",
      " 11  Number .2                    93 non-null     float64\n",
      " 12  CC Amount/TA1                93 non-null     object \n",
      "dtypes: float64(9), object(4)\n",
      "memory usage: 10.2+ KB\n"
     ]
    }
   ],
   "source": [
    "lend.info()"
   ]
  },
  {
   "cell_type": "code",
   "execution_count": 21,
   "metadata": {},
   "outputs": [],
   "source": [
    "lend = lend.fillna(lend.mean())"
   ]
  },
  {
   "cell_type": "code",
   "execution_count": 22,
   "metadata": {},
   "outputs": [
    {
     "data": {
      "text/html": [
       "<div>\n",
       "<style scoped>\n",
       "    .dataframe tbody tr th:only-of-type {\n",
       "        vertical-align: middle;\n",
       "    }\n",
       "\n",
       "    .dataframe tbody tr th {\n",
       "        vertical-align: top;\n",
       "    }\n",
       "\n",
       "    .dataframe thead th {\n",
       "        text-align: right;\n",
       "    }\n",
       "</style>\n",
       "<table border=\"1\" class=\"dataframe\">\n",
       "  <thead>\n",
       "    <tr style=\"text-align: right;\">\n",
       "      <th></th>\n",
       "      <th>Name of Lending Institution</th>\n",
       "      <th>HQ State</th>\n",
       "      <th>Rank</th>\n",
       "      <th>TA Ratio1</th>\n",
       "      <th>TBL Ratio1</th>\n",
       "      <th>Amount ($1,000)</th>\n",
       "      <th>Number</th>\n",
       "      <th>Lender Asset Size</th>\n",
       "      <th>Amount ($1,000).1</th>\n",
       "      <th>Number .1</th>\n",
       "      <th>Amount ($1,000).2</th>\n",
       "      <th>Number .2</th>\n",
       "      <th>CC Amount/TA1</th>\n",
       "    </tr>\n",
       "  </thead>\n",
       "  <tbody>\n",
       "    <tr>\n",
       "      <th>1</th>\n",
       "      <td>American Express Co.</td>\n",
       "      <td>NY</td>\n",
       "      <td>1.0</td>\n",
       "      <td>0.238290</td>\n",
       "      <td>0.999544</td>\n",
       "      <td>1.635004e+07</td>\n",
       "      <td>3.603226e+06</td>\n",
       "      <td>&gt;$50B</td>\n",
       "      <td>16318089.0</td>\n",
       "      <td>3603088.0</td>\n",
       "      <td>31949.0</td>\n",
       "      <td>138.0</td>\n",
       "      <td>0.28</td>\n",
       "    </tr>\n",
       "    <tr>\n",
       "      <th>2</th>\n",
       "      <td>First Citizens Banchares</td>\n",
       "      <td>NC</td>\n",
       "      <td>2.0</td>\n",
       "      <td>0.187393</td>\n",
       "      <td>0.490830</td>\n",
       "      <td>3.914507e+06</td>\n",
       "      <td>1.177020e+05</td>\n",
       "      <td>$10B-$50B</td>\n",
       "      <td>378394.0</td>\n",
       "      <td>105081.0</td>\n",
       "      <td>3536113.0</td>\n",
       "      <td>12621.0</td>\n",
       "      <td>.</td>\n",
       "    </tr>\n",
       "    <tr>\n",
       "      <th>3</th>\n",
       "      <td>Wintrust Financial Corp.</td>\n",
       "      <td>IL</td>\n",
       "      <td>3.0</td>\n",
       "      <td>0.168999</td>\n",
       "      <td>0.383561</td>\n",
       "      <td>2.842793e+06</td>\n",
       "      <td>1.368010e+05</td>\n",
       "      <td>$10B-$50B</td>\n",
       "      <td>800526.0</td>\n",
       "      <td>126455.0</td>\n",
       "      <td>2042267.0</td>\n",
       "      <td>10346.0</td>\n",
       "      <td>0</td>\n",
       "    </tr>\n",
       "    <tr>\n",
       "      <th>4</th>\n",
       "      <td>Zions Bancorp</td>\n",
       "      <td>UT</td>\n",
       "      <td>4.0</td>\n",
       "      <td>0.117973</td>\n",
       "      <td>0.260577</td>\n",
       "      <td>6.231770e+06</td>\n",
       "      <td>5.261200e+04</td>\n",
       "      <td>&gt;$50B</td>\n",
       "      <td>526206.0</td>\n",
       "      <td>32973.0</td>\n",
       "      <td>5705564.0</td>\n",
       "      <td>19639.0</td>\n",
       "      <td>0</td>\n",
       "    </tr>\n",
       "    <tr>\n",
       "      <th>5</th>\n",
       "      <td>Synovus Financial Corp.</td>\n",
       "      <td>GA</td>\n",
       "      <td>5.0</td>\n",
       "      <td>0.162333</td>\n",
       "      <td>0.381387</td>\n",
       "      <td>4.227168e+06</td>\n",
       "      <td>2.267500e+04</td>\n",
       "      <td>$10B-$50B</td>\n",
       "      <td>539666.0</td>\n",
       "      <td>9593.0</td>\n",
       "      <td>3687502.0</td>\n",
       "      <td>13082.0</td>\n",
       "      <td>0.01</td>\n",
       "    </tr>\n",
       "    <tr>\n",
       "      <th>...</th>\n",
       "      <td>...</td>\n",
       "      <td>...</td>\n",
       "      <td>...</td>\n",
       "      <td>...</td>\n",
       "      <td>...</td>\n",
       "      <td>...</td>\n",
       "      <td>...</td>\n",
       "      <td>...</td>\n",
       "      <td>...</td>\n",
       "      <td>...</td>\n",
       "      <td>...</td>\n",
       "      <td>...</td>\n",
       "      <td>...</td>\n",
       "    </tr>\n",
       "    <tr>\n",
       "      <th>89</th>\n",
       "      <td>USAA Svg. Bank</td>\n",
       "      <td>NV</td>\n",
       "      <td>0.0</td>\n",
       "      <td>0.000000</td>\n",
       "      <td>0.251196</td>\n",
       "      <td>0.000000e+00</td>\n",
       "      <td>1.000000e+00</td>\n",
       "      <td>&gt;$10B</td>\n",
       "      <td>0.0</td>\n",
       "      <td>1.0</td>\n",
       "      <td>0.0</td>\n",
       "      <td>0.0</td>\n",
       "      <td>.</td>\n",
       "    </tr>\n",
       "    <tr>\n",
       "      <th>90</th>\n",
       "      <td>State Street Corp.</td>\n",
       "      <td>MA</td>\n",
       "      <td>0.0</td>\n",
       "      <td>0.048668</td>\n",
       "      <td>0.251196</td>\n",
       "      <td>3.184791e+06</td>\n",
       "      <td>2.164190e+05</td>\n",
       "      <td>&gt;$50B</td>\n",
       "      <td>0.0</td>\n",
       "      <td>0.0</td>\n",
       "      <td>0.0</td>\n",
       "      <td>0.0</td>\n",
       "      <td>0</td>\n",
       "    </tr>\n",
       "    <tr>\n",
       "      <th>91</th>\n",
       "      <td>E Trade Bk</td>\n",
       "      <td>VA</td>\n",
       "      <td>0.0</td>\n",
       "      <td>0.048668</td>\n",
       "      <td>0.251196</td>\n",
       "      <td>3.184791e+06</td>\n",
       "      <td>2.164190e+05</td>\n",
       "      <td>&gt;$10B</td>\n",
       "      <td>0.0</td>\n",
       "      <td>0.0</td>\n",
       "      <td>0.0</td>\n",
       "      <td>0.0</td>\n",
       "      <td>.</td>\n",
       "    </tr>\n",
       "    <tr>\n",
       "      <th>92</th>\n",
       "      <td>Charles Schwab Bk</td>\n",
       "      <td>NV</td>\n",
       "      <td>0.0</td>\n",
       "      <td>0.048668</td>\n",
       "      <td>0.251196</td>\n",
       "      <td>3.184791e+06</td>\n",
       "      <td>2.164190e+05</td>\n",
       "      <td>&gt;$10B</td>\n",
       "      <td>0.0</td>\n",
       "      <td>0.0</td>\n",
       "      <td>0.0</td>\n",
       "      <td>0.0</td>\n",
       "      <td>.</td>\n",
       "    </tr>\n",
       "    <tr>\n",
       "      <th>93</th>\n",
       "      <td>Third FS&amp;LA</td>\n",
       "      <td>OH</td>\n",
       "      <td>0.0</td>\n",
       "      <td>0.048668</td>\n",
       "      <td>0.251196</td>\n",
       "      <td>3.184791e+06</td>\n",
       "      <td>2.164190e+05</td>\n",
       "      <td>&gt;$10B</td>\n",
       "      <td>0.0</td>\n",
       "      <td>0.0</td>\n",
       "      <td>0.0</td>\n",
       "      <td>0.0</td>\n",
       "      <td>.</td>\n",
       "    </tr>\n",
       "  </tbody>\n",
       "</table>\n",
       "<p>93 rows × 13 columns</p>\n",
       "</div>"
      ],
      "text/plain": [
       "          Name of Lending Institution HQ State  Rank  TA Ratio1  TBL Ratio1  \\\n",
       "1               American Express Co.       NY    1.0   0.238290    0.999544   \n",
       "2            First Citizens Banchares      NC    2.0   0.187393    0.490830   \n",
       "3            Wintrust Financial Corp.      IL    3.0   0.168999    0.383561   \n",
       "4                       Zions Bancorp      UT    4.0   0.117973    0.260577   \n",
       "5             Synovus Financial Corp.      GA    5.0   0.162333    0.381387   \n",
       "..                                ...      ...   ...        ...         ...   \n",
       "89  USAA Svg. Bank                          NV   0.0   0.000000    0.251196   \n",
       "90                State Street Corp.       MA    0.0   0.048668    0.251196   \n",
       "91     E Trade Bk                           VA   0.0   0.048668    0.251196   \n",
       "92     Charles Schwab Bk                    NV   0.0   0.048668    0.251196   \n",
       "93     Third FS&LA                          OH   0.0   0.048668    0.251196   \n",
       "\n",
       "    Amount ($1,000)       Number      Lender Asset Size  Amount ($1,000).1  \\\n",
       "1      1.635004e+07  3.603226e+06  >$50B                        16318089.0   \n",
       "2      3.914507e+06  1.177020e+05  $10B-$50B                      378394.0   \n",
       "3      2.842793e+06  1.368010e+05  $10B-$50B                      800526.0   \n",
       "4      6.231770e+06  5.261200e+04  >$50B                          526206.0   \n",
       "5      4.227168e+06  2.267500e+04  $10B-$50B                      539666.0   \n",
       "..              ...           ...                   ...                ...   \n",
       "89     0.000000e+00  1.000000e+00  >$10B                               0.0   \n",
       "90     3.184791e+06  2.164190e+05  >$50B                               0.0   \n",
       "91     3.184791e+06  2.164190e+05  >$10B                               0.0   \n",
       "92     3.184791e+06  2.164190e+05  >$10B                               0.0   \n",
       "93     3.184791e+06  2.164190e+05  >$10B                               0.0   \n",
       "\n",
       "    Number .1  Amount ($1,000).2  Number .2 CC Amount/TA1  \n",
       "1   3603088.0            31949.0      138.0          0.28  \n",
       "2    105081.0          3536113.0    12621.0           .    \n",
       "3    126455.0          2042267.0    10346.0             0  \n",
       "4     32973.0          5705564.0    19639.0             0  \n",
       "5      9593.0          3687502.0    13082.0          0.01  \n",
       "..        ...                ...        ...           ...  \n",
       "89        1.0                0.0        0.0           .    \n",
       "90        0.0                0.0        0.0             0  \n",
       "91        0.0                0.0        0.0           .    \n",
       "92        0.0                0.0        0.0           .    \n",
       "93        0.0                0.0        0.0           .    \n",
       "\n",
       "[93 rows x 13 columns]"
      ]
     },
     "execution_count": 22,
     "metadata": {},
     "output_type": "execute_result"
    }
   ],
   "source": [
    "lend"
   ]
  },
  {
   "cell_type": "markdown",
   "metadata": {},
   "source": [
    "# clean '.' with column mean"
   ]
  },
  {
   "cell_type": "code",
   "execution_count": 25,
   "metadata": {},
   "outputs": [],
   "source": [
    "lend = lend.replace('    .  ', np.nan)"
   ]
  },
  {
   "cell_type": "code",
   "execution_count": 26,
   "metadata": {},
   "outputs": [
    {
     "data": {
      "text/plain": [
       "array([0.28,  nan, 0.  , 0.01, 0.25, 0.05, 0.06, 0.1 , 0.03, 0.07, 0.02])"
      ]
     },
     "execution_count": 26,
     "metadata": {},
     "output_type": "execute_result"
    }
   ],
   "source": [
    "lend['CC Amount/TA1'].unique()"
   ]
  },
  {
   "cell_type": "code",
   "execution_count": 27,
   "metadata": {},
   "outputs": [
    {
     "name": "stdout",
     "output_type": "stream",
     "text": [
      "<class 'pandas.core.frame.DataFrame'>\n",
      "Int64Index: 93 entries, 1 to 93\n",
      "Data columns (total 13 columns):\n",
      " #   Column                       Non-Null Count  Dtype  \n",
      "---  ------                       --------------  -----  \n",
      " 0   Name of Lending Institution  93 non-null     object \n",
      " 1   HQ State                     93 non-null     object \n",
      " 2   Rank                         93 non-null     float64\n",
      " 3   TA Ratio1                    93 non-null     float64\n",
      " 4   TBL Ratio1                   93 non-null     float64\n",
      " 5   Amount ($1,000)              93 non-null     float64\n",
      " 6   Number                       93 non-null     float64\n",
      " 7   Lender Asset Size            93 non-null     object \n",
      " 8   Amount ($1,000).1            93 non-null     float64\n",
      " 9   Number .1                    93 non-null     float64\n",
      " 10  Amount ($1,000).2            93 non-null     float64\n",
      " 11  Number .2                    93 non-null     float64\n",
      " 12  CC Amount/TA1                46 non-null     float64\n",
      "dtypes: float64(10), object(3)\n",
      "memory usage: 10.2+ KB\n"
     ]
    }
   ],
   "source": [
    "lend.info()"
   ]
  },
  {
   "cell_type": "code",
   "execution_count": 28,
   "metadata": {},
   "outputs": [],
   "source": [
    "lend['CC Amount/TA1'] = lend['CC Amount/TA1'].fillna(lend['CC Amount/TA1'].mean())"
   ]
  },
  {
   "cell_type": "code",
   "execution_count": 29,
   "metadata": {},
   "outputs": [
    {
     "data": {
      "text/plain": [
       "array([0.28      , 0.02086957, 0.        , 0.01      , 0.25      ,\n",
       "       0.05      , 0.06      , 0.1       , 0.03      , 0.07      ,\n",
       "       0.02      ])"
      ]
     },
     "execution_count": 29,
     "metadata": {},
     "output_type": "execute_result"
    }
   ],
   "source": [
    "lend['CC Amount/TA1'].unique()"
   ]
  },
  {
   "cell_type": "markdown",
   "metadata": {},
   "source": [
    "# Convert lending assets size = categaory like 0,1,2 etc based on levels available"
   ]
  },
  {
   "cell_type": "code",
   "execution_count": 30,
   "metadata": {},
   "outputs": [
    {
     "data": {
      "text/html": [
       "<div>\n",
       "<style scoped>\n",
       "    .dataframe tbody tr th:only-of-type {\n",
       "        vertical-align: middle;\n",
       "    }\n",
       "\n",
       "    .dataframe tbody tr th {\n",
       "        vertical-align: top;\n",
       "    }\n",
       "\n",
       "    .dataframe thead th {\n",
       "        text-align: right;\n",
       "    }\n",
       "</style>\n",
       "<table border=\"1\" class=\"dataframe\">\n",
       "  <thead>\n",
       "    <tr style=\"text-align: right;\">\n",
       "      <th></th>\n",
       "      <th>Name of Lending Institution</th>\n",
       "      <th>HQ State</th>\n",
       "      <th>Rank</th>\n",
       "      <th>TA Ratio1</th>\n",
       "      <th>TBL Ratio1</th>\n",
       "      <th>Amount ($1,000)</th>\n",
       "      <th>Number</th>\n",
       "      <th>Lender Asset Size</th>\n",
       "      <th>Amount ($1,000).1</th>\n",
       "      <th>Number .1</th>\n",
       "      <th>Amount ($1,000).2</th>\n",
       "      <th>Number .2</th>\n",
       "      <th>CC Amount/TA1</th>\n",
       "    </tr>\n",
       "  </thead>\n",
       "  <tbody>\n",
       "    <tr>\n",
       "      <th>1</th>\n",
       "      <td>American Express Co.</td>\n",
       "      <td>NY</td>\n",
       "      <td>1.0</td>\n",
       "      <td>0.238290</td>\n",
       "      <td>0.999544</td>\n",
       "      <td>16350038.0</td>\n",
       "      <td>3603226.0</td>\n",
       "      <td>&gt;$50B</td>\n",
       "      <td>16318089.0</td>\n",
       "      <td>3603088.0</td>\n",
       "      <td>31949.0</td>\n",
       "      <td>138.0</td>\n",
       "      <td>0.28000</td>\n",
       "    </tr>\n",
       "    <tr>\n",
       "      <th>2</th>\n",
       "      <td>First Citizens Banchares</td>\n",
       "      <td>NC</td>\n",
       "      <td>2.0</td>\n",
       "      <td>0.187393</td>\n",
       "      <td>0.490830</td>\n",
       "      <td>3914507.0</td>\n",
       "      <td>117702.0</td>\n",
       "      <td>$10B-$50B</td>\n",
       "      <td>378394.0</td>\n",
       "      <td>105081.0</td>\n",
       "      <td>3536113.0</td>\n",
       "      <td>12621.0</td>\n",
       "      <td>0.02087</td>\n",
       "    </tr>\n",
       "    <tr>\n",
       "      <th>3</th>\n",
       "      <td>Wintrust Financial Corp.</td>\n",
       "      <td>IL</td>\n",
       "      <td>3.0</td>\n",
       "      <td>0.168999</td>\n",
       "      <td>0.383561</td>\n",
       "      <td>2842793.0</td>\n",
       "      <td>136801.0</td>\n",
       "      <td>$10B-$50B</td>\n",
       "      <td>800526.0</td>\n",
       "      <td>126455.0</td>\n",
       "      <td>2042267.0</td>\n",
       "      <td>10346.0</td>\n",
       "      <td>0.00000</td>\n",
       "    </tr>\n",
       "    <tr>\n",
       "      <th>4</th>\n",
       "      <td>Zions Bancorp</td>\n",
       "      <td>UT</td>\n",
       "      <td>4.0</td>\n",
       "      <td>0.117973</td>\n",
       "      <td>0.260577</td>\n",
       "      <td>6231770.0</td>\n",
       "      <td>52612.0</td>\n",
       "      <td>&gt;$50B</td>\n",
       "      <td>526206.0</td>\n",
       "      <td>32973.0</td>\n",
       "      <td>5705564.0</td>\n",
       "      <td>19639.0</td>\n",
       "      <td>0.00000</td>\n",
       "    </tr>\n",
       "    <tr>\n",
       "      <th>5</th>\n",
       "      <td>Synovus Financial Corp.</td>\n",
       "      <td>GA</td>\n",
       "      <td>5.0</td>\n",
       "      <td>0.162333</td>\n",
       "      <td>0.381387</td>\n",
       "      <td>4227168.0</td>\n",
       "      <td>22675.0</td>\n",
       "      <td>$10B-$50B</td>\n",
       "      <td>539666.0</td>\n",
       "      <td>9593.0</td>\n",
       "      <td>3687502.0</td>\n",
       "      <td>13082.0</td>\n",
       "      <td>0.01000</td>\n",
       "    </tr>\n",
       "  </tbody>\n",
       "</table>\n",
       "</div>"
      ],
      "text/plain": [
       "  Name of Lending Institution HQ State  Rank  TA Ratio1  TBL Ratio1  \\\n",
       "1       American Express Co.       NY    1.0   0.238290    0.999544   \n",
       "2    First Citizens Banchares      NC    2.0   0.187393    0.490830   \n",
       "3    Wintrust Financial Corp.      IL    3.0   0.168999    0.383561   \n",
       "4               Zions Bancorp      UT    4.0   0.117973    0.260577   \n",
       "5     Synovus Financial Corp.      GA    5.0   0.162333    0.381387   \n",
       "\n",
       "   Amount ($1,000)    Number      Lender Asset Size  Amount ($1,000).1  \\\n",
       "1       16350038.0  3603226.0  >$50B                        16318089.0   \n",
       "2        3914507.0   117702.0  $10B-$50B                      378394.0   \n",
       "3        2842793.0   136801.0  $10B-$50B                      800526.0   \n",
       "4        6231770.0    52612.0  >$50B                          526206.0   \n",
       "5        4227168.0    22675.0  $10B-$50B                      539666.0   \n",
       "\n",
       "   Number .1  Amount ($1,000).2  Number .2  CC Amount/TA1  \n",
       "1  3603088.0            31949.0      138.0        0.28000  \n",
       "2   105081.0          3536113.0    12621.0        0.02087  \n",
       "3   126455.0          2042267.0    10346.0        0.00000  \n",
       "4    32973.0          5705564.0    19639.0        0.00000  \n",
       "5     9593.0          3687502.0    13082.0        0.01000  "
      ]
     },
     "execution_count": 30,
     "metadata": {},
     "output_type": "execute_result"
    }
   ],
   "source": [
    "lend.head()"
   ]
  },
  {
   "cell_type": "code",
   "execution_count": 31,
   "metadata": {},
   "outputs": [
    {
     "data": {
      "text/plain": [
       "array(['>$50B               ', '$10B-$50B           ',\n",
       "       '>$10B               '], dtype=object)"
      ]
     },
     "execution_count": 31,
     "metadata": {},
     "output_type": "execute_result"
    }
   ],
   "source": [
    "lend['Lender Asset Size'].unique()"
   ]
  },
  {
   "cell_type": "code",
   "execution_count": 32,
   "metadata": {},
   "outputs": [],
   "source": [
    "lend['Lender Asset Size'] = lend['Lender Asset Size'].replace(['>$50B               ', '$10B-$50B           ',\n",
    "       '>$10B               '], [2,1, 0])"
   ]
  },
  {
   "cell_type": "code",
   "execution_count": 33,
   "metadata": {},
   "outputs": [
    {
     "data": {
      "text/html": [
       "<div>\n",
       "<style scoped>\n",
       "    .dataframe tbody tr th:only-of-type {\n",
       "        vertical-align: middle;\n",
       "    }\n",
       "\n",
       "    .dataframe tbody tr th {\n",
       "        vertical-align: top;\n",
       "    }\n",
       "\n",
       "    .dataframe thead th {\n",
       "        text-align: right;\n",
       "    }\n",
       "</style>\n",
       "<table border=\"1\" class=\"dataframe\">\n",
       "  <thead>\n",
       "    <tr style=\"text-align: right;\">\n",
       "      <th></th>\n",
       "      <th>Name of Lending Institution</th>\n",
       "      <th>HQ State</th>\n",
       "      <th>Rank</th>\n",
       "      <th>TA Ratio1</th>\n",
       "      <th>TBL Ratio1</th>\n",
       "      <th>Amount ($1,000)</th>\n",
       "      <th>Number</th>\n",
       "      <th>Lender Asset Size</th>\n",
       "      <th>Amount ($1,000).1</th>\n",
       "      <th>Number .1</th>\n",
       "      <th>Amount ($1,000).2</th>\n",
       "      <th>Number .2</th>\n",
       "      <th>CC Amount/TA1</th>\n",
       "    </tr>\n",
       "  </thead>\n",
       "  <tbody>\n",
       "    <tr>\n",
       "      <th>1</th>\n",
       "      <td>American Express Co.</td>\n",
       "      <td>NY</td>\n",
       "      <td>1.0</td>\n",
       "      <td>0.238290</td>\n",
       "      <td>0.999544</td>\n",
       "      <td>16350038.0</td>\n",
       "      <td>3603226.0</td>\n",
       "      <td>2</td>\n",
       "      <td>16318089.0</td>\n",
       "      <td>3603088.0</td>\n",
       "      <td>31949.0</td>\n",
       "      <td>138.0</td>\n",
       "      <td>0.28000</td>\n",
       "    </tr>\n",
       "    <tr>\n",
       "      <th>2</th>\n",
       "      <td>First Citizens Banchares</td>\n",
       "      <td>NC</td>\n",
       "      <td>2.0</td>\n",
       "      <td>0.187393</td>\n",
       "      <td>0.490830</td>\n",
       "      <td>3914507.0</td>\n",
       "      <td>117702.0</td>\n",
       "      <td>1</td>\n",
       "      <td>378394.0</td>\n",
       "      <td>105081.0</td>\n",
       "      <td>3536113.0</td>\n",
       "      <td>12621.0</td>\n",
       "      <td>0.02087</td>\n",
       "    </tr>\n",
       "    <tr>\n",
       "      <th>3</th>\n",
       "      <td>Wintrust Financial Corp.</td>\n",
       "      <td>IL</td>\n",
       "      <td>3.0</td>\n",
       "      <td>0.168999</td>\n",
       "      <td>0.383561</td>\n",
       "      <td>2842793.0</td>\n",
       "      <td>136801.0</td>\n",
       "      <td>1</td>\n",
       "      <td>800526.0</td>\n",
       "      <td>126455.0</td>\n",
       "      <td>2042267.0</td>\n",
       "      <td>10346.0</td>\n",
       "      <td>0.00000</td>\n",
       "    </tr>\n",
       "    <tr>\n",
       "      <th>4</th>\n",
       "      <td>Zions Bancorp</td>\n",
       "      <td>UT</td>\n",
       "      <td>4.0</td>\n",
       "      <td>0.117973</td>\n",
       "      <td>0.260577</td>\n",
       "      <td>6231770.0</td>\n",
       "      <td>52612.0</td>\n",
       "      <td>2</td>\n",
       "      <td>526206.0</td>\n",
       "      <td>32973.0</td>\n",
       "      <td>5705564.0</td>\n",
       "      <td>19639.0</td>\n",
       "      <td>0.00000</td>\n",
       "    </tr>\n",
       "    <tr>\n",
       "      <th>5</th>\n",
       "      <td>Synovus Financial Corp.</td>\n",
       "      <td>GA</td>\n",
       "      <td>5.0</td>\n",
       "      <td>0.162333</td>\n",
       "      <td>0.381387</td>\n",
       "      <td>4227168.0</td>\n",
       "      <td>22675.0</td>\n",
       "      <td>1</td>\n",
       "      <td>539666.0</td>\n",
       "      <td>9593.0</td>\n",
       "      <td>3687502.0</td>\n",
       "      <td>13082.0</td>\n",
       "      <td>0.01000</td>\n",
       "    </tr>\n",
       "  </tbody>\n",
       "</table>\n",
       "</div>"
      ],
      "text/plain": [
       "  Name of Lending Institution HQ State  Rank  TA Ratio1  TBL Ratio1  \\\n",
       "1       American Express Co.       NY    1.0   0.238290    0.999544   \n",
       "2    First Citizens Banchares      NC    2.0   0.187393    0.490830   \n",
       "3    Wintrust Financial Corp.      IL    3.0   0.168999    0.383561   \n",
       "4               Zions Bancorp      UT    4.0   0.117973    0.260577   \n",
       "5     Synovus Financial Corp.      GA    5.0   0.162333    0.381387   \n",
       "\n",
       "   Amount ($1,000)    Number   Lender Asset Size  Amount ($1,000).1  \\\n",
       "1       16350038.0  3603226.0                  2         16318089.0   \n",
       "2        3914507.0   117702.0                  1           378394.0   \n",
       "3        2842793.0   136801.0                  1           800526.0   \n",
       "4        6231770.0    52612.0                  2           526206.0   \n",
       "5        4227168.0    22675.0                  1           539666.0   \n",
       "\n",
       "   Number .1  Amount ($1,000).2  Number .2  CC Amount/TA1  \n",
       "1  3603088.0            31949.0      138.0        0.28000  \n",
       "2   105081.0          3536113.0    12621.0        0.02087  \n",
       "3   126455.0          2042267.0    10346.0        0.00000  \n",
       "4    32973.0          5705564.0    19639.0        0.00000  \n",
       "5     9593.0          3687502.0    13082.0        0.01000  "
      ]
     },
     "execution_count": 33,
     "metadata": {},
     "output_type": "execute_result"
    }
   ],
   "source": [
    "lend.head()"
   ]
  },
  {
   "cell_type": "code",
   "execution_count": null,
   "metadata": {},
   "outputs": [],
   "source": [
    "# from sklearn.preprocessing import LabelEncoder\n",
    "# label_encoder = LabelEncoder()\n",
    "# encoded = label_encoder.fit(lend['Lender Asset Size'])\n",
    "# lend['Lender Asset Size'] = encoded.tranform(lend['Lender Asset Size'])"
   ]
  },
  {
   "cell_type": "markdown",
   "metadata": {},
   "source": [
    "# convert to csv "
   ]
  },
  {
   "cell_type": "code",
   "execution_count": 40,
   "metadata": {},
   "outputs": [],
   "source": [
    "lend.to_csv(r\"C:\\Users\\bepec\\desktop\\lend.csv\", index=False)\n"
   ]
  },
  {
   "cell_type": "code",
   "execution_count": 38,
   "metadata": {},
   "outputs": [
    {
     "name": "stdout",
     "output_type": "stream",
     "text": [
      "C:\\Users\\bepec\n"
     ]
    }
   ],
   "source": [
    "cd"
   ]
  },
  {
   "cell_type": "code",
   "execution_count": 39,
   "metadata": {},
   "outputs": [
    {
     "name": "stdout",
     "output_type": "stream",
     "text": [
      "C:\\Users\\bepec\\desktop\n"
     ]
    }
   ],
   "source": [
    "cd desktop"
   ]
  },
  {
   "cell_type": "code",
   "execution_count": null,
   "metadata": {},
   "outputs": [],
   "source": []
  }
 ],
 "metadata": {
  "kernelspec": {
   "display_name": "Python 3 (ipykernel)",
   "language": "python",
   "name": "python3"
  },
  "language_info": {
   "codemirror_mode": {
    "name": "ipython",
    "version": 3
   },
   "file_extension": ".py",
   "mimetype": "text/x-python",
   "name": "python",
   "nbconvert_exporter": "python",
   "pygments_lexer": "ipython3",
   "version": "3.8.8"
  },
  "toc": {
   "base_numbering": 1,
   "nav_menu": {},
   "number_sections": true,
   "sideBar": true,
   "skip_h1_title": false,
   "title_cell": "Table of Contents",
   "title_sidebar": "Contents",
   "toc_cell": false,
   "toc_position": {},
   "toc_section_display": true,
   "toc_window_display": true
  }
 },
 "nbformat": 4,
 "nbformat_minor": 4
}
