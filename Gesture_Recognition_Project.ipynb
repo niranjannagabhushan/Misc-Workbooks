{
  "cells": [
    {
      "cell_type": "markdown",
      "metadata": {
        "id": "BRqYUTwG4U1P"
      },
      "source": [
        "\n",
        "## Gesture Recognition Project\n",
        "By Divya Jayendrakumar Sodha\n",
        "> ### Problem Statement\n",
        "As a data scientist at a home electronics company which manufactures state of the art smart televisions, the task here is to develop a cool feature in the smart-TV that can recognise five different gestures performed by the user which will help users control the TV without using a remote.\n",
        "\n",
        ">The gestures are continuously monitored by the webcam mounted on the TV. Each gesture corresponds to a specific command:\n",
        " \n",
        ">| Gesture | Corresponding Action |\n",
        "| --- | --- | \n",
        "| Thumbs Up | Increase the volume. |\n",
        "| Thumbs Down | Decrease the volume. |\n",
        "| Left Swipe | 'Jump' backwards 10 seconds. |\n",
        "| Right Swipe | 'Jump' forward 10 seconds. |\n",
        "| Stop | Pause the movie. |\n",
        "\n",
        ">Each video is a sequence of 30 frames (or images).\n",
        "\n",
        ">### Objectives:\n",
        "1. **Generator**:  The generator should be able to take a batch of videos as input without any error. Steps like cropping, resizing and normalization should be performed successfully.\n",
        "2. **Model**: To develop a model that is able to train without any errors which will be judged on the total number of parameters (as the inference(prediction) time should be less) and the accuracy achieved. We started by training on a small number of epochs and then proceeded further.\n",
        "3. **Write up**: This should contain the detailed procedure followed in choosing the final model."
      ]
    },
    {
      "cell_type": "code",
      "execution_count": null,
      "metadata": {
        "id": "akxosEBB4U1W"
      },
      "outputs": [],
      "source": [
        "# Importing the necessary libraries\n",
        "\n",
        "import numpy as np\n",
        "import os\n",
        "from cv2 import resize\n",
        "from imageio import imread\n",
        "# from scipy.misc import imread, imresize\n",
        "from sklearn.model_selection import train_test_split\n",
        "import datetime\n",
        "import os\n",
        "import warnings\n",
        "warnings.filterwarnings(\"ignore\")\n",
        "import abc\n",
        "from sys import getsizeof"
      ]
    },
    {
      "cell_type": "markdown",
      "metadata": {
        "id": "DsNqSIDc4U1X"
      },
      "source": [
        "We set the random seed so that the results don't vary drastically."
      ]
    },
    {
      "cell_type": "code",
      "execution_count": null,
      "metadata": {
        "id": "Nwz1p2Am4U1X"
      },
      "outputs": [],
      "source": [
        "np.random.seed(30)\n",
        "import random as rn\n",
        "rn.seed(30)\n",
        "from keras import backend as K\n",
        "import tensorflow as tf\n",
        "tf.random.set_seed(30)"
      ]
    },
    {
      "cell_type": "code",
      "execution_count": null,
      "metadata": {
        "id": "ShBGEMlj4U1Y"
      },
      "outputs": [],
      "source": [
        "import cv2\n",
        "import matplotlib.pyplot as plt"
      ]
    },
    {
      "cell_type": "code",
      "execution_count": null,
      "metadata": {
        "id": "VCO9DUGg4U1Z"
      },
      "outputs": [],
      "source": [
        "# importing some other libraries which will be needed for model building.\n",
        "\n",
        "from keras.models import Sequential, Model\n",
        "from keras.layers import Dense, GRU, Flatten, TimeDistributed, Flatten, BatchNormalization, Activation, LSTM, GlobalAveragePooling3D, GlobalAveragePooling2D, ConvLSTM2D\n",
        "from keras.layers.convolutional import Conv3D, MaxPooling3D, Conv2D, MaxPooling2D\n",
        "from keras.callbacks import ModelCheckpoint, ReduceLROnPlateau, EarlyStopping\n",
        "from keras import optimizers\n",
        "from keras.layers import Dropout"
      ]
    },
    {
      "cell_type": "code",
      "execution_count": null,
      "metadata": {
        "colab": {
          "base_uri": "https://localhost:8080/"
        },
        "id": "n_oj_3FPXbvo",
        "outputId": "7df24c31-6b3c-4b85-a0ec-e9cdec082852"
      },
      "outputs": [
        {
          "output_type": "stream",
          "name": "stdout",
          "text": [
            "Mounted at /content/drive/\n"
          ]
        }
      ],
      "source": [
        "# extracting Dataset\n",
        "\n",
        "import zipfile\n",
        "from google.colab import drive\n",
        "\n",
        "drive.mount('/content/drive/')\n",
        "\n",
        "try:\n",
        "    with zipfile.ZipFile(\"/content/drive/MyDrive/Upgrad/Deep Learning/CNN_RNN_Assignment/Project_data.zip\",\"r\") as zip_ref:\n",
        "        zip_ref.extractall(\"/content\")\n",
        "except OSError as e:\n",
        "    print('Error:', e.strerror)  "
      ]
    },
    {
      "cell_type": "code",
      "execution_count": null,
      "metadata": {
        "id": "RT3uK2Kk4U1Z"
      },
      "outputs": [],
      "source": [
        "project_folder='/content/Project_data'"
      ]
    },
    {
      "cell_type": "markdown",
      "metadata": {
        "id": "MEqCag-h4U1a"
      },
      "source": [
        "##### Plotting"
      ]
    },
    {
      "cell_type": "code",
      "execution_count": null,
      "metadata": {
        "id": "4rFDnYU94U1a"
      },
      "outputs": [],
      "source": [
        "# function to plot the training/validation accuracies/losses.\n",
        "\n",
        "def plot_accuracy_and_loss(history):\n",
        "    fig, axes = plt.subplots(nrows=1, ncols=2, figsize=(15,4))\n",
        "    axes[0].plot(history.history['loss'])   \n",
        "    axes[0].plot(history.history['val_loss'])\n",
        "    axes[0].legend(['loss','val_loss'])\n",
        "\n",
        "    axes[1].plot(history.history['categorical_accuracy'])   \n",
        "    axes[1].plot(history.history['val_categorical_accuracy'])\n",
        "    axes[1].legend(['categorical_accuracy','val_categorical_accuracy'])"
      ]
    },
    {
      "cell_type": "code",
      "execution_count": null,
      "metadata": {
        "id": "8XcdHaG_HmGZ"
      },
      "outputs": [],
      "source": []
    },
    {
      "cell_type": "markdown",
      "metadata": {
        "id": "R_bgrr4i4U1a"
      },
      "source": [
        "## Basic Customizable Class with methods for creating generators, training model, etc. \n",
        "> 1) Few Initializations methods for path, image properperties and hyperparameters\n",
        "\n",
        ">2) The overall structure of the generator has been given. In the generator, we are going to preprocess the images as we have images of 2 different dimensions as well as create a batch of video frames. \n",
        "\n",
        ">3) Generalized method for building model and evaluating it.\n",
        "\n",
        ">**Note:\n",
        "Here, we are splitting the train folder for training and validation purpose. We are using the valid folder of dataset to test/evaluate how robust the model is.**"
      ]
    },
    {
      "cell_type": "code",
      "execution_count": null,
      "metadata": {
        "id": "Nk8Kx3aSLda7"
      },
      "outputs": [],
      "source": []
    },
    {
      "cell_type": "code",
      "execution_count": null,
      "metadata": {
        "id": "As7fIHbw4U1b"
      },
      "outputs": [],
      "source": [
        "class ModelBuilderClass():\n",
        "    \n",
        "    def initialize_path(self,project_folder):\n",
        "        data = np.random.permutation(open(project_folder + '/' + 'train.csv').readlines())\n",
        "        self.train_doc, self.val_doc = train_test_split(data,test_size=0.1)\n",
        "        self.test_doc = np.random.permutation(open(project_folder + '/' + 'val.csv').readlines())\n",
        "        self.train_path = project_folder + '/' + 'train'\n",
        "        self.val_path =  project_folder + '/' + 'train'\n",
        "        self.test_path = project_folder + '/' + 'val'\n",
        "        self.num_train_sequences = len(self.train_doc)\n",
        "        self.num_val_sequences = len(self.val_doc)\n",
        "        self.num_test_sequences = len(self.test_doc)\n",
        "        \n",
        "    def initialize_image_properties(self,image_height=100,image_width=100):\n",
        "        self.image_height=image_height\n",
        "        self.image_width=image_width\n",
        "        self.channels=3\n",
        "        self.num_classes=5\n",
        "        self.total_frames=30\n",
        "          \n",
        "    def initialize_hyperparams(self,frames_to_sample=30,batch_size=20,num_epochs=20):\n",
        "        self.frames_to_sample=frames_to_sample\n",
        "        self.batch_size=batch_size\n",
        "        self.num_epochs=num_epochs\n",
        "        \n",
        "        \n",
        "    def generator(self,source_path, folder_list, augment=False):\n",
        "        img_idx = np.round(np.linspace(0,self.total_frames-1,self.frames_to_sample)).astype(int)\n",
        "        batch_size=self.batch_size\n",
        "        while True:\n",
        "            t = np.random.permutation(folder_list)\n",
        "            num_batches = len(t)//batch_size\n",
        "        \n",
        "            for batch in range(num_batches): \n",
        "                batch_data, batch_labels= self.one_batch_data(source_path,t,batch,batch_size,img_idx,augment)\n",
        "                yield batch_data, batch_labels \n",
        "\n",
        "            remaining_seq=len(t)%batch_size\n",
        "        \n",
        "            if (remaining_seq != 0):\n",
        "                batch_data, batch_labels= self.one_batch_data(source_path,t,num_batches,batch_size,img_idx,augment,remaining_seq)\n",
        "                yield batch_data, batch_labels \n",
        "    \n",
        "    \n",
        "    def one_batch_data(self,source_path,t,batch,batch_size,img_idx,augment,remaining_seq=0):\n",
        "    \n",
        "        seq_len = remaining_seq if remaining_seq else batch_size\n",
        "    \n",
        "        batch_data = np.zeros((seq_len,len(img_idx),self.image_height,self.image_width,self.channels)) \n",
        "        batch_labels = np.zeros((seq_len,self.num_classes)) \n",
        "    \n",
        "        if (augment): batch_data_aug = np.zeros((seq_len,len(img_idx),self.image_height,self.image_width,self.channels))\n",
        "\n",
        "        \n",
        "        for folder in range(seq_len): \n",
        "            imgs = os.listdir(source_path+'/'+ t[folder + (batch*batch_size)].split(';')[0]) \n",
        "            for idx,item in enumerate(img_idx): \n",
        "                image = imread(source_path+'/'+ t[folder + (batch*batch_size)].strip().split(';')[0]+'/'+imgs[item]).astype(np.float32)\n",
        "                image_resized=resize(image,(self.image_height,self.image_width))\n",
        "            \n",
        "\n",
        "                batch_data[folder,idx,:,:,0] = (image_resized[:,:,0])/255\n",
        "                batch_data[folder,idx,:,:,1] = (image_resized[:,:,1])/255\n",
        "                batch_data[folder,idx,:,:,2] = (image_resized[:,:,2])/255\n",
        "            \n",
        "                if (augment):\n",
        "                    shifted = cv2.warpAffine(image, \n",
        "                                             np.float32([[1, 0, np.random.randint(-30,30)],[0, 1, np.random.randint(-30,30)]]), \n",
        "                                            (image.shape[1], image.shape[0]))\n",
        "                    \n",
        "                    gray = cv2.cvtColor(shifted,cv2.COLOR_BGR2GRAY)\n",
        "\n",
        "                    x0, y0 = np.argwhere(gray > 0).min(axis=0)\n",
        "                    x1, y1 = np.argwhere(gray > 0).max(axis=0) \n",
        "                    \n",
        "                    cropped=shifted[x0:x1,y0:y1,:]\n",
        "                    \n",
        "                    image_resized=resize(cropped,(self.image_height,self.image_width))\n",
        "                    \n",
        "        \n",
        "                    batch_data_aug[folder,idx,:,:,0] = (image_resized[:,:,0])/255\n",
        "                    batch_data_aug[folder,idx,:,:,1] = (image_resized[:,:,1])/255\n",
        "                    batch_data_aug[folder,idx,:,:,2] = (image_resized[:,:,2])/255\n",
        "                \n",
        "            \n",
        "            batch_labels[folder, int(t[folder + (batch*batch_size)].strip().split(';')[2])] = 1\n",
        "            \n",
        "    \n",
        "        if (augment):\n",
        "            batch_data=np.concatenate([batch_data,batch_data_aug])\n",
        "            batch_labels=np.concatenate([batch_labels,batch_labels])\n",
        "\n",
        "        \n",
        "        return(batch_data,batch_labels)\n",
        "    \n",
        "    \n",
        "    def train_model(self, model, augment_data=False):\n",
        "        train_generator = self.generator(self.train_path, self.train_doc,augment=augment_data)\n",
        "        val_generator = self.generator(self.val_path, self.val_doc)\n",
        "        test_generator = self.generator(self.test_path, self.test_doc)\n",
        "\n",
        "        model_name = 'model_init' + '_' + str(datetime.datetime.now()).replace(' ','').replace(':','_') + '/'\n",
        "    \n",
        "        if not os.path.exists(model_name):\n",
        "            os.mkdir(model_name)\n",
        "        \n",
        "        filepath = model_name + 'model-{epoch:05d}-{loss:.5f}-{categorical_accuracy:.5f}-{val_loss:.5f}-{val_categorical_accuracy:.5f}.h5'\n",
        "\n",
        "        checkpoint = ModelCheckpoint(filepath, monitor='val_loss', verbose=1, save_best_only=True, save_weights_only=False, mode='auto', period=1)\n",
        "        LR = ReduceLROnPlateau(monitor='val_loss', factor=0.2, verbose=1, patience=4)\n",
        "        earlystop = EarlyStopping( monitor=\"val_loss\", min_delta=0,patience=10,verbose=1)\n",
        "        callbacks_list = [checkpoint, LR, earlystop]\n",
        "\n",
        "        if (self.num_train_sequences%self.batch_size) == 0:\n",
        "            steps_per_epoch = int(self.num_train_sequences/self.batch_size)\n",
        "        else:\n",
        "            steps_per_epoch = (self.num_train_sequences//self.batch_size) + 1\n",
        "\n",
        "        if (self.num_test_sequences%self.batch_size) == 0:\n",
        "            test_steps = int(self.num_test_sequences/self.batch_size)\n",
        "        else:\n",
        "            test_steps = (self.num_test_sequences//self.batch_size) + 1\n",
        "\n",
        "        if (self.num_val_sequences%self.batch_size) == 0:\n",
        "            validation_steps = int(self.num_val_sequences/self.batch_size)\n",
        "        else:\n",
        "            validation_steps = (self.num_val_sequences//self.batch_size) + 1\n",
        "    \n",
        "        history=model.fit_generator(train_generator, steps_per_epoch=steps_per_epoch, epochs=self.num_epochs, verbose=1, \n",
        "                            callbacks=callbacks_list, \n",
        "                            validation_data=val_generator, \n",
        "                            validation_steps=validation_steps, class_weight=None, workers=1, initial_epoch=0)\n",
        "\n",
        "        # plot_accuracy_and_loss(history)\n",
        "        # print(model.evaluate_generator(val_generator))\n",
        "\n",
        "        # Evaluate the model\n",
        "        print('Evaluating')\n",
        "        test_loss, test_acc = model.evaluate_generator(test_generator, test_steps)\n",
        "        print('\\nTest accuracy:', test_acc)\n",
        "        print('\\nTest loss:', test_loss)\n",
        "\n",
        "        return history\n",
        "\n",
        "        \n",
        "    def define_model(self):\n",
        "        pass"
      ]
    },
    {
      "cell_type": "code",
      "execution_count": null,
      "metadata": {
        "id": "aHbjCzDALS1n"
      },
      "outputs": [],
      "source": []
    },
    {
      "cell_type": "markdown",
      "metadata": {
        "id": "WsrAvCBGDmuK"
      },
      "source": [
        "## Sample Model\n"
      ]
    },
    {
      "cell_type": "code",
      "execution_count": null,
      "metadata": {
        "id": "8rdQmuWvDmuL"
      },
      "outputs": [],
      "source": [
        "class SampleModelConv3D(ModelBuilderClass):\n",
        "    \n",
        "    def define_model(self,filtersize=(3,3,3),dense_neurons=64,dropout=0.25):\n",
        "\n",
        "        model = Sequential()\n",
        "        model.add(Conv3D(16, kernel_size=3, activation='relu', input_shape=(self.frames_to_sample,self.image_height,self.image_width,self.channels)))\n",
        "        model.add(Conv3D(32, kernel_size=3, activation='relu'))\n",
        "        model.add(MaxPooling3D(pool_size=(2, 2, 2)))\n",
        "        model.add(Dropout(0.5))\n",
        "\n",
        "        model.add(Conv3D(64, kernel_size=3, activation='relu'))\n",
        "        model.add(MaxPooling3D(pool_size=(2, 2, 2)))\n",
        "        model.add(Dropout(0.5))\n",
        "              \n",
        "        model.add(Flatten())\n",
        "        model.add(Dense(128,activation='relu'))\n",
        "        model.add(Dense(self.num_classes,activation='softmax'))\n",
        "\n",
        "        adam_optimizer = tf.keras.optimizers.Adam()\n",
        "        model.compile(optimizer=adam_optimizer, loss='categorical_crossentropy', metrics=['categorical_accuracy'])\n",
        "        return model"
      ]
    },
    {
      "cell_type": "markdown",
      "metadata": {
        "id": "DQAGIsDtL1pH"
      },
      "source": [
        ">**Note**:\n",
        "We set the batch size as 32 on the basis of GPU utilization capacity. We kept increasing the batch size until the machine threw an error. "
      ]
    },
    {
      "cell_type": "markdown",
      "metadata": {
        "id": "4pube-HAMEdK"
      },
      "source": [
        "> Next we are experimenting with image dimesions and frame sizes to decide based on trade off between number of parameters and accuracy."
      ]
    },
    {
      "cell_type": "code",
      "execution_count": null,
      "metadata": {
        "colab": {
          "base_uri": "https://localhost:8080/"
        },
        "id": "ih7ims5fD8oZ",
        "outputId": "2303d69f-dc92-492e-eefd-e61bf0b39568"
      },
      "outputs": [
        {
          "output_type": "stream",
          "name": "stderr",
          "text": [
            "WARNING:tensorflow:`period` argument is deprecated. Please use `save_freq` to specify the frequency in number of batches seen.\n"
          ]
        },
        {
          "output_type": "stream",
          "name": "stdout",
          "text": [
            "Total Params: 14816901\n",
            "Epoch 1/5\n",
            "19/19 [==============================] - ETA: 0s - loss: 2.5959 - categorical_accuracy: 0.2198\n",
            "Epoch 1: val_loss improved from inf to 1.60076, saving model to model_init_2022-10-1414_34_42.407549/model-00001-2.59587-0.21980-1.60076-0.31343.h5\n",
            "19/19 [==============================] - 47s 2s/step - loss: 2.5959 - categorical_accuracy: 0.2198 - val_loss: 1.6008 - val_categorical_accuracy: 0.3134 - lr: 0.0010\n",
            "Epoch 2/5\n",
            "19/19 [==============================] - ETA: 0s - loss: 1.5583 - categorical_accuracy: 0.2936\n",
            "Epoch 2: val_loss improved from 1.60076 to 1.58125, saving model to model_init_2022-10-1414_34_42.407549/model-00002-1.55830-0.29362-1.58125-0.34328.h5\n",
            "19/19 [==============================] - 31s 2s/step - loss: 1.5583 - categorical_accuracy: 0.2936 - val_loss: 1.5813 - val_categorical_accuracy: 0.3433 - lr: 0.0010\n",
            "Epoch 3/5\n",
            "19/19 [==============================] - ETA: 0s - loss: 1.4233 - categorical_accuracy: 0.4144\n",
            "Epoch 3: val_loss improved from 1.58125 to 1.31719, saving model to model_init_2022-10-1414_34_42.407549/model-00003-1.42331-0.41443-1.31719-0.47761.h5\n",
            "19/19 [==============================] - 36s 2s/step - loss: 1.4233 - categorical_accuracy: 0.4144 - val_loss: 1.3172 - val_categorical_accuracy: 0.4776 - lr: 0.0010\n",
            "Epoch 4/5\n",
            "19/19 [==============================] - ETA: 0s - loss: 1.2957 - categorical_accuracy: 0.4715\n",
            "Epoch 4: val_loss improved from 1.31719 to 1.29909, saving model to model_init_2022-10-1414_34_42.407549/model-00004-1.29568-0.47148-1.29909-0.47761.h5\n",
            "19/19 [==============================] - 33s 2s/step - loss: 1.2957 - categorical_accuracy: 0.4715 - val_loss: 1.2991 - val_categorical_accuracy: 0.4776 - lr: 0.0010\n",
            "Epoch 5/5\n",
            "19/19 [==============================] - ETA: 0s - loss: 1.1607 - categorical_accuracy: 0.5336\n",
            "Epoch 5: val_loss improved from 1.29909 to 1.22316, saving model to model_init_2022-10-1414_34_42.407549/model-00005-1.16075-0.53356-1.22316-0.55224.h5\n",
            "19/19 [==============================] - 32s 2s/step - loss: 1.1607 - categorical_accuracy: 0.5336 - val_loss: 1.2232 - val_categorical_accuracy: 0.5522 - lr: 0.0010\n",
            "Evaluating\n",
            "\n",
            "Test accuracy: 0.5600000023841858\n",
            "\n",
            "Test loss: 1.1927552223205566\n"
          ]
        },
        {
          "output_type": "execute_result",
          "data": {
            "text/plain": [
              "<keras.callbacks.History at 0x7ffad02d9b90>"
            ]
          },
          "metadata": {},
          "execution_count": 10
        }
      ],
      "source": [
        "trial1=SampleModelConv3D()\n",
        "trial1.initialize_path(project_folder)\n",
        "trial1.initialize_image_properties(image_height=128,image_width=128)\n",
        "trial1.initialize_hyperparams(frames_to_sample=16,batch_size=32,num_epochs=5)\n",
        "trial1_model=trial1.define_model()\n",
        "print(\"Total Params:\", trial1_model.count_params())\n",
        "trial1.train_model(trial1_model)"
      ]
    },
    {
      "cell_type": "code",
      "execution_count": null,
      "metadata": {
        "id": "-xj6QEobEG4t",
        "colab": {
          "base_uri": "https://localhost:8080/"
        },
        "outputId": "14fe5626-ec14-4a07-dace-31e9ed69f231"
      },
      "outputs": [
        {
          "output_type": "stream",
          "name": "stderr",
          "text": [
            "WARNING:tensorflow:`period` argument is deprecated. Please use `save_freq` to specify the frequency in number of batches seen.\n"
          ]
        },
        {
          "output_type": "stream",
          "name": "stdout",
          "text": [
            "Total Params: 22189701\n",
            "Epoch 1/5\n",
            "19/19 [==============================] - ETA: 0s - loss: 5.4964 - categorical_accuracy: 0.2047\n",
            "Epoch 1: val_loss improved from inf to 1.60948, saving model to model_init_2022-10-1414_38_12.928898/model-00001-5.49637-0.20470-1.60948-0.20896.h5\n",
            "19/19 [==============================] - 52s 3s/step - loss: 5.4964 - categorical_accuracy: 0.2047 - val_loss: 1.6095 - val_categorical_accuracy: 0.2090 - lr: 0.0010\n",
            "Epoch 2/5\n",
            "19/19 [==============================] - ETA: 0s - loss: 1.6094 - categorical_accuracy: 0.1946\n",
            "Epoch 2: val_loss did not improve from 1.60948\n",
            "19/19 [==============================] - 38s 2s/step - loss: 1.6094 - categorical_accuracy: 0.1946 - val_loss: 1.6100 - val_categorical_accuracy: 0.1940 - lr: 0.0010\n",
            "Epoch 3/5\n",
            "19/19 [==============================] - ETA: 0s - loss: 1.6094 - categorical_accuracy: 0.1946\n",
            "Epoch 3: val_loss improved from 1.60948 to 1.60927, saving model to model_init_2022-10-1414_38_12.928898/model-00003-1.60944-0.19463-1.60927-0.22388.h5\n",
            "19/19 [==============================] - 38s 2s/step - loss: 1.6094 - categorical_accuracy: 0.1946 - val_loss: 1.6093 - val_categorical_accuracy: 0.2239 - lr: 0.0010\n",
            "Epoch 4/5\n",
            "19/19 [==============================] - ETA: 0s - loss: 1.6094 - categorical_accuracy: 0.1762\n",
            "Epoch 4: val_loss did not improve from 1.60927\n",
            "19/19 [==============================] - 38s 2s/step - loss: 1.6094 - categorical_accuracy: 0.1762 - val_loss: 1.6094 - val_categorical_accuracy: 0.2090 - lr: 0.0010\n",
            "Epoch 5/5\n",
            "19/19 [==============================] - ETA: 0s - loss: 1.6094 - categorical_accuracy: 0.2064\n",
            "Epoch 5: val_loss did not improve from 1.60927\n",
            "19/19 [==============================] - 38s 2s/step - loss: 1.6094 - categorical_accuracy: 0.2064 - val_loss: 1.6108 - val_categorical_accuracy: 0.1642 - lr: 0.0010\n",
            "Evaluating\n",
            "\n",
            "Test accuracy: 0.20999999344348907\n",
            "\n",
            "Test loss: 1.6085197925567627\n"
          ]
        },
        {
          "output_type": "execute_result",
          "data": {
            "text/plain": [
              "<keras.callbacks.History at 0x7ffa7c501a10>"
            ]
          },
          "metadata": {},
          "execution_count": 11
        }
      ],
      "source": [
        "trial2=SampleModelConv3D()\n",
        "trial2.initialize_path(project_folder)\n",
        "trial2.initialize_image_properties(image_height=128,image_width=128)\n",
        "trial2.initialize_hyperparams(frames_to_sample=20,batch_size=32,num_epochs=5)\n",
        "trial2_model=trial2.define_model()\n",
        "print(\"Total Params:\", trial2_model.count_params())\n",
        "trial2.train_model(trial2_model)"
      ]
    },
    {
      "cell_type": "code",
      "execution_count": null,
      "metadata": {
        "id": "8rLl4wgVF3IQ",
        "colab": {
          "base_uri": "https://localhost:8080/"
        },
        "outputId": "d74e0a10-890d-4a7d-b190-60efecd65ca4"
      },
      "outputs": [
        {
          "output_type": "stream",
          "name": "stderr",
          "text": [
            "WARNING:tensorflow:`period` argument is deprecated. Please use `save_freq` to specify the frequency in number of batches seen.\n"
          ]
        },
        {
          "output_type": "stream",
          "name": "stdout",
          "text": [
            "Total Params: 3282565\n",
            "Epoch 1/5\n",
            "19/19 [==============================] - ETA: 0s - loss: 1.7354 - categorical_accuracy: 0.2064\n",
            "Epoch 1: val_loss improved from inf to 1.60881, saving model to model_init_2022-10-1414_42_47.332881/model-00001-1.73545-0.20638-1.60881-0.17910.h5\n",
            "19/19 [==============================] - 26s 1s/step - loss: 1.7354 - categorical_accuracy: 0.2064 - val_loss: 1.6088 - val_categorical_accuracy: 0.1791 - lr: 0.0010\n",
            "Epoch 2/5\n",
            "19/19 [==============================] - ETA: 0s - loss: 1.5760 - categorical_accuracy: 0.2148\n",
            "Epoch 2: val_loss improved from 1.60881 to 1.58452, saving model to model_init_2022-10-1414_42_47.332881/model-00002-1.57597-0.21477-1.58452-0.19403.h5\n",
            "19/19 [==============================] - 25s 1s/step - loss: 1.5760 - categorical_accuracy: 0.2148 - val_loss: 1.5845 - val_categorical_accuracy: 0.1940 - lr: 0.0010\n",
            "Epoch 3/5\n",
            "19/19 [==============================] - ETA: 0s - loss: 1.5283 - categorical_accuracy: 0.2483\n",
            "Epoch 3: val_loss improved from 1.58452 to 1.53799, saving model to model_init_2022-10-1414_42_47.332881/model-00003-1.52834-0.24832-1.53799-0.29851.h5\n",
            "19/19 [==============================] - 25s 1s/step - loss: 1.5283 - categorical_accuracy: 0.2483 - val_loss: 1.5380 - val_categorical_accuracy: 0.2985 - lr: 0.0010\n",
            "Epoch 4/5\n",
            "19/19 [==============================] - ETA: 0s - loss: 1.4361 - categorical_accuracy: 0.3154\n",
            "Epoch 4: val_loss improved from 1.53799 to 1.45432, saving model to model_init_2022-10-1414_42_47.332881/model-00004-1.43610-0.31544-1.45432-0.32836.h5\n",
            "19/19 [==============================] - 25s 1s/step - loss: 1.4361 - categorical_accuracy: 0.3154 - val_loss: 1.4543 - val_categorical_accuracy: 0.3284 - lr: 0.0010\n",
            "Epoch 5/5\n",
            "19/19 [==============================] - ETA: 0s - loss: 1.3361 - categorical_accuracy: 0.4430\n",
            "Epoch 5: val_loss improved from 1.45432 to 1.41935, saving model to model_init_2022-10-1414_42_47.332881/model-00005-1.33610-0.44295-1.41935-0.31343.h5\n",
            "19/19 [==============================] - 26s 1s/step - loss: 1.3361 - categorical_accuracy: 0.4430 - val_loss: 1.4193 - val_categorical_accuracy: 0.3134 - lr: 0.0010\n",
            "Evaluating\n",
            "\n",
            "Test accuracy: 0.5\n",
            "\n",
            "Test loss: 1.3519408702850342\n"
          ]
        },
        {
          "output_type": "execute_result",
          "data": {
            "text/plain": [
              "<keras.callbacks.History at 0x7ffa7c2c6790>"
            ]
          },
          "metadata": {},
          "execution_count": 12
        }
      ],
      "source": [
        "trial3=SampleModelConv3D()\n",
        "trial3.initialize_path(project_folder)\n",
        "trial3.initialize_image_properties(image_height=64,image_width=64)\n",
        "trial3.initialize_hyperparams(frames_to_sample=16,batch_size=32,num_epochs=5)\n",
        "trial3_model=trial3.define_model()\n",
        "print(\"Total Params:\", trial3_model.count_params())\n",
        "trial3.train_model(trial3_model)"
      ]
    },
    {
      "cell_type": "code",
      "execution_count": null,
      "metadata": {
        "id": "VJUSwwQMF3ly",
        "colab": {
          "base_uri": "https://localhost:8080/"
        },
        "outputId": "a119911c-0b88-4096-ce6b-8ccf0e414afa"
      },
      "outputs": [
        {
          "output_type": "stream",
          "name": "stderr",
          "text": [
            "WARNING:tensorflow:`period` argument is deprecated. Please use `save_freq` to specify the frequency in number of batches seen.\n"
          ]
        },
        {
          "output_type": "stream",
          "name": "stdout",
          "text": [
            "Total Params: 4888197\n",
            "Epoch 1/5\n",
            "19/19 [==============================] - ETA: 0s - loss: 2.4655 - categorical_accuracy: 0.2114\n",
            "Epoch 1: val_loss improved from inf to 1.60991, saving model to model_init_2022-10-1414_45_16.658978/model-00001-2.46549-0.21141-1.60991-0.19403.h5\n",
            "19/19 [==============================] - 33s 2s/step - loss: 2.4655 - categorical_accuracy: 0.2114 - val_loss: 1.6099 - val_categorical_accuracy: 0.1940 - lr: 0.0010\n",
            "Epoch 2/5\n",
            "19/19 [==============================] - ETA: 0s - loss: 1.6094 - categorical_accuracy: 0.2081\n",
            "Epoch 2: val_loss did not improve from 1.60991\n",
            "19/19 [==============================] - 33s 2s/step - loss: 1.6094 - categorical_accuracy: 0.2081 - val_loss: 1.6104 - val_categorical_accuracy: 0.1642 - lr: 0.0010\n",
            "Epoch 3/5\n",
            "19/19 [==============================] - ETA: 0s - loss: 1.6095 - categorical_accuracy: 0.2081\n",
            "Epoch 3: val_loss did not improve from 1.60991\n",
            "19/19 [==============================] - 31s 2s/step - loss: 1.6095 - categorical_accuracy: 0.2081 - val_loss: 1.6108 - val_categorical_accuracy: 0.1791 - lr: 0.0010\n",
            "Epoch 4/5\n",
            "19/19 [==============================] - ETA: 0s - loss: 1.6093 - categorical_accuracy: 0.2081\n",
            "Epoch 4: val_loss did not improve from 1.60991\n",
            "19/19 [==============================] - 31s 2s/step - loss: 1.6093 - categorical_accuracy: 0.2081 - val_loss: 1.6103 - val_categorical_accuracy: 0.1940 - lr: 0.0010\n",
            "Epoch 5/5\n",
            "19/19 [==============================] - ETA: 0s - loss: 1.6093 - categorical_accuracy: 0.2081\n",
            "Epoch 5: val_loss improved from 1.60991 to 1.60896, saving model to model_init_2022-10-1414_45_16.658978/model-00005-1.60925-0.20805-1.60896-0.22388.h5\n",
            "19/19 [==============================] - 32s 2s/step - loss: 1.6093 - categorical_accuracy: 0.2081 - val_loss: 1.6090 - val_categorical_accuracy: 0.2239 - lr: 0.0010\n",
            "Evaluating\n",
            "\n",
            "Test accuracy: 0.20999999344348907\n",
            "\n",
            "Test loss: 1.6093497276306152\n"
          ]
        },
        {
          "output_type": "execute_result",
          "data": {
            "text/plain": [
              "<keras.callbacks.History at 0x7ffa7c0e1ed0>"
            ]
          },
          "metadata": {},
          "execution_count": 13
        }
      ],
      "source": [
        "trial4=SampleModelConv3D()\n",
        "trial4.initialize_path(project_folder)\n",
        "trial4.initialize_image_properties(image_height=64,image_width=64)\n",
        "trial4.initialize_hyperparams(frames_to_sample=20,batch_size=32,num_epochs=5)\n",
        "trial4_model=trial4.define_model()\n",
        "print(\"Total Params:\", trial4_model.count_params())\n",
        "trial4.train_model(trial4_model)"
      ]
    },
    {
      "cell_type": "markdown",
      "source": [
        "> **Note**\n",
        " Following hyper parameters are considered based on above experimentation on image size, frame size, etc :-\n",
        " 1. image_height=64\n",
        " 2. image_width=64\n",
        " 3. frames_to_sample=16\n",
        " 4. batch_size=32 (As already mentioned above)\n",
        "\n",
        " > Here, we tried to keep the parameters in power of 2 since  it is efficient for computation."
      ],
      "metadata": {
        "id": "ZPWSv60gZR9j"
      }
    },
    {
      "cell_type": "markdown",
      "metadata": {
        "id": "3-ghZWeh4U1j"
      },
      "source": [
        "## Model 1 - Conv3D \n"
      ]
    },
    {
      "cell_type": "markdown",
      "source": [
        "#### A. Without Augmentation"
      ],
      "metadata": {
        "id": "cXZ_474JJs5I"
      }
    },
    {
      "cell_type": "code",
      "execution_count": null,
      "metadata": {
        "id": "sN0pnY0QdlQL"
      },
      "outputs": [],
      "source": [
        "class ModelConv3D1(ModelBuilderClass):\n",
        "    \n",
        "    def define_model(self):\n",
        "\n",
        "        model = Sequential()\n",
        "\n",
        "        model.add(Conv3D(32, kernel_size=3, activation='relu', input_shape=(self.frames_to_sample,self.image_height,self.image_width,self.channels)))\n",
        "        model.add(Conv3D(64, kernel_size=3, activation='relu'))\n",
        "        model.add(MaxPooling3D(pool_size=(2, 2, 2)))\n",
        "        model.add(Dropout(0.2))\n",
        "\n",
        "        model.add(Conv3D(128, kernel_size=3, activation='relu'))\n",
        "        model.add(MaxPooling3D(pool_size=(1, 2, 2)))\n",
        "        model.add(Dropout(0.2))\n",
        "\n",
        "        model.add(Conv3D(256, kernel_size=(1, 3, 3), activation='relu'))\n",
        "        model.add(MaxPooling3D(pool_size=(1, 2, 2)))\n",
        "        model.add(Dropout(0.2))\n",
        "\n",
        "        model.add(GlobalAveragePooling3D())\n",
        "        model.add(Dense(512, activation='relu'))\n",
        "        model.add(Dense(self.num_classes,activation='softmax'))\n",
        "\n",
        "        adam_optimizer = tf.keras.optimizers.Adam()\n",
        "        model.compile(optimizer=adam_optimizer, loss='categorical_crossentropy', metrics=['categorical_accuracy'])\n",
        "        return model"
      ]
    },
    {
      "cell_type": "code",
      "execution_count": null,
      "metadata": {
        "colab": {
          "base_uri": "https://localhost:8080/"
        },
        "id": "SMvYUfsr4U1j",
        "outputId": "9187de76-9358-40d2-84bb-ba8a52ef48a6"
      },
      "outputs": [
        {
          "output_type": "stream",
          "name": "stdout",
          "text": [
            "Model: \"sequential_4\"\n",
            "_________________________________________________________________\n",
            " Layer (type)                Output Shape              Param #   \n",
            "=================================================================\n",
            " conv3d_12 (Conv3D)          (None, 14, 62, 62, 32)    2624      \n",
            "                                                                 \n",
            " conv3d_13 (Conv3D)          (None, 12, 60, 60, 64)    55360     \n",
            "                                                                 \n",
            " max_pooling3d_8 (MaxPooling  (None, 6, 30, 30, 64)    0         \n",
            " 3D)                                                             \n",
            "                                                                 \n",
            " dropout_8 (Dropout)         (None, 6, 30, 30, 64)     0         \n",
            "                                                                 \n",
            " conv3d_14 (Conv3D)          (None, 4, 28, 28, 128)    221312    \n",
            "                                                                 \n",
            " max_pooling3d_9 (MaxPooling  (None, 4, 14, 14, 128)   0         \n",
            " 3D)                                                             \n",
            "                                                                 \n",
            " dropout_9 (Dropout)         (None, 4, 14, 14, 128)    0         \n",
            "                                                                 \n",
            " conv3d_15 (Conv3D)          (None, 4, 12, 12, 256)    295168    \n",
            "                                                                 \n",
            " max_pooling3d_10 (MaxPoolin  (None, 4, 6, 6, 256)     0         \n",
            " g3D)                                                            \n",
            "                                                                 \n",
            " dropout_10 (Dropout)        (None, 4, 6, 6, 256)      0         \n",
            "                                                                 \n",
            " global_average_pooling3d (G  (None, 256)              0         \n",
            " lobalAveragePooling3D)                                          \n",
            "                                                                 \n",
            " dense_8 (Dense)             (None, 512)               131584    \n",
            "                                                                 \n",
            " dense_9 (Dense)             (None, 5)                 2565      \n",
            "                                                                 \n",
            "=================================================================\n",
            "Total params: 708,613\n",
            "Trainable params: 708,613\n",
            "Non-trainable params: 0\n",
            "_________________________________________________________________\n"
          ]
        }
      ],
      "source": [
        "conv_3d1=ModelConv3D1()\n",
        "conv_3d1.initialize_path(project_folder)\n",
        "conv_3d1.initialize_image_properties(image_height=64,image_width=64)\n",
        "conv_3d1.initialize_hyperparams(frames_to_sample=16,batch_size=32,num_epochs=40)\n",
        "conv_3d1_model=conv_3d1.define_model()\n",
        "conv_3d1_model.summary()"
      ]
    },
    {
      "cell_type": "code",
      "execution_count": null,
      "metadata": {
        "colab": {
          "base_uri": "https://localhost:8080/"
        },
        "id": "UbYZh1dI4U1k",
        "outputId": "161eac17-8fa6-4c40-9695-89bd6802ec18"
      },
      "outputs": [
        {
          "output_type": "stream",
          "name": "stderr",
          "text": [
            "WARNING:tensorflow:`period` argument is deprecated. Please use `save_freq` to specify the frequency in number of batches seen.\n"
          ]
        },
        {
          "output_type": "stream",
          "name": "stdout",
          "text": [
            "Total Params: 708613\n",
            "Epoch 1/40\n",
            "19/19 [==============================] - ETA: 0s - loss: 1.6104 - categorical_accuracy: 0.1913\n",
            "Epoch 1: val_loss improved from inf to 1.56132, saving model to model_init_2022-10-1414_49_28.805966/model-00001-1.61043-0.19128-1.56132-0.23881.h5\n",
            "19/19 [==============================] - 29s 1s/step - loss: 1.6104 - categorical_accuracy: 0.1913 - val_loss: 1.5613 - val_categorical_accuracy: 0.2388 - lr: 0.0010\n",
            "Epoch 2/40\n",
            "19/19 [==============================] - ETA: 0s - loss: 1.5607 - categorical_accuracy: 0.2567\n",
            "Epoch 2: val_loss improved from 1.56132 to 1.42929, saving model to model_init_2022-10-1414_49_28.805966/model-00002-1.56072-0.25671-1.42929-0.37313.h5\n",
            "19/19 [==============================] - 27s 1s/step - loss: 1.5607 - categorical_accuracy: 0.2567 - val_loss: 1.4293 - val_categorical_accuracy: 0.3731 - lr: 0.0010\n",
            "Epoch 3/40\n",
            "19/19 [==============================] - ETA: 0s - loss: 1.4576 - categorical_accuracy: 0.3641\n",
            "Epoch 3: val_loss improved from 1.42929 to 1.39708, saving model to model_init_2022-10-1414_49_28.805966/model-00003-1.45756-0.36409-1.39708-0.41791.h5\n",
            "19/19 [==============================] - 25s 1s/step - loss: 1.4576 - categorical_accuracy: 0.3641 - val_loss: 1.3971 - val_categorical_accuracy: 0.4179 - lr: 0.0010\n",
            "Epoch 4/40\n",
            "19/19 [==============================] - ETA: 0s - loss: 1.4110 - categorical_accuracy: 0.3389\n",
            "Epoch 4: val_loss improved from 1.39708 to 1.37427, saving model to model_init_2022-10-1414_49_28.805966/model-00004-1.41099-0.33893-1.37427-0.32836.h5\n",
            "19/19 [==============================] - 26s 1s/step - loss: 1.4110 - categorical_accuracy: 0.3389 - val_loss: 1.3743 - val_categorical_accuracy: 0.3284 - lr: 0.0010\n",
            "Epoch 5/40\n",
            "19/19 [==============================] - ETA: 0s - loss: 1.3801 - categorical_accuracy: 0.3557\n",
            "Epoch 5: val_loss improved from 1.37427 to 1.20761, saving model to model_init_2022-10-1414_49_28.805966/model-00005-1.38014-0.35570-1.20761-0.41791.h5\n",
            "19/19 [==============================] - 26s 1s/step - loss: 1.3801 - categorical_accuracy: 0.3557 - val_loss: 1.2076 - val_categorical_accuracy: 0.4179 - lr: 0.0010\n",
            "Epoch 6/40\n",
            "19/19 [==============================] - ETA: 0s - loss: 1.3305 - categorical_accuracy: 0.3826\n",
            "Epoch 6: val_loss did not improve from 1.20761\n",
            "19/19 [==============================] - 25s 1s/step - loss: 1.3305 - categorical_accuracy: 0.3826 - val_loss: 1.2893 - val_categorical_accuracy: 0.4478 - lr: 0.0010\n",
            "Epoch 7/40\n",
            "19/19 [==============================] - ETA: 0s - loss: 1.2827 - categorical_accuracy: 0.4211\n",
            "Epoch 7: val_loss improved from 1.20761 to 1.17227, saving model to model_init_2022-10-1414_49_28.805966/model-00007-1.28268-0.42114-1.17227-0.50746.h5\n",
            "19/19 [==============================] - 26s 1s/step - loss: 1.2827 - categorical_accuracy: 0.4211 - val_loss: 1.1723 - val_categorical_accuracy: 0.5075 - lr: 0.0010\n",
            "Epoch 8/40\n",
            "19/19 [==============================] - ETA: 0s - loss: 1.2150 - categorical_accuracy: 0.4530\n",
            "Epoch 8: val_loss improved from 1.17227 to 1.09626, saving model to model_init_2022-10-1414_49_28.805966/model-00008-1.21504-0.45302-1.09626-0.53731.h5\n",
            "19/19 [==============================] - 27s 2s/step - loss: 1.2150 - categorical_accuracy: 0.4530 - val_loss: 1.0963 - val_categorical_accuracy: 0.5373 - lr: 0.0010\n",
            "Epoch 9/40\n",
            "19/19 [==============================] - ETA: 0s - loss: 1.1739 - categorical_accuracy: 0.4715\n",
            "Epoch 9: val_loss improved from 1.09626 to 1.08218, saving model to model_init_2022-10-1414_49_28.805966/model-00009-1.17390-0.47148-1.08218-0.53731.h5\n",
            "19/19 [==============================] - 25s 1s/step - loss: 1.1739 - categorical_accuracy: 0.4715 - val_loss: 1.0822 - val_categorical_accuracy: 0.5373 - lr: 0.0010\n",
            "Epoch 10/40\n",
            "19/19 [==============================] - ETA: 0s - loss: 1.1345 - categorical_accuracy: 0.4681\n",
            "Epoch 10: val_loss did not improve from 1.08218\n",
            "19/19 [==============================] - 26s 1s/step - loss: 1.1345 - categorical_accuracy: 0.4681 - val_loss: 1.1295 - val_categorical_accuracy: 0.3881 - lr: 0.0010\n",
            "Epoch 11/40\n",
            "19/19 [==============================] - ETA: 0s - loss: 1.1063 - categorical_accuracy: 0.4950\n",
            "Epoch 11: val_loss improved from 1.08218 to 1.02999, saving model to model_init_2022-10-1414_49_28.805966/model-00011-1.10634-0.49497-1.02999-0.49254.h5\n",
            "19/19 [==============================] - 27s 1s/step - loss: 1.1063 - categorical_accuracy: 0.4950 - val_loss: 1.0300 - val_categorical_accuracy: 0.4925 - lr: 0.0010\n",
            "Epoch 12/40\n",
            "19/19 [==============================] - ETA: 0s - loss: 1.0273 - categorical_accuracy: 0.5151\n",
            "Epoch 12: val_loss improved from 1.02999 to 0.89579, saving model to model_init_2022-10-1414_49_28.805966/model-00012-1.02734-0.51510-0.89579-0.70149.h5\n",
            "19/19 [==============================] - 26s 1s/step - loss: 1.0273 - categorical_accuracy: 0.5151 - val_loss: 0.8958 - val_categorical_accuracy: 0.7015 - lr: 0.0010\n",
            "Epoch 13/40\n",
            "19/19 [==============================] - ETA: 0s - loss: 0.9364 - categorical_accuracy: 0.6007\n",
            "Epoch 13: val_loss did not improve from 0.89579\n",
            "19/19 [==============================] - 26s 1s/step - loss: 0.9364 - categorical_accuracy: 0.6007 - val_loss: 0.9249 - val_categorical_accuracy: 0.5821 - lr: 0.0010\n",
            "Epoch 14/40\n",
            "19/19 [==============================] - ETA: 0s - loss: 0.9404 - categorical_accuracy: 0.6242\n",
            "Epoch 14: val_loss did not improve from 0.89579\n",
            "19/19 [==============================] - 26s 1s/step - loss: 0.9404 - categorical_accuracy: 0.6242 - val_loss: 1.0228 - val_categorical_accuracy: 0.5373 - lr: 0.0010\n",
            "Epoch 15/40\n",
            "19/19 [==============================] - ETA: 0s - loss: 0.9151 - categorical_accuracy: 0.5638\n",
            "Epoch 15: val_loss improved from 0.89579 to 0.84647, saving model to model_init_2022-10-1414_49_28.805966/model-00015-0.91509-0.56376-0.84647-0.52239.h5\n",
            "19/19 [==============================] - 25s 1s/step - loss: 0.9151 - categorical_accuracy: 0.5638 - val_loss: 0.8465 - val_categorical_accuracy: 0.5224 - lr: 0.0010\n",
            "Epoch 16/40\n",
            "19/19 [==============================] - ETA: 0s - loss: 0.8798 - categorical_accuracy: 0.5822\n",
            "Epoch 16: val_loss did not improve from 0.84647\n",
            "19/19 [==============================] - 27s 1s/step - loss: 0.8798 - categorical_accuracy: 0.5822 - val_loss: 0.8486 - val_categorical_accuracy: 0.6716 - lr: 0.0010\n",
            "Epoch 17/40\n",
            "19/19 [==============================] - ETA: 0s - loss: 0.8504 - categorical_accuracy: 0.6191\n",
            "Epoch 17: val_loss improved from 0.84647 to 0.83479, saving model to model_init_2022-10-1414_49_28.805966/model-00017-0.85035-0.61913-0.83479-0.64179.h5\n",
            "19/19 [==============================] - 27s 1s/step - loss: 0.8504 - categorical_accuracy: 0.6191 - val_loss: 0.8348 - val_categorical_accuracy: 0.6418 - lr: 0.0010\n",
            "Epoch 18/40\n",
            "19/19 [==============================] - ETA: 0s - loss: 0.8258 - categorical_accuracy: 0.6275\n",
            "Epoch 18: val_loss did not improve from 0.83479\n",
            "19/19 [==============================] - 25s 1s/step - loss: 0.8258 - categorical_accuracy: 0.6275 - val_loss: 0.9118 - val_categorical_accuracy: 0.5522 - lr: 0.0010\n",
            "Epoch 19/40\n",
            "19/19 [==============================] - ETA: 0s - loss: 0.8199 - categorical_accuracy: 0.6711\n",
            "Epoch 19: val_loss did not improve from 0.83479\n",
            "19/19 [==============================] - 26s 1s/step - loss: 0.8199 - categorical_accuracy: 0.6711 - val_loss: 0.8509 - val_categorical_accuracy: 0.6119 - lr: 0.0010\n",
            "Epoch 20/40\n",
            "19/19 [==============================] - ETA: 0s - loss: 0.7615 - categorical_accuracy: 0.6644\n",
            "Epoch 20: val_loss improved from 0.83479 to 0.77121, saving model to model_init_2022-10-1414_49_28.805966/model-00020-0.76151-0.66443-0.77121-0.58209.h5\n",
            "19/19 [==============================] - 26s 1s/step - loss: 0.7615 - categorical_accuracy: 0.6644 - val_loss: 0.7712 - val_categorical_accuracy: 0.5821 - lr: 0.0010\n",
            "Epoch 21/40\n",
            "19/19 [==============================] - ETA: 0s - loss: 0.7346 - categorical_accuracy: 0.6644\n",
            "Epoch 21: val_loss did not improve from 0.77121\n",
            "19/19 [==============================] - 25s 1s/step - loss: 0.7346 - categorical_accuracy: 0.6644 - val_loss: 0.8422 - val_categorical_accuracy: 0.5821 - lr: 0.0010\n",
            "Epoch 22/40\n",
            "19/19 [==============================] - ETA: 0s - loss: 0.6980 - categorical_accuracy: 0.6930\n",
            "Epoch 22: val_loss did not improve from 0.77121\n",
            "19/19 [==============================] - 27s 1s/step - loss: 0.6980 - categorical_accuracy: 0.6930 - val_loss: 0.9452 - val_categorical_accuracy: 0.6567 - lr: 0.0010\n",
            "Epoch 23/40\n",
            "19/19 [==============================] - ETA: 0s - loss: 0.6468 - categorical_accuracy: 0.7215\n",
            "Epoch 23: val_loss improved from 0.77121 to 0.68234, saving model to model_init_2022-10-1414_49_28.805966/model-00023-0.64675-0.72148-0.68234-0.67164.h5\n",
            "19/19 [==============================] - 27s 1s/step - loss: 0.6468 - categorical_accuracy: 0.7215 - val_loss: 0.6823 - val_categorical_accuracy: 0.6716 - lr: 0.0010\n",
            "Epoch 24/40\n",
            "19/19 [==============================] - ETA: 0s - loss: 0.5868 - categorical_accuracy: 0.7768\n",
            "Epoch 24: val_loss did not improve from 0.68234\n",
            "19/19 [==============================] - 25s 1s/step - loss: 0.5868 - categorical_accuracy: 0.7768 - val_loss: 0.8389 - val_categorical_accuracy: 0.6567 - lr: 0.0010\n",
            "Epoch 25/40\n",
            "19/19 [==============================] - ETA: 0s - loss: 0.6177 - categorical_accuracy: 0.7517\n",
            "Epoch 25: val_loss did not improve from 0.68234\n",
            "19/19 [==============================] - 28s 2s/step - loss: 0.6177 - categorical_accuracy: 0.7517 - val_loss: 0.9813 - val_categorical_accuracy: 0.6269 - lr: 0.0010\n",
            "Epoch 26/40\n",
            "19/19 [==============================] - ETA: 0s - loss: 0.5672 - categorical_accuracy: 0.7701\n",
            "Epoch 26: val_loss did not improve from 0.68234\n",
            "19/19 [==============================] - 26s 1s/step - loss: 0.5672 - categorical_accuracy: 0.7701 - val_loss: 0.7998 - val_categorical_accuracy: 0.7015 - lr: 0.0010\n",
            "Epoch 27/40\n",
            "19/19 [==============================] - ETA: 0s - loss: 0.5708 - categorical_accuracy: 0.7735\n",
            "Epoch 27: val_loss did not improve from 0.68234\n",
            "\n",
            "Epoch 27: ReduceLROnPlateau reducing learning rate to 0.00020000000949949026.\n",
            "19/19 [==============================] - 25s 1s/step - loss: 0.5708 - categorical_accuracy: 0.7735 - val_loss: 0.7386 - val_categorical_accuracy: 0.6567 - lr: 0.0010\n",
            "Epoch 28/40\n",
            "19/19 [==============================] - ETA: 0s - loss: 0.5059 - categorical_accuracy: 0.7953\n",
            "Epoch 28: val_loss did not improve from 0.68234\n",
            "19/19 [==============================] - 26s 1s/step - loss: 0.5059 - categorical_accuracy: 0.7953 - val_loss: 0.7788 - val_categorical_accuracy: 0.6269 - lr: 2.0000e-04\n",
            "Epoch 29/40\n",
            "19/19 [==============================] - ETA: 0s - loss: 0.4513 - categorical_accuracy: 0.8289\n",
            "Epoch 29: val_loss improved from 0.68234 to 0.67934, saving model to model_init_2022-10-1414_49_28.805966/model-00029-0.45132-0.82886-0.67934-0.67164.h5\n",
            "19/19 [==============================] - 26s 1s/step - loss: 0.4513 - categorical_accuracy: 0.8289 - val_loss: 0.6793 - val_categorical_accuracy: 0.6716 - lr: 2.0000e-04\n",
            "Epoch 30/40\n",
            "19/19 [==============================] - ETA: 0s - loss: 0.4035 - categorical_accuracy: 0.8423\n",
            "Epoch 30: val_loss did not improve from 0.67934\n",
            "19/19 [==============================] - 25s 1s/step - loss: 0.4035 - categorical_accuracy: 0.8423 - val_loss: 0.7732 - val_categorical_accuracy: 0.7015 - lr: 2.0000e-04\n",
            "Epoch 31/40\n",
            "19/19 [==============================] - ETA: 0s - loss: 0.3868 - categorical_accuracy: 0.8456\n",
            "Epoch 31: val_loss did not improve from 0.67934\n",
            "19/19 [==============================] - 26s 1s/step - loss: 0.3868 - categorical_accuracy: 0.8456 - val_loss: 0.7612 - val_categorical_accuracy: 0.6866 - lr: 2.0000e-04\n",
            "Epoch 32/40\n",
            "19/19 [==============================] - ETA: 0s - loss: 0.3705 - categorical_accuracy: 0.8674\n",
            "Epoch 32: val_loss did not improve from 0.67934\n",
            "19/19 [==============================] - 27s 1s/step - loss: 0.3705 - categorical_accuracy: 0.8674 - val_loss: 0.8137 - val_categorical_accuracy: 0.7164 - lr: 2.0000e-04\n",
            "Epoch 33/40\n",
            "19/19 [==============================] - ETA: 0s - loss: 0.3639 - categorical_accuracy: 0.8658\n",
            "Epoch 33: val_loss did not improve from 0.67934\n",
            "\n",
            "Epoch 33: ReduceLROnPlateau reducing learning rate to 4.0000001899898055e-05.\n",
            "19/19 [==============================] - 26s 1s/step - loss: 0.3639 - categorical_accuracy: 0.8658 - val_loss: 0.7005 - val_categorical_accuracy: 0.7164 - lr: 2.0000e-04\n",
            "Epoch 34/40\n",
            "19/19 [==============================] - ETA: 0s - loss: 0.3408 - categorical_accuracy: 0.8809\n",
            "Epoch 34: val_loss did not improve from 0.67934\n",
            "19/19 [==============================] - 26s 1s/step - loss: 0.3408 - categorical_accuracy: 0.8809 - val_loss: 0.7543 - val_categorical_accuracy: 0.7015 - lr: 4.0000e-05\n",
            "Epoch 35/40\n",
            "19/19 [==============================] - ETA: 0s - loss: 0.3280 - categorical_accuracy: 0.8926\n",
            "Epoch 35: val_loss did not improve from 0.67934\n",
            "19/19 [==============================] - 26s 1s/step - loss: 0.3280 - categorical_accuracy: 0.8926 - val_loss: 0.8152 - val_categorical_accuracy: 0.7463 - lr: 4.0000e-05\n",
            "Epoch 36/40\n",
            "19/19 [==============================] - ETA: 0s - loss: 0.3222 - categorical_accuracy: 0.8876\n",
            "Epoch 36: val_loss did not improve from 0.67934\n",
            "19/19 [==============================] - 25s 1s/step - loss: 0.3222 - categorical_accuracy: 0.8876 - val_loss: 0.7665 - val_categorical_accuracy: 0.7015 - lr: 4.0000e-05\n",
            "Epoch 37/40\n",
            "19/19 [==============================] - ETA: 0s - loss: 0.3177 - categorical_accuracy: 0.8926\n",
            "Epoch 37: val_loss did not improve from 0.67934\n",
            "\n",
            "Epoch 37: ReduceLROnPlateau reducing learning rate to 8.000000525498762e-06.\n",
            "19/19 [==============================] - 26s 1s/step - loss: 0.3177 - categorical_accuracy: 0.8926 - val_loss: 0.7660 - val_categorical_accuracy: 0.7015 - lr: 4.0000e-05\n",
            "Epoch 38/40\n",
            "19/19 [==============================] - ETA: 0s - loss: 0.3131 - categorical_accuracy: 0.9027\n",
            "Epoch 38: val_loss did not improve from 0.67934\n",
            "19/19 [==============================] - 26s 1s/step - loss: 0.3131 - categorical_accuracy: 0.9027 - val_loss: 0.7681 - val_categorical_accuracy: 0.7164 - lr: 8.0000e-06\n",
            "Epoch 39/40\n",
            "19/19 [==============================] - ETA: 0s - loss: 0.3102 - categorical_accuracy: 0.8893\n",
            "Epoch 39: val_loss did not improve from 0.67934\n",
            "19/19 [==============================] - 25s 1s/step - loss: 0.3102 - categorical_accuracy: 0.8893 - val_loss: 0.7746 - val_categorical_accuracy: 0.7015 - lr: 8.0000e-06\n",
            "Epoch 39: early stopping\n",
            "Evaluating\n",
            "\n",
            "Test accuracy: 0.7400000095367432\n",
            "\n",
            "Test loss: 0.8421393632888794\n"
          ]
        }
      ],
      "source": [
        "print(\"Total Params:\", conv_3d1_model.count_params())\n",
        "history_model1=conv_3d1.train_model(conv_3d1_model)"
      ]
    },
    {
      "cell_type": "code",
      "execution_count": null,
      "metadata": {
        "colab": {
          "base_uri": "https://localhost:8080/",
          "height": 265
        },
        "id": "S3Pxrl0aFZvV",
        "outputId": "235ca392-b01a-49bd-c686-52e719b47623"
      },
      "outputs": [
        {
          "output_type": "display_data",
          "data": {
            "text/plain": [
              "<Figure size 1080x288 with 2 Axes>"
            ],
            "image/png": "[encoded data removed]"
          },
          "metadata": {
            "needs_background": "light"
          }
        }
      ],
      "source": [
        "plot_accuracy_and_loss(history_model1)"
      ]
    },
    {
      "cell_type": "code",
      "execution_count": null,
      "metadata": {
        "id": "oG70D3aBIhES"
      },
      "outputs": [],
      "source": []
    },
    {
      "cell_type": "markdown",
      "source": [
        "#### B. With Augmentation"
      ],
      "metadata": {
        "id": "KZkMzKjQJ5Gt"
      }
    },
    {
      "cell_type": "code",
      "execution_count": null,
      "metadata": {
        "id": "5kBM4_yPIhHu"
      },
      "outputs": [],
      "source": [
        "conv_3d1b=ModelConv3D1()\n",
        "conv_3d1b.initialize_path(project_folder)\n",
        "conv_3d1b.initialize_image_properties(image_height=64,image_width=64)\n",
        "conv_3d1b.initialize_hyperparams(frames_to_sample=16,batch_size=32,num_epochs=40)\n",
        "conv_3d1b_model=conv_3d1b.define_model()\n",
        "# conv_3d2b_model.summary()"
      ]
    },
    {
      "cell_type": "code",
      "execution_count": null,
      "metadata": {
        "colab": {
          "base_uri": "https://localhost:8080/"
        },
        "id": "OpDLeXTMIpZh",
        "outputId": "d0540dac-fc0f-4f8c-df94-6386c93aa0e1"
      },
      "outputs": [
        {
          "output_type": "stream",
          "name": "stderr",
          "text": [
            "WARNING:tensorflow:`period` argument is deprecated. Please use `save_freq` to specify the frequency in number of batches seen.\n"
          ]
        },
        {
          "output_type": "stream",
          "name": "stdout",
          "text": [
            "Total Params: 708613\n",
            "Epoch 1/40\n",
            "19/19 [==============================] - ETA: 0s - loss: 1.6078 - categorical_accuracy: 0.2299\n",
            "Epoch 1: val_loss improved from inf to 1.60281, saving model to model_init_2022-10-1415_08_04.468008/model-00001-1.60781-0.22987-1.60281-0.29851.h5\n",
            "19/19 [==============================] - 51s 3s/step - loss: 1.6078 - categorical_accuracy: 0.2299 - val_loss: 1.6028 - val_categorical_accuracy: 0.2985 - lr: 0.0010\n",
            "Epoch 2/40\n",
            "19/19 [==============================] - ETA: 0s - loss: 1.5773 - categorical_accuracy: 0.2819\n",
            "Epoch 2: val_loss improved from 1.60281 to 1.57537, saving model to model_init_2022-10-1415_08_04.468008/model-00002-1.57729-0.28188-1.57537-0.25373.h5\n",
            "19/19 [==============================] - 47s 3s/step - loss: 1.5773 - categorical_accuracy: 0.2819 - val_loss: 1.5754 - val_categorical_accuracy: 0.2537 - lr: 0.0010\n",
            "Epoch 3/40\n",
            "19/19 [==============================] - ETA: 0s - loss: 1.4761 - categorical_accuracy: 0.3456\n",
            "Epoch 3: val_loss improved from 1.57537 to 1.56237, saving model to model_init_2022-10-1415_08_04.468008/model-00003-1.47611-0.34564-1.56237-0.25373.h5\n",
            "19/19 [==============================] - 44s 2s/step - loss: 1.4761 - categorical_accuracy: 0.3456 - val_loss: 1.5624 - val_categorical_accuracy: 0.2537 - lr: 0.0010\n",
            "Epoch 4/40\n",
            "19/19 [==============================] - ETA: 0s - loss: 1.4007 - categorical_accuracy: 0.3431\n",
            "Epoch 4: val_loss improved from 1.56237 to 1.50254, saving model to model_init_2022-10-1415_08_04.468008/model-00004-1.40067-0.34312-1.50254-0.23881.h5\n",
            "19/19 [==============================] - 47s 3s/step - loss: 1.4007 - categorical_accuracy: 0.3431 - val_loss: 1.5025 - val_categorical_accuracy: 0.2388 - lr: 0.0010\n",
            "Epoch 5/40\n",
            "19/19 [==============================] - ETA: 0s - loss: 1.3705 - categorical_accuracy: 0.3616\n",
            "Epoch 5: val_loss improved from 1.50254 to 1.46388, saving model to model_init_2022-10-1415_08_04.468008/model-00005-1.37055-0.36158-1.46388-0.29851.h5\n",
            "19/19 [==============================] - 46s 2s/step - loss: 1.3705 - categorical_accuracy: 0.3616 - val_loss: 1.4639 - val_categorical_accuracy: 0.2985 - lr: 0.0010\n",
            "Epoch 6/40\n",
            "19/19 [==============================] - ETA: 0s - loss: 1.3272 - categorical_accuracy: 0.3666\n",
            "Epoch 6: val_loss did not improve from 1.46388\n",
            "19/19 [==============================] - 46s 2s/step - loss: 1.3272 - categorical_accuracy: 0.3666 - val_loss: 1.4760 - val_categorical_accuracy: 0.2388 - lr: 0.0010\n",
            "Epoch 7/40\n",
            "19/19 [==============================] - ETA: 0s - loss: 1.3035 - categorical_accuracy: 0.4069\n",
            "Epoch 7: val_loss did not improve from 1.46388\n",
            "19/19 [==============================] - 45s 2s/step - loss: 1.3035 - categorical_accuracy: 0.4069 - val_loss: 1.5131 - val_categorical_accuracy: 0.2388 - lr: 0.0010\n",
            "Epoch 8/40\n",
            "19/19 [==============================] - ETA: 0s - loss: 1.3099 - categorical_accuracy: 0.4052\n",
            "Epoch 8: val_loss did not improve from 1.46388\n",
            "19/19 [==============================] - 47s 3s/step - loss: 1.3099 - categorical_accuracy: 0.4052 - val_loss: 1.6005 - val_categorical_accuracy: 0.2090 - lr: 0.0010\n",
            "Epoch 9/40\n",
            "19/19 [==============================] - ETA: 0s - loss: 1.2843 - categorical_accuracy: 0.4169\n",
            "Epoch 9: val_loss improved from 1.46388 to 1.40699, saving model to model_init_2022-10-1415_08_04.468008/model-00009-1.28434-0.41695-1.40699-0.31343.h5\n",
            "19/19 [==============================] - 45s 2s/step - loss: 1.2843 - categorical_accuracy: 0.4169 - val_loss: 1.4070 - val_categorical_accuracy: 0.3134 - lr: 0.0010\n",
            "Epoch 10/40\n",
            "19/19 [==============================] - ETA: 0s - loss: 1.2588 - categorical_accuracy: 0.4295\n",
            "Epoch 10: val_loss did not improve from 1.40699\n",
            "19/19 [==============================] - 45s 2s/step - loss: 1.2588 - categorical_accuracy: 0.4295 - val_loss: 1.4702 - val_categorical_accuracy: 0.2985 - lr: 0.0010\n",
            "Epoch 11/40\n",
            "19/19 [==============================] - ETA: 0s - loss: 1.2233 - categorical_accuracy: 0.4144\n",
            "Epoch 11: val_loss did not improve from 1.40699\n",
            "19/19 [==============================] - 46s 3s/step - loss: 1.2233 - categorical_accuracy: 0.4144 - val_loss: 1.4427 - val_categorical_accuracy: 0.3134 - lr: 0.0010\n",
            "Epoch 12/40\n",
            "19/19 [==============================] - ETA: 0s - loss: 1.2483 - categorical_accuracy: 0.4295\n",
            "Epoch 12: val_loss improved from 1.40699 to 1.35302, saving model to model_init_2022-10-1415_08_04.468008/model-00012-1.24833-0.42953-1.35302-0.32836.h5\n",
            "19/19 [==============================] - 45s 2s/step - loss: 1.2483 - categorical_accuracy: 0.4295 - val_loss: 1.3530 - val_categorical_accuracy: 0.3284 - lr: 0.0010\n",
            "Epoch 13/40\n",
            "19/19 [==============================] - ETA: 0s - loss: 1.2260 - categorical_accuracy: 0.4362\n",
            "Epoch 13: val_loss improved from 1.35302 to 1.24808, saving model to model_init_2022-10-1415_08_04.468008/model-00013-1.22604-0.43624-1.24808-0.40299.h5\n",
            "19/19 [==============================] - 47s 3s/step - loss: 1.2260 - categorical_accuracy: 0.4362 - val_loss: 1.2481 - val_categorical_accuracy: 0.4030 - lr: 0.0010\n",
            "Epoch 14/40\n",
            "19/19 [==============================] - ETA: 0s - loss: 1.1235 - categorical_accuracy: 0.5025\n",
            "Epoch 14: val_loss did not improve from 1.24808\n",
            "19/19 [==============================] - 46s 3s/step - loss: 1.1235 - categorical_accuracy: 0.5025 - val_loss: 1.3157 - val_categorical_accuracy: 0.4776 - lr: 0.0010\n",
            "Epoch 15/40\n",
            "19/19 [==============================] - ETA: 0s - loss: 1.1248 - categorical_accuracy: 0.4320\n",
            "Epoch 15: val_loss improved from 1.24808 to 1.18245, saving model to model_init_2022-10-1415_08_04.468008/model-00015-1.12478-0.43205-1.18245-0.49254.h5\n",
            "19/19 [==============================] - 44s 2s/step - loss: 1.1248 - categorical_accuracy: 0.4320 - val_loss: 1.1824 - val_categorical_accuracy: 0.4925 - lr: 0.0010\n",
            "Epoch 16/40\n",
            "19/19 [==============================] - ETA: 0s - loss: 1.0925 - categorical_accuracy: 0.4732\n",
            "Epoch 16: val_loss improved from 1.18245 to 1.15768, saving model to model_init_2022-10-1415_08_04.468008/model-00016-1.09248-0.47315-1.15768-0.47761.h5\n",
            "19/19 [==============================] - 46s 2s/step - loss: 1.0925 - categorical_accuracy: 0.4732 - val_loss: 1.1577 - val_categorical_accuracy: 0.4776 - lr: 0.0010\n",
            "Epoch 17/40\n",
            "19/19 [==============================] - ETA: 0s - loss: 1.0604 - categorical_accuracy: 0.4815\n",
            "Epoch 17: val_loss did not improve from 1.15768\n",
            "19/19 [==============================] - 45s 2s/step - loss: 1.0604 - categorical_accuracy: 0.4815 - val_loss: 1.4828 - val_categorical_accuracy: 0.4030 - lr: 0.0010\n",
            "Epoch 18/40\n",
            "19/19 [==============================] - ETA: 0s - loss: 1.0768 - categorical_accuracy: 0.4857\n",
            "Epoch 18: val_loss improved from 1.15768 to 1.13001, saving model to model_init_2022-10-1415_08_04.468008/model-00018-1.07677-0.48574-1.13001-0.46269.h5\n",
            "19/19 [==============================] - 46s 3s/step - loss: 1.0768 - categorical_accuracy: 0.4857 - val_loss: 1.1300 - val_categorical_accuracy: 0.4627 - lr: 0.0010\n",
            "Epoch 19/40\n",
            "19/19 [==============================] - ETA: 0s - loss: 0.9889 - categorical_accuracy: 0.5378\n",
            "Epoch 19: val_loss improved from 1.13001 to 1.03330, saving model to model_init_2022-10-1415_08_04.468008/model-00019-0.98888-0.53775-1.03330-0.55224.h5\n",
            "19/19 [==============================] - 45s 2s/step - loss: 0.9889 - categorical_accuracy: 0.5378 - val_loss: 1.0333 - val_categorical_accuracy: 0.5522 - lr: 0.0010\n",
            "Epoch 20/40\n",
            "19/19 [==============================] - ETA: 0s - loss: 0.9859 - categorical_accuracy: 0.4933\n",
            "Epoch 20: val_loss did not improve from 1.03330\n",
            "19/19 [==============================] - 46s 3s/step - loss: 0.9859 - categorical_accuracy: 0.4933 - val_loss: 1.1016 - val_categorical_accuracy: 0.4776 - lr: 0.0010\n",
            "Epoch 21/40\n",
            "19/19 [==============================] - ETA: 0s - loss: 0.9406 - categorical_accuracy: 0.5285\n",
            "Epoch 21: val_loss did not improve from 1.03330\n",
            "19/19 [==============================] - 45s 2s/step - loss: 0.9406 - categorical_accuracy: 0.5285 - val_loss: 1.1082 - val_categorical_accuracy: 0.5075 - lr: 0.0010\n",
            "Epoch 22/40\n",
            "19/19 [==============================] - ETA: 0s - loss: 0.9470 - categorical_accuracy: 0.5319\n",
            "Epoch 22: val_loss did not improve from 1.03330\n",
            "19/19 [==============================] - 46s 3s/step - loss: 0.9470 - categorical_accuracy: 0.5319 - val_loss: 1.0627 - val_categorical_accuracy: 0.5522 - lr: 0.0010\n",
            "Epoch 23/40\n",
            "19/19 [==============================] - ETA: 0s - loss: 0.9014 - categorical_accuracy: 0.5721\n",
            "Epoch 23: val_loss did not improve from 1.03330\n",
            "\n",
            "Epoch 23: ReduceLROnPlateau reducing learning rate to 0.00020000000949949026.\n",
            "19/19 [==============================] - 47s 3s/step - loss: 0.9014 - categorical_accuracy: 0.5721 - val_loss: 1.0836 - val_categorical_accuracy: 0.5224 - lr: 0.0010\n",
            "Epoch 24/40\n",
            "19/19 [==============================] - ETA: 0s - loss: 0.8530 - categorical_accuracy: 0.5814\n",
            "Epoch 24: val_loss improved from 1.03330 to 0.95985, saving model to model_init_2022-10-1415_08_04.468008/model-00024-0.85302-0.58138-0.95985-0.52239.h5\n",
            "19/19 [==============================] - 44s 2s/step - loss: 0.8530 - categorical_accuracy: 0.5814 - val_loss: 0.9599 - val_categorical_accuracy: 0.5224 - lr: 2.0000e-04\n",
            "Epoch 25/40\n",
            "19/19 [==============================] - ETA: 0s - loss: 0.8281 - categorical_accuracy: 0.5914\n",
            "Epoch 25: val_loss did not improve from 0.95985\n",
            "19/19 [==============================] - 45s 2s/step - loss: 0.8281 - categorical_accuracy: 0.5914 - val_loss: 1.0042 - val_categorical_accuracy: 0.4776 - lr: 2.0000e-04\n",
            "Epoch 26/40\n",
            "19/19 [==============================] - ETA: 0s - loss: 0.8156 - categorical_accuracy: 0.6015\n",
            "Epoch 26: val_loss did not improve from 0.95985\n",
            "19/19 [==============================] - 46s 2s/step - loss: 0.8156 - categorical_accuracy: 0.6015 - val_loss: 1.1017 - val_categorical_accuracy: 0.5075 - lr: 2.0000e-04\n",
            "Epoch 27/40\n",
            "19/19 [==============================] - ETA: 0s - loss: 0.7987 - categorical_accuracy: 0.6032\n",
            "Epoch 27: val_loss did not improve from 0.95985\n",
            "19/19 [==============================] - 45s 2s/step - loss: 0.7987 - categorical_accuracy: 0.6032 - val_loss: 0.9690 - val_categorical_accuracy: 0.5075 - lr: 2.0000e-04\n",
            "Epoch 28/40\n",
            "19/19 [==============================] - ETA: 0s - loss: 0.8181 - categorical_accuracy: 0.5856\n",
            "Epoch 28: val_loss did not improve from 0.95985\n",
            "\n",
            "Epoch 28: ReduceLROnPlateau reducing learning rate to 4.0000001899898055e-05.\n",
            "19/19 [==============================] - 46s 3s/step - loss: 0.8181 - categorical_accuracy: 0.5856 - val_loss: 1.0074 - val_categorical_accuracy: 0.5075 - lr: 2.0000e-04\n",
            "Epoch 29/40\n",
            "19/19 [==============================] - ETA: 0s - loss: 0.8239 - categorical_accuracy: 0.5856\n",
            "Epoch 29: val_loss improved from 0.95985 to 0.85094, saving model to model_init_2022-10-1415_08_04.468008/model-00029-0.82393-0.58557-0.85094-0.56716.h5\n",
            "19/19 [==============================] - 46s 3s/step - loss: 0.8239 - categorical_accuracy: 0.5856 - val_loss: 0.8509 - val_categorical_accuracy: 0.5672 - lr: 4.0000e-05\n",
            "Epoch 30/40\n",
            "19/19 [==============================] - ETA: 0s - loss: 0.7842 - categorical_accuracy: 0.6065\n",
            "Epoch 30: val_loss did not improve from 0.85094\n",
            "19/19 [==============================] - 44s 2s/step - loss: 0.7842 - categorical_accuracy: 0.6065 - val_loss: 0.9848 - val_categorical_accuracy: 0.5672 - lr: 4.0000e-05\n",
            "Epoch 31/40\n",
            "19/19 [==============================] - ETA: 0s - loss: 0.7823 - categorical_accuracy: 0.6032\n",
            "Epoch 31: val_loss did not improve from 0.85094\n",
            "19/19 [==============================] - 46s 2s/step - loss: 0.7823 - categorical_accuracy: 0.6032 - val_loss: 0.9970 - val_categorical_accuracy: 0.5224 - lr: 4.0000e-05\n",
            "Epoch 32/40\n",
            "19/19 [==============================] - ETA: 0s - loss: 0.7829 - categorical_accuracy: 0.6133\n",
            "Epoch 32: val_loss did not improve from 0.85094\n",
            "19/19 [==============================] - 47s 3s/step - loss: 0.7829 - categorical_accuracy: 0.6133 - val_loss: 0.9462 - val_categorical_accuracy: 0.5373 - lr: 4.0000e-05\n",
            "Epoch 33/40\n",
            "19/19 [==============================] - ETA: 0s - loss: 0.7849 - categorical_accuracy: 0.6124\n",
            "Epoch 33: val_loss did not improve from 0.85094\n",
            "\n",
            "Epoch 33: ReduceLROnPlateau reducing learning rate to 8.000000525498762e-06.\n",
            "19/19 [==============================] - 44s 2s/step - loss: 0.7849 - categorical_accuracy: 0.6124 - val_loss: 1.0077 - val_categorical_accuracy: 0.5224 - lr: 4.0000e-05\n",
            "Epoch 34/40\n",
            "19/19 [==============================] - ETA: 0s - loss: 0.7663 - categorical_accuracy: 0.6191\n",
            "Epoch 34: val_loss did not improve from 0.85094\n",
            "19/19 [==============================] - 45s 2s/step - loss: 0.7663 - categorical_accuracy: 0.6191 - val_loss: 0.9871 - val_categorical_accuracy: 0.5373 - lr: 8.0000e-06\n",
            "Epoch 35/40\n",
            "19/19 [==============================] - ETA: 0s - loss: 0.7717 - categorical_accuracy: 0.6242\n",
            "Epoch 35: val_loss did not improve from 0.85094\n",
            "19/19 [==============================] - 45s 2s/step - loss: 0.7717 - categorical_accuracy: 0.6242 - val_loss: 0.9495 - val_categorical_accuracy: 0.5522 - lr: 8.0000e-06\n",
            "Epoch 36/40\n",
            "19/19 [==============================] - ETA: 0s - loss: 0.7771 - categorical_accuracy: 0.6225\n",
            "Epoch 36: val_loss did not improve from 0.85094\n",
            "19/19 [==============================] - 45s 2s/step - loss: 0.7771 - categorical_accuracy: 0.6225 - val_loss: 0.9811 - val_categorical_accuracy: 0.5522 - lr: 8.0000e-06\n",
            "Epoch 37/40\n",
            "19/19 [==============================] - ETA: 0s - loss: 0.7699 - categorical_accuracy: 0.6141\n",
            "Epoch 37: val_loss did not improve from 0.85094\n",
            "\n",
            "Epoch 37: ReduceLROnPlateau reducing learning rate to 1.6000001778593287e-06.\n",
            "19/19 [==============================] - 47s 3s/step - loss: 0.7699 - categorical_accuracy: 0.6141 - val_loss: 0.9898 - val_categorical_accuracy: 0.5373 - lr: 8.0000e-06\n",
            "Epoch 38/40\n",
            "19/19 [==============================] - ETA: 0s - loss: 0.7696 - categorical_accuracy: 0.6208\n",
            "Epoch 38: val_loss did not improve from 0.85094\n",
            "19/19 [==============================] - 46s 2s/step - loss: 0.7696 - categorical_accuracy: 0.6208 - val_loss: 1.1757 - val_categorical_accuracy: 0.4925 - lr: 1.6000e-06\n",
            "Epoch 39/40\n",
            "19/19 [==============================] - ETA: 0s - loss: 0.7736 - categorical_accuracy: 0.6174\n",
            "Epoch 39: val_loss did not improve from 0.85094\n",
            "19/19 [==============================] - 44s 2s/step - loss: 0.7736 - categorical_accuracy: 0.6174 - val_loss: 0.9730 - val_categorical_accuracy: 0.5672 - lr: 1.6000e-06\n",
            "Epoch 39: early stopping\n",
            "Evaluating\n",
            "\n",
            "Test accuracy: 0.6499999761581421\n",
            "\n",
            "Test loss: 0.8482721447944641\n"
          ]
        }
      ],
      "source": [
        "print(\"Total Params:\", conv_3d1b_model.count_params())\n",
        "history_model1b=conv_3d1b.train_model(conv_3d1b_model, augment_data=True)"
      ]
    },
    {
      "cell_type": "code",
      "execution_count": null,
      "metadata": {
        "colab": {
          "base_uri": "https://localhost:8080/",
          "height": 265
        },
        "id": "UfMCyWv5IvaO",
        "outputId": "5b37846c-6785-406c-ed5d-d8998f70b6f0"
      },
      "outputs": [
        {
          "output_type": "display_data",
          "data": {
            "text/plain": [
              "<Figure size 1080x288 with 2 Axes>"
            ],
            "image/png": "[encoded data removed]"
          },
          "metadata": {
            "needs_background": "light"
          }
        }
      ],
      "source": [
        "plot_accuracy_and_loss(history_model1b)"
      ]
    },
    {
      "cell_type": "markdown",
      "metadata": {
        "id": "z87jJk074U1k"
      },
      "source": [
        "## Model 2 - Conv2D + GRU"
      ]
    },
    {
      "cell_type": "code",
      "execution_count": null,
      "metadata": {
        "id": "z2MyocP0od2h"
      },
      "outputs": [],
      "source": [
        "class RNNCNN1(ModelBuilderClass):\n",
        "    \n",
        "    def define_model(self):\n",
        "\n",
        "        model = Sequential()\n",
        "        model.add(TimeDistributed(\n",
        "            Conv2D(32, (3,3), activation='relu'), input_shape=(self.frames_to_sample,self.image_height,self.image_width,self.channels)))\n",
        "        model.add(TimeDistributed(\n",
        "            MaxPooling2D((2,2)))\n",
        "        )\n",
        "\n",
        "        model.add(TimeDistributed(\n",
        "            Conv2D(64, (3,3), activation='relu'))\n",
        "        )\n",
        "        model.add(TimeDistributed(\n",
        "            MaxPooling2D((2,2)))\n",
        "        )\n",
        "\n",
        "        model.add(TimeDistributed(GlobalAveragePooling2D()))\n",
        "        model.add(TimeDistributed(Dense(64, activation='relu')))\n",
        "\n",
        "        model.add(GRU(128))\n",
        "        \n",
        "        model.add(Dense(self.num_classes, activation='softmax'))\n",
        "        adam_optimizer = tf.keras.optimizers.Adam(0.002)\n",
        "        model.compile(optimizer=adam_optimizer, loss='categorical_crossentropy', metrics=['categorical_accuracy'])\n",
        "        return model"
      ]
    },
    {
      "cell_type": "code",
      "execution_count": null,
      "metadata": {
        "colab": {
          "base_uri": "https://localhost:8080/"
        },
        "id": "bajWLmZU4U1k",
        "outputId": "997e2f7b-f47b-4d62-d932-d06ee0f2554f"
      },
      "outputs": [
        {
          "output_type": "stream",
          "name": "stdout",
          "text": [
            "Model: \"sequential_7\"\n",
            "_________________________________________________________________\n",
            " Layer (type)                Output Shape              Param #   \n",
            "=================================================================\n",
            " time_distributed_6 (TimeDis  (None, 16, 62, 62, 32)   896       \n",
            " tributed)                                                       \n",
            "                                                                 \n",
            " time_distributed_7 (TimeDis  (None, 16, 31, 31, 32)   0         \n",
            " tributed)                                                       \n",
            "                                                                 \n",
            " time_distributed_8 (TimeDis  (None, 16, 29, 29, 64)   18496     \n",
            " tributed)                                                       \n",
            "                                                                 \n",
            " time_distributed_9 (TimeDis  (None, 16, 14, 14, 64)   0         \n",
            " tributed)                                                       \n",
            "                                                                 \n",
            " time_distributed_10 (TimeDi  (None, 16, 64)           0         \n",
            " stributed)                                                      \n",
            "                                                                 \n",
            " time_distributed_11 (TimeDi  (None, 16, 64)           4160      \n",
            " stributed)                                                      \n",
            "                                                                 \n",
            " gru_1 (GRU)                 (None, 128)               74496     \n",
            "                                                                 \n",
            " dense_15 (Dense)            (None, 5)                 645       \n",
            "                                                                 \n",
            "=================================================================\n",
            "Total params: 98,693\n",
            "Trainable params: 98,693\n",
            "Non-trainable params: 0\n",
            "_________________________________________________________________\n"
          ]
        }
      ],
      "source": [
        "rnn_cnn1=RNNCNN1()\n",
        "rnn_cnn1.initialize_path(project_folder)\n",
        "rnn_cnn1.initialize_image_properties(image_height=64,image_width=64)\n",
        "rnn_cnn1.initialize_hyperparams(frames_to_sample=16,batch_size=32,num_epochs=40)\n",
        "rnn_cnn1_model=rnn_cnn1.define_model()\n",
        "rnn_cnn1_model.summary()"
      ]
    },
    {
      "cell_type": "code",
      "execution_count": null,
      "metadata": {
        "colab": {
          "base_uri": "https://localhost:8080/"
        },
        "id": "KZgehSV04U1k",
        "outputId": "2dcc33e6-2de6-41b0-a5c2-f029818ac86f"
      },
      "outputs": [
        {
          "output_type": "stream",
          "name": "stderr",
          "text": [
            "WARNING:tensorflow:`period` argument is deprecated. Please use `save_freq` to specify the frequency in number of batches seen.\n"
          ]
        },
        {
          "output_type": "stream",
          "name": "stdout",
          "text": [
            "Total Params: 98693\n",
            "Epoch 1/40\n",
            "19/19 [==============================] - ETA: 0s - loss: 1.6126 - categorical_accuracy: 0.1980\n",
            "Epoch 1: val_loss improved from inf to 1.60431, saving model to model_init_2022-10-1415_42_07.753541/model-00001-1.61264-0.19799-1.60431-0.29851.h5\n",
            "19/19 [==============================] - 28s 1s/step - loss: 1.6126 - categorical_accuracy: 0.1980 - val_loss: 1.6043 - val_categorical_accuracy: 0.2985 - lr: 0.0020\n",
            "Epoch 2/40\n",
            "19/19 [==============================] - ETA: 0s - loss: 1.5936 - categorical_accuracy: 0.2517\n",
            "Epoch 2: val_loss improved from 1.60431 to 1.56553, saving model to model_init_2022-10-1415_42_07.753541/model-00002-1.59359-0.25168-1.56553-0.25373.h5\n",
            "19/19 [==============================] - 25s 1s/step - loss: 1.5936 - categorical_accuracy: 0.2517 - val_loss: 1.5655 - val_categorical_accuracy: 0.2537 - lr: 0.0020\n",
            "Epoch 3/40\n",
            "19/19 [==============================] - ETA: 0s - loss: 1.5340 - categorical_accuracy: 0.3104\n",
            "Epoch 3: val_loss improved from 1.56553 to 1.49168, saving model to model_init_2022-10-1415_42_07.753541/model-00003-1.53396-0.31040-1.49168-0.25373.h5\n",
            "19/19 [==============================] - 24s 1s/step - loss: 1.5340 - categorical_accuracy: 0.3104 - val_loss: 1.4917 - val_categorical_accuracy: 0.2537 - lr: 0.0020\n",
            "Epoch 4/40\n",
            "19/19 [==============================] - ETA: 0s - loss: 1.4023 - categorical_accuracy: 0.3574\n",
            "Epoch 4: val_loss improved from 1.49168 to 1.43718, saving model to model_init_2022-10-1415_42_07.753541/model-00004-1.40232-0.35738-1.43718-0.34328.h5\n",
            "19/19 [==============================] - 25s 1s/step - loss: 1.4023 - categorical_accuracy: 0.3574 - val_loss: 1.4372 - val_categorical_accuracy: 0.3433 - lr: 0.0020\n",
            "Epoch 5/40\n",
            "19/19 [==============================] - ETA: 0s - loss: 1.3520 - categorical_accuracy: 0.3708\n",
            "Epoch 5: val_loss improved from 1.43718 to 1.42687, saving model to model_init_2022-10-1415_42_07.753541/model-00005-1.35201-0.37081-1.42687-0.23881.h5\n",
            "19/19 [==============================] - 28s 2s/step - loss: 1.3520 - categorical_accuracy: 0.3708 - val_loss: 1.4269 - val_categorical_accuracy: 0.2388 - lr: 0.0020\n",
            "Epoch 6/40\n",
            "19/19 [==============================] - ETA: 0s - loss: 1.3029 - categorical_accuracy: 0.4128\n",
            "Epoch 6: val_loss improved from 1.42687 to 1.26265, saving model to model_init_2022-10-1415_42_07.753541/model-00006-1.30288-0.41275-1.26265-0.31343.h5\n",
            "19/19 [==============================] - 24s 1s/step - loss: 1.3029 - categorical_accuracy: 0.4128 - val_loss: 1.2626 - val_categorical_accuracy: 0.3134 - lr: 0.0020\n",
            "Epoch 7/40\n",
            "19/19 [==============================] - ETA: 0s - loss: 1.2067 - categorical_accuracy: 0.4379\n",
            "Epoch 7: val_loss improved from 1.26265 to 1.15136, saving model to model_init_2022-10-1415_42_07.753541/model-00007-1.20667-0.43792-1.15136-0.40299.h5\n",
            "19/19 [==============================] - 25s 1s/step - loss: 1.2067 - categorical_accuracy: 0.4379 - val_loss: 1.1514 - val_categorical_accuracy: 0.4030 - lr: 0.0020\n",
            "Epoch 8/40\n",
            "19/19 [==============================] - ETA: 0s - loss: 1.2029 - categorical_accuracy: 0.3993\n",
            "Epoch 8: val_loss did not improve from 1.15136\n",
            "19/19 [==============================] - 24s 1s/step - loss: 1.2029 - categorical_accuracy: 0.3993 - val_loss: 1.1802 - val_categorical_accuracy: 0.4328 - lr: 0.0020\n",
            "Epoch 9/40\n",
            "19/19 [==============================] - ETA: 0s - loss: 1.1732 - categorical_accuracy: 0.4614\n",
            "Epoch 9: val_loss did not improve from 1.15136\n",
            "19/19 [==============================] - 25s 1s/step - loss: 1.1732 - categorical_accuracy: 0.4614 - val_loss: 1.1853 - val_categorical_accuracy: 0.3881 - lr: 0.0020\n",
            "Epoch 10/40\n",
            "19/19 [==============================] - ETA: 0s - loss: 1.1990 - categorical_accuracy: 0.4245\n",
            "Epoch 10: val_loss did not improve from 1.15136\n",
            "19/19 [==============================] - 26s 1s/step - loss: 1.1990 - categorical_accuracy: 0.4245 - val_loss: 1.2234 - val_categorical_accuracy: 0.4030 - lr: 0.0020\n",
            "Epoch 11/40\n",
            "19/19 [==============================] - ETA: 0s - loss: 1.1480 - categorical_accuracy: 0.4346\n",
            "Epoch 11: val_loss improved from 1.15136 to 1.11558, saving model to model_init_2022-10-1415_42_07.753541/model-00011-1.14800-0.43456-1.11558-0.38806.h5\n",
            "19/19 [==============================] - 25s 1s/step - loss: 1.1480 - categorical_accuracy: 0.4346 - val_loss: 1.1156 - val_categorical_accuracy: 0.3881 - lr: 0.0020\n",
            "Epoch 12/40\n",
            "19/19 [==============================] - ETA: 0s - loss: 1.0953 - categorical_accuracy: 0.4564\n",
            "Epoch 12: val_loss improved from 1.11558 to 1.03957, saving model to model_init_2022-10-1415_42_07.753541/model-00012-1.09535-0.45638-1.03957-0.50746.h5\n",
            "19/19 [==============================] - 24s 1s/step - loss: 1.0953 - categorical_accuracy: 0.4564 - val_loss: 1.0396 - val_categorical_accuracy: 0.5075 - lr: 0.0020\n",
            "Epoch 13/40\n",
            "19/19 [==============================] - ETA: 0s - loss: 1.0856 - categorical_accuracy: 0.4497\n",
            "Epoch 13: val_loss did not improve from 1.03957\n",
            "19/19 [==============================] - 25s 1s/step - loss: 1.0856 - categorical_accuracy: 0.4497 - val_loss: 1.0832 - val_categorical_accuracy: 0.5522 - lr: 0.0020\n",
            "Epoch 14/40\n",
            "19/19 [==============================] - ETA: 0s - loss: 1.1033 - categorical_accuracy: 0.4547\n",
            "Epoch 14: val_loss did not improve from 1.03957\n",
            "19/19 [==============================] - 25s 1s/step - loss: 1.1033 - categorical_accuracy: 0.4547 - val_loss: 1.0639 - val_categorical_accuracy: 0.4030 - lr: 0.0020\n",
            "Epoch 15/40\n",
            "19/19 [==============================] - ETA: 0s - loss: 1.0844 - categorical_accuracy: 0.4765\n",
            "Epoch 15: val_loss improved from 1.03957 to 0.96662, saving model to model_init_2022-10-1415_42_07.753541/model-00015-1.08437-0.47651-0.96662-0.53731.h5\n",
            "19/19 [==============================] - 24s 1s/step - loss: 1.0844 - categorical_accuracy: 0.4765 - val_loss: 0.9666 - val_categorical_accuracy: 0.5373 - lr: 0.0020\n",
            "Epoch 16/40\n",
            "19/19 [==============================] - ETA: 0s - loss: 1.0335 - categorical_accuracy: 0.4933\n",
            "Epoch 16: val_loss did not improve from 0.96662\n",
            "19/19 [==============================] - 26s 1s/step - loss: 1.0335 - categorical_accuracy: 0.4933 - val_loss: 1.0006 - val_categorical_accuracy: 0.5672 - lr: 0.0020\n",
            "Epoch 17/40\n",
            "19/19 [==============================] - ETA: 0s - loss: 0.9875 - categorical_accuracy: 0.5185\n",
            "Epoch 17: val_loss did not improve from 0.96662\n",
            "19/19 [==============================] - 25s 1s/step - loss: 0.9875 - categorical_accuracy: 0.5185 - val_loss: 1.0231 - val_categorical_accuracy: 0.4627 - lr: 0.0020\n",
            "Epoch 18/40\n",
            "19/19 [==============================] - ETA: 0s - loss: 1.0431 - categorical_accuracy: 0.5034\n",
            "Epoch 18: val_loss did not improve from 0.96662\n",
            "19/19 [==============================] - 24s 1s/step - loss: 1.0431 - categorical_accuracy: 0.5034 - val_loss: 1.0535 - val_categorical_accuracy: 0.4627 - lr: 0.0020\n",
            "Epoch 19/40\n",
            "19/19 [==============================] - ETA: 0s - loss: 0.9556 - categorical_accuracy: 0.5319\n",
            "Epoch 19: val_loss improved from 0.96662 to 0.89653, saving model to model_init_2022-10-1415_42_07.753541/model-00019-0.95561-0.53188-0.89653-0.55224.h5\n",
            "19/19 [==============================] - 26s 1s/step - loss: 0.9556 - categorical_accuracy: 0.5319 - val_loss: 0.8965 - val_categorical_accuracy: 0.5522 - lr: 0.0020\n",
            "Epoch 20/40\n",
            "19/19 [==============================] - ETA: 0s - loss: 0.9743 - categorical_accuracy: 0.5319\n",
            "Epoch 20: val_loss did not improve from 0.89653\n",
            "19/19 [==============================] - 25s 1s/step - loss: 0.9743 - categorical_accuracy: 0.5319 - val_loss: 1.3035 - val_categorical_accuracy: 0.3433 - lr: 0.0020\n",
            "Epoch 21/40\n",
            "19/19 [==============================] - ETA: 0s - loss: 1.0725 - categorical_accuracy: 0.5218\n",
            "Epoch 21: val_loss did not improve from 0.89653\n",
            "19/19 [==============================] - 24s 1s/step - loss: 1.0725 - categorical_accuracy: 0.5218 - val_loss: 0.9204 - val_categorical_accuracy: 0.5373 - lr: 0.0020\n",
            "Epoch 22/40\n",
            "19/19 [==============================] - ETA: 0s - loss: 0.9006 - categorical_accuracy: 0.5587\n",
            "Epoch 22: val_loss did not improve from 0.89653\n",
            "19/19 [==============================] - 25s 1s/step - loss: 0.9006 - categorical_accuracy: 0.5587 - val_loss: 0.9188 - val_categorical_accuracy: 0.5970 - lr: 0.0020\n",
            "Epoch 23/40\n",
            "19/19 [==============================] - ETA: 0s - loss: 0.8932 - categorical_accuracy: 0.5470\n",
            "Epoch 23: val_loss improved from 0.89653 to 0.84242, saving model to model_init_2022-10-1415_42_07.753541/model-00023-0.89322-0.54698-0.84242-0.55224.h5\n",
            "19/19 [==============================] - 25s 1s/step - loss: 0.8932 - categorical_accuracy: 0.5470 - val_loss: 0.8424 - val_categorical_accuracy: 0.5522 - lr: 0.0020\n",
            "Epoch 24/40\n",
            "19/19 [==============================] - ETA: 0s - loss: 0.8631 - categorical_accuracy: 0.5671\n",
            "Epoch 24: val_loss did not improve from 0.84242\n",
            "19/19 [==============================] - 24s 1s/step - loss: 0.8631 - categorical_accuracy: 0.5671 - val_loss: 0.8445 - val_categorical_accuracy: 0.5970 - lr: 0.0020\n",
            "Epoch 25/40\n",
            "19/19 [==============================] - ETA: 0s - loss: 0.8708 - categorical_accuracy: 0.5856\n",
            "Epoch 25: val_loss did not improve from 0.84242\n",
            "19/19 [==============================] - 25s 1s/step - loss: 0.8708 - categorical_accuracy: 0.5856 - val_loss: 0.8638 - val_categorical_accuracy: 0.5821 - lr: 0.0020\n",
            "Epoch 26/40\n",
            "19/19 [==============================] - ETA: 0s - loss: 0.8210 - categorical_accuracy: 0.5906\n",
            "Epoch 26: val_loss did not improve from 0.84242\n",
            "19/19 [==============================] - 25s 1s/step - loss: 0.8210 - categorical_accuracy: 0.5906 - val_loss: 0.9383 - val_categorical_accuracy: 0.6119 - lr: 0.0020\n",
            "Epoch 27/40\n",
            "19/19 [==============================] - ETA: 0s - loss: 0.8381 - categorical_accuracy: 0.5872\n",
            "Epoch 27: val_loss did not improve from 0.84242\n",
            "\n",
            "Epoch 27: ReduceLROnPlateau reducing learning rate to 0.0004000000189989805.\n",
            "19/19 [==============================] - 25s 1s/step - loss: 0.8381 - categorical_accuracy: 0.5872 - val_loss: 0.9682 - val_categorical_accuracy: 0.5224 - lr: 0.0020\n",
            "Epoch 28/40\n",
            "19/19 [==============================] - ETA: 0s - loss: 0.8382 - categorical_accuracy: 0.5856\n",
            "Epoch 28: val_loss improved from 0.84242 to 0.81614, saving model to model_init_2022-10-1415_42_07.753541/model-00028-0.83820-0.58557-0.81614-0.59701.h5\n",
            "19/19 [==============================] - 25s 1s/step - loss: 0.8382 - categorical_accuracy: 0.5856 - val_loss: 0.8161 - val_categorical_accuracy: 0.5970 - lr: 4.0000e-04\n",
            "Epoch 29/40\n",
            "19/19 [==============================] - ETA: 0s - loss: 0.7884 - categorical_accuracy: 0.6309\n",
            "Epoch 29: val_loss improved from 0.81614 to 0.69103, saving model to model_init_2022-10-1415_42_07.753541/model-00029-0.78845-0.63087-0.69103-0.71642.h5\n",
            "19/19 [==============================] - 25s 1s/step - loss: 0.7884 - categorical_accuracy: 0.6309 - val_loss: 0.6910 - val_categorical_accuracy: 0.7164 - lr: 4.0000e-04\n",
            "Epoch 30/40\n",
            "19/19 [==============================] - ETA: 0s - loss: 0.7740 - categorical_accuracy: 0.6208\n",
            "Epoch 30: val_loss did not improve from 0.69103\n",
            "19/19 [==============================] - 23s 1s/step - loss: 0.7740 - categorical_accuracy: 0.6208 - val_loss: 0.7481 - val_categorical_accuracy: 0.7015 - lr: 4.0000e-04\n",
            "Epoch 31/40\n",
            "19/19 [==============================] - ETA: 0s - loss: 0.7797 - categorical_accuracy: 0.5956\n",
            "Epoch 31: val_loss did not improve from 0.69103\n",
            "19/19 [==============================] - 25s 1s/step - loss: 0.7797 - categorical_accuracy: 0.5956 - val_loss: 0.7512 - val_categorical_accuracy: 0.7164 - lr: 4.0000e-04\n",
            "Epoch 32/40\n",
            "19/19 [==============================] - ETA: 0s - loss: 0.7765 - categorical_accuracy: 0.6040\n",
            "Epoch 32: val_loss did not improve from 0.69103\n",
            "19/19 [==============================] - 25s 1s/step - loss: 0.7765 - categorical_accuracy: 0.6040 - val_loss: 0.7797 - val_categorical_accuracy: 0.6866 - lr: 4.0000e-04\n",
            "Epoch 33/40\n",
            "19/19 [==============================] - ETA: 0s - loss: 0.7751 - categorical_accuracy: 0.6225\n",
            "Epoch 33: val_loss did not improve from 0.69103\n",
            "\n",
            "Epoch 33: ReduceLROnPlateau reducing learning rate to 8.000000379979611e-05.\n",
            "19/19 [==============================] - 24s 1s/step - loss: 0.7751 - categorical_accuracy: 0.6225 - val_loss: 0.8172 - val_categorical_accuracy: 0.6716 - lr: 4.0000e-04\n",
            "Epoch 34/40\n",
            "19/19 [==============================] - ETA: 0s - loss: 0.7731 - categorical_accuracy: 0.6174\n",
            "Epoch 34: val_loss did not improve from 0.69103\n",
            "19/19 [==============================] - 25s 1s/step - loss: 0.7731 - categorical_accuracy: 0.6174 - val_loss: 0.7443 - val_categorical_accuracy: 0.6418 - lr: 8.0000e-05\n",
            "Epoch 35/40\n",
            "19/19 [==============================] - ETA: 0s - loss: 0.7497 - categorical_accuracy: 0.6191\n",
            "Epoch 35: val_loss did not improve from 0.69103\n",
            "19/19 [==============================] - 25s 1s/step - loss: 0.7497 - categorical_accuracy: 0.6191 - val_loss: 0.7745 - val_categorical_accuracy: 0.6866 - lr: 8.0000e-05\n",
            "Epoch 36/40\n",
            "19/19 [==============================] - ETA: 0s - loss: 0.7387 - categorical_accuracy: 0.6242\n",
            "Epoch 36: val_loss did not improve from 0.69103\n",
            "19/19 [==============================] - 25s 1s/step - loss: 0.7387 - categorical_accuracy: 0.6242 - val_loss: 0.7532 - val_categorical_accuracy: 0.6567 - lr: 8.0000e-05\n",
            "Epoch 37/40\n",
            "19/19 [==============================] - ETA: 0s - loss: 0.7413 - categorical_accuracy: 0.6174\n",
            "Epoch 37: val_loss did not improve from 0.69103\n",
            "\n",
            "Epoch 37: ReduceLROnPlateau reducing learning rate to 1.6000001050997525e-05.\n",
            "19/19 [==============================] - 25s 1s/step - loss: 0.7413 - categorical_accuracy: 0.6174 - val_loss: 0.7287 - val_categorical_accuracy: 0.6567 - lr: 8.0000e-05\n",
            "Epoch 38/40\n",
            "19/19 [==============================] - ETA: 0s - loss: 0.7386 - categorical_accuracy: 0.6275\n",
            "Epoch 38: val_loss did not improve from 0.69103\n",
            "19/19 [==============================] - 25s 1s/step - loss: 0.7386 - categorical_accuracy: 0.6275 - val_loss: 0.8279 - val_categorical_accuracy: 0.6418 - lr: 1.6000e-05\n",
            "Epoch 39/40\n",
            "19/19 [==============================] - ETA: 0s - loss: 0.7357 - categorical_accuracy: 0.6292\n",
            "Epoch 39: val_loss did not improve from 0.69103\n",
            "19/19 [==============================] - 23s 1s/step - loss: 0.7357 - categorical_accuracy: 0.6292 - val_loss: 0.7238 - val_categorical_accuracy: 0.6716 - lr: 1.6000e-05\n",
            "Epoch 39: early stopping\n",
            "Evaluating\n",
            "\n",
            "Test accuracy: 0.7300000190734863\n",
            "\n",
            "Test loss: 0.6915207505226135\n"
          ]
        }
      ],
      "source": [
        "print(\"Total Params:\", rnn_cnn1_model.count_params())\n",
        "history_model2=rnn_cnn1.train_model(rnn_cnn1_model)"
      ]
    },
    {
      "cell_type": "code",
      "execution_count": null,
      "metadata": {
        "colab": {
          "base_uri": "https://localhost:8080/",
          "height": 265
        },
        "id": "GGj9_DIRFLZ5",
        "outputId": "0e0b4933-6092-44db-82c2-63377165b9ba"
      },
      "outputs": [
        {
          "output_type": "display_data",
          "data": {
            "text/plain": [
              "<Figure size 1080x288 with 2 Axes>"
            ],
            "image/png": "[encoded data removed]"
          },
          "metadata": {
            "needs_background": "light"
          }
        }
      ],
      "source": [
        "plot_accuracy_and_loss(history_model2)"
      ]
    },
    {
      "cell_type": "markdown",
      "metadata": {
        "id": "agtUITFl4U1k"
      },
      "source": [
        "##### Model has a  best validation accuracy of 72% and training accuracy of 76% . Also we were able to reduce the parameter size by half the earlier model. Let's trying adding more layers"
      ]
    },
    {
      "cell_type": "markdown",
      "metadata": {
        "id": "Pl-6lMCb4U1k"
      },
      "source": [
        "## Model 3 - Conv2D + LSTM\n"
      ]
    },
    {
      "cell_type": "markdown",
      "source": [
        "#### A. Without Augmentation"
      ],
      "metadata": {
        "id": "H1p-pLy0KOSy"
      }
    },
    {
      "cell_type": "code",
      "execution_count": null,
      "metadata": {
        "id": "F0lOfJDF4U1l"
      },
      "outputs": [],
      "source": [
        "class RNNCNN2(ModelBuilderClass):\n",
        "    \n",
        "    def define_model(self,lstm_cells=64,dense_neurons=64,dropout=0.25):\n",
        "\n",
        "        model = Sequential()\n",
        "\n",
        "        model.add(TimeDistributed(Conv2D(16, (3, 3) , padding='same', activation='relu'),\n",
        "                                  input_shape=(self.frames_to_sample,self.image_height,self.image_width,self.channels)))\n",
        "        model.add(TimeDistributed(MaxPooling2D((2, 2))))\n",
        "        \n",
        "        model.add(TimeDistributed(Conv2D(32, (3, 3) , padding='same', activation='relu')))\n",
        "        model.add(TimeDistributed(MaxPooling2D((2, 2))))\n",
        "        model.add(TimeDistributed(Dropout(dropout)))\n",
        "        \n",
        "        model.add(TimeDistributed(Conv2D(64, (3, 3) , padding='same', activation='relu')))\n",
        "        model.add(TimeDistributed(MaxPooling2D((2, 2))))\n",
        "        \n",
        "        model.add(TimeDistributed(Conv2D(128, (3, 3) , padding='same', activation='relu')))\n",
        "        model.add(TimeDistributed(MaxPooling2D((2, 2))))\n",
        "        model.add(TimeDistributed(Dropout(dropout)))\n",
        "        \n",
        "        model.add(TimeDistributed(Conv2D(256, (3, 3) , padding='same', activation='relu')))\n",
        "        model.add(TimeDistributed(MaxPooling2D((2, 2))))\n",
        "  \n",
        "        model.add(TimeDistributed(Flatten()))\n",
        "        model.add(LSTM(lstm_cells))\n",
        "        model.add(Dropout(0.5))\n",
        "        \n",
        "        model.add(Dense(dense_neurons,activation='relu'))\n",
        "        model.add(Dropout(0.25))        \n",
        "        model.add(Dense(self.num_classes, activation='softmax'))\n",
        "        \n",
        "        adam_optimizer = tf.keras.optimizers.Adam(lr=0.002)\n",
        "        model.compile(optimizer=adam_optimizer, loss='categorical_crossentropy', metrics=['categorical_accuracy'])\n",
        "        return model"
      ]
    },
    {
      "cell_type": "code",
      "execution_count": null,
      "metadata": {
        "colab": {
          "base_uri": "https://localhost:8080/"
        },
        "id": "bw1ON-pa4U1l",
        "outputId": "4298436e-7cd6-4164-e705-a1fd3e2208a5"
      },
      "outputs": [
        {
          "output_type": "stream",
          "name": "stdout",
          "text": [
            "Model: \"sequential_8\"\n",
            "_________________________________________________________________\n",
            " Layer (type)                Output Shape              Param #   \n",
            "=================================================================\n",
            " time_distributed_12 (TimeDi  (None, 16, 64, 64, 16)   448       \n",
            " stributed)                                                      \n",
            "                                                                 \n",
            " time_distributed_13 (TimeDi  (None, 16, 32, 32, 16)   0         \n",
            " stributed)                                                      \n",
            "                                                                 \n",
            " time_distributed_14 (TimeDi  (None, 16, 32, 32, 32)   4640      \n",
            " stributed)                                                      \n",
            "                                                                 \n",
            " time_distributed_15 (TimeDi  (None, 16, 16, 16, 32)   0         \n",
            " stributed)                                                      \n",
            "                                                                 \n",
            " time_distributed_16 (TimeDi  (None, 16, 16, 16, 32)   0         \n",
            " stributed)                                                      \n",
            "                                                                 \n",
            " time_distributed_17 (TimeDi  (None, 16, 16, 16, 64)   18496     \n",
            " stributed)                                                      \n",
            "                                                                 \n",
            " time_distributed_18 (TimeDi  (None, 16, 8, 8, 64)     0         \n",
            " stributed)                                                      \n",
            "                                                                 \n",
            " time_distributed_19 (TimeDi  (None, 16, 8, 8, 128)    73856     \n",
            " stributed)                                                      \n",
            "                                                                 \n",
            " time_distributed_20 (TimeDi  (None, 16, 4, 4, 128)    0         \n",
            " stributed)                                                      \n",
            "                                                                 \n",
            " time_distributed_21 (TimeDi  (None, 16, 4, 4, 128)    0         \n",
            " stributed)                                                      \n",
            "                                                                 \n",
            " time_distributed_22 (TimeDi  (None, 16, 4, 4, 256)    295168    \n",
            " stributed)                                                      \n",
            "                                                                 \n",
            " time_distributed_23 (TimeDi  (None, 16, 2, 2, 256)    0         \n",
            " stributed)                                                      \n",
            "                                                                 \n",
            " time_distributed_24 (TimeDi  (None, 16, 1024)         0         \n",
            " stributed)                                                      \n",
            "                                                                 \n",
            " lstm (LSTM)                 (None, 64)                278784    \n",
            "                                                                 \n",
            " dropout_16 (Dropout)        (None, 64)                0         \n",
            "                                                                 \n",
            " dense_16 (Dense)            (None, 64)                4160      \n",
            "                                                                 \n",
            " dropout_17 (Dropout)        (None, 64)                0         \n",
            "                                                                 \n",
            " dense_17 (Dense)            (None, 5)                 325       \n",
            "                                                                 \n",
            "=================================================================\n",
            "Total params: 675,877\n",
            "Trainable params: 675,877\n",
            "Non-trainable params: 0\n",
            "_________________________________________________________________\n"
          ]
        }
      ],
      "source": [
        "rnn_cnn2=RNNCNN2()\n",
        "rnn_cnn2.initialize_path(project_folder)\n",
        "rnn_cnn2.initialize_image_properties(image_height=64,image_width=64)\n",
        "rnn_cnn2.initialize_hyperparams(frames_to_sample=16,batch_size=32,num_epochs=40)\n",
        "rnn_cnn2_model=rnn_cnn2.define_model(lstm_cells=64,dense_neurons=64,dropout=0.25)\n",
        "rnn_cnn2_model.summary()"
      ]
    },
    {
      "cell_type": "code",
      "execution_count": null,
      "metadata": {
        "colab": {
          "base_uri": "https://localhost:8080/"
        },
        "id": "8hMI20xk4U1l",
        "outputId": "4be1c5de-1422-4597-93ae-8a57167c03f5"
      },
      "outputs": [
        {
          "output_type": "stream",
          "name": "stderr",
          "text": [
            "WARNING:tensorflow:`period` argument is deprecated. Please use `save_freq` to specify the frequency in number of batches seen.\n"
          ]
        },
        {
          "output_type": "stream",
          "name": "stdout",
          "text": [
            "Total Params: 675877\n",
            "Epoch 1/40\n",
            "19/19 [==============================] - ETA: 0s - loss: 1.6447 - categorical_accuracy: 0.1879\n",
            "Epoch 1: val_loss improved from inf to 1.61312, saving model to model_init_2022-10-1416_01_11.718520/model-00001-1.64465-0.18792-1.61312-0.13433.h5\n",
            "19/19 [==============================] - 77s 1s/step - loss: 1.6447 - categorical_accuracy: 0.1879 - val_loss: 1.6131 - val_categorical_accuracy: 0.1343 - lr: 0.0020\n",
            "Epoch 2/40\n",
            "19/19 [==============================] - ETA: 0s - loss: 1.6114 - categorical_accuracy: 0.1980\n",
            "Epoch 2: val_loss improved from 1.61312 to 1.60988, saving model to model_init_2022-10-1416_01_11.718520/model-00002-1.61141-0.19799-1.60988-0.20896.h5\n",
            "19/19 [==============================] - 25s 1s/step - loss: 1.6114 - categorical_accuracy: 0.1980 - val_loss: 1.6099 - val_categorical_accuracy: 0.2090 - lr: 0.0020\n",
            "Epoch 3/40\n",
            "19/19 [==============================] - ETA: 0s - loss: 1.6101 - categorical_accuracy: 0.1862\n",
            "Epoch 3: val_loss improved from 1.60988 to 1.60681, saving model to model_init_2022-10-1416_01_11.718520/model-00003-1.61007-0.18624-1.60681-0.23881.h5\n",
            "19/19 [==============================] - 24s 1s/step - loss: 1.6101 - categorical_accuracy: 0.1862 - val_loss: 1.6068 - val_categorical_accuracy: 0.2388 - lr: 0.0020\n",
            "Epoch 4/40\n",
            "19/19 [==============================] - ETA: 0s - loss: 1.6110 - categorical_accuracy: 0.2114\n",
            "Epoch 4: val_loss improved from 1.60681 to 1.60617, saving model to model_init_2022-10-1416_01_11.718520/model-00004-1.61097-0.21141-1.60617-0.22388.h5\n",
            "19/19 [==============================] - 26s 1s/step - loss: 1.6110 - categorical_accuracy: 0.2114 - val_loss: 1.6062 - val_categorical_accuracy: 0.2239 - lr: 0.0020\n",
            "Epoch 5/40\n",
            "19/19 [==============================] - ETA: 0s - loss: 1.6093 - categorical_accuracy: 0.2081\n",
            "Epoch 5: val_loss did not improve from 1.60617\n",
            "19/19 [==============================] - 25s 1s/step - loss: 1.6093 - categorical_accuracy: 0.2081 - val_loss: 1.6067 - val_categorical_accuracy: 0.2388 - lr: 0.0020\n",
            "Epoch 6/40\n",
            "19/19 [==============================] - ETA: 0s - loss: 1.6053 - categorical_accuracy: 0.2215\n",
            "Epoch 6: val_loss improved from 1.60617 to 1.56948, saving model to model_init_2022-10-1416_01_11.718520/model-00006-1.60535-0.22148-1.56948-0.31343.h5\n",
            "19/19 [==============================] - 24s 1s/step - loss: 1.6053 - categorical_accuracy: 0.2215 - val_loss: 1.5695 - val_categorical_accuracy: 0.3134 - lr: 0.0020\n",
            "Epoch 7/40\n",
            "19/19 [==============================] - ETA: 0s - loss: 1.5353 - categorical_accuracy: 0.3037\n",
            "Epoch 7: val_loss did not improve from 1.56948\n",
            "19/19 [==============================] - 25s 1s/step - loss: 1.5353 - categorical_accuracy: 0.3037 - val_loss: 1.5780 - val_categorical_accuracy: 0.3134 - lr: 0.0020\n",
            "Epoch 8/40\n",
            "19/19 [==============================] - ETA: 0s - loss: 1.4856 - categorical_accuracy: 0.3171\n",
            "Epoch 8: val_loss improved from 1.56948 to 1.33653, saving model to model_init_2022-10-1416_01_11.718520/model-00008-1.48563-0.31711-1.33653-0.40299.h5\n",
            "19/19 [==============================] - 25s 1s/step - loss: 1.4856 - categorical_accuracy: 0.3171 - val_loss: 1.3365 - val_categorical_accuracy: 0.4030 - lr: 0.0020\n",
            "Epoch 9/40\n",
            "19/19 [==============================] - ETA: 0s - loss: 1.3824 - categorical_accuracy: 0.3624\n",
            "Epoch 9: val_loss improved from 1.33653 to 1.32328, saving model to model_init_2022-10-1416_01_11.718520/model-00009-1.38236-0.36242-1.32328-0.40299.h5\n",
            "19/19 [==============================] - 24s 1s/step - loss: 1.3824 - categorical_accuracy: 0.3624 - val_loss: 1.3233 - val_categorical_accuracy: 0.4030 - lr: 0.0020\n",
            "Epoch 10/40\n",
            "19/19 [==============================] - ETA: 0s - loss: 1.3536 - categorical_accuracy: 0.3742\n",
            "Epoch 10: val_loss did not improve from 1.32328\n",
            "19/19 [==============================] - 25s 1s/step - loss: 1.3536 - categorical_accuracy: 0.3742 - val_loss: 1.3951 - val_categorical_accuracy: 0.3284 - lr: 0.0020\n",
            "Epoch 11/40\n",
            "19/19 [==============================] - ETA: 0s - loss: 1.2928 - categorical_accuracy: 0.3826\n",
            "Epoch 11: val_loss did not improve from 1.32328\n",
            "19/19 [==============================] - 25s 1s/step - loss: 1.2928 - categorical_accuracy: 0.3826 - val_loss: 1.4024 - val_categorical_accuracy: 0.3433 - lr: 0.0020\n",
            "Epoch 12/40\n",
            "19/19 [==============================] - ETA: 0s - loss: 1.2405 - categorical_accuracy: 0.4044\n",
            "Epoch 12: val_loss improved from 1.32328 to 1.30438, saving model to model_init_2022-10-1416_01_11.718520/model-00012-1.24055-0.40436-1.30438-0.34328.h5\n",
            "19/19 [==============================] - 25s 1s/step - loss: 1.2405 - categorical_accuracy: 0.4044 - val_loss: 1.3044 - val_categorical_accuracy: 0.3433 - lr: 0.0020\n",
            "Epoch 13/40\n",
            "19/19 [==============================] - ETA: 0s - loss: 1.2298 - categorical_accuracy: 0.4295\n",
            "Epoch 13: val_loss improved from 1.30438 to 1.27852, saving model to model_init_2022-10-1416_01_11.718520/model-00013-1.22977-0.42953-1.27852-0.37313.h5\n",
            "19/19 [==============================] - 25s 1s/step - loss: 1.2298 - categorical_accuracy: 0.4295 - val_loss: 1.2785 - val_categorical_accuracy: 0.3731 - lr: 0.0020\n",
            "Epoch 14/40\n",
            "19/19 [==============================] - ETA: 0s - loss: 1.2065 - categorical_accuracy: 0.4581\n",
            "Epoch 14: val_loss did not improve from 1.27852\n",
            "19/19 [==============================] - 25s 1s/step - loss: 1.2065 - categorical_accuracy: 0.4581 - val_loss: 1.2962 - val_categorical_accuracy: 0.4328 - lr: 0.0020\n",
            "Epoch 15/40\n",
            "19/19 [==============================] - ETA: 0s - loss: 1.1693 - categorical_accuracy: 0.4732\n",
            "Epoch 15: val_loss improved from 1.27852 to 1.26221, saving model to model_init_2022-10-1416_01_11.718520/model-00015-1.16930-0.47315-1.26221-0.43284.h5\n",
            "19/19 [==============================] - 24s 1s/step - loss: 1.1693 - categorical_accuracy: 0.4732 - val_loss: 1.2622 - val_categorical_accuracy: 0.4328 - lr: 0.0020\n",
            "Epoch 16/40\n",
            "19/19 [==============================] - ETA: 0s - loss: 1.1346 - categorical_accuracy: 0.4799\n",
            "Epoch 16: val_loss did not improve from 1.26221\n",
            "19/19 [==============================] - 26s 1s/step - loss: 1.1346 - categorical_accuracy: 0.4799 - val_loss: 1.2835 - val_categorical_accuracy: 0.4328 - lr: 0.0020\n",
            "Epoch 17/40\n",
            "19/19 [==============================] - ETA: 0s - loss: 1.1817 - categorical_accuracy: 0.4513\n",
            "Epoch 17: val_loss did not improve from 1.26221\n",
            "19/19 [==============================] - 26s 1s/step - loss: 1.1817 - categorical_accuracy: 0.4513 - val_loss: 1.2764 - val_categorical_accuracy: 0.4030 - lr: 0.0020\n",
            "Epoch 18/40\n",
            "19/19 [==============================] - ETA: 0s - loss: 1.1468 - categorical_accuracy: 0.4849\n",
            "Epoch 18: val_loss did not improve from 1.26221\n",
            "19/19 [==============================] - 25s 1s/step - loss: 1.1468 - categorical_accuracy: 0.4849 - val_loss: 1.4215 - val_categorical_accuracy: 0.3284 - lr: 0.0020\n",
            "Epoch 19/40\n",
            "19/19 [==============================] - ETA: 0s - loss: 1.0681 - categorical_accuracy: 0.5117\n",
            "Epoch 19: val_loss did not improve from 1.26221\n",
            "\n",
            "Epoch 19: ReduceLROnPlateau reducing learning rate to 0.0004000000189989805.\n",
            "19/19 [==============================] - 25s 1s/step - loss: 1.0681 - categorical_accuracy: 0.5117 - val_loss: 1.4428 - val_categorical_accuracy: 0.4030 - lr: 0.0020\n",
            "Epoch 20/40\n",
            "19/19 [==============================] - ETA: 0s - loss: 1.0105 - categorical_accuracy: 0.5352\n",
            "Epoch 20: val_loss did not improve from 1.26221\n",
            "19/19 [==============================] - 27s 1s/step - loss: 1.0105 - categorical_accuracy: 0.5352 - val_loss: 1.3449 - val_categorical_accuracy: 0.4179 - lr: 4.0000e-04\n",
            "Epoch 21/40\n",
            "19/19 [==============================] - ETA: 0s - loss: 0.9772 - categorical_accuracy: 0.5520\n",
            "Epoch 21: val_loss did not improve from 1.26221\n",
            "19/19 [==============================] - 24s 1s/step - loss: 0.9772 - categorical_accuracy: 0.5520 - val_loss: 1.4568 - val_categorical_accuracy: 0.3881 - lr: 4.0000e-04\n",
            "Epoch 22/40\n",
            "19/19 [==============================] - ETA: 0s - loss: 0.9668 - categorical_accuracy: 0.5638\n",
            "Epoch 22: val_loss did not improve from 1.26221\n",
            "19/19 [==============================] - 26s 1s/step - loss: 0.9668 - categorical_accuracy: 0.5638 - val_loss: 1.4839 - val_categorical_accuracy: 0.3731 - lr: 4.0000e-04\n",
            "Epoch 23/40\n",
            "19/19 [==============================] - ETA: 0s - loss: 0.9354 - categorical_accuracy: 0.5872\n",
            "Epoch 23: val_loss did not improve from 1.26221\n",
            "\n",
            "Epoch 23: ReduceLROnPlateau reducing learning rate to 8.000000379979611e-05.\n",
            "19/19 [==============================] - 26s 1s/step - loss: 0.9354 - categorical_accuracy: 0.5872 - val_loss: 1.5064 - val_categorical_accuracy: 0.3134 - lr: 4.0000e-04\n",
            "Epoch 24/40\n",
            "19/19 [==============================] - ETA: 0s - loss: 0.9358 - categorical_accuracy: 0.5973\n",
            "Epoch 24: val_loss did not improve from 1.26221\n",
            "19/19 [==============================] - 25s 1s/step - loss: 0.9358 - categorical_accuracy: 0.5973 - val_loss: 1.5111 - val_categorical_accuracy: 0.3582 - lr: 8.0000e-05\n",
            "Epoch 25/40\n",
            "19/19 [==============================] - ETA: 0s - loss: 0.9065 - categorical_accuracy: 0.5638\n",
            "Epoch 25: val_loss did not improve from 1.26221\n",
            "19/19 [==============================] - 25s 1s/step - loss: 0.9065 - categorical_accuracy: 0.5638 - val_loss: 1.5092 - val_categorical_accuracy: 0.3433 - lr: 8.0000e-05\n",
            "Epoch 25: early stopping\n",
            "Evaluating\n",
            "\n",
            "Test accuracy: 0.5199999809265137\n",
            "\n",
            "Test loss: 1.073970079421997\n"
          ]
        }
      ],
      "source": [
        "print(\"Total Params:\", rnn_cnn2_model.count_params())\n",
        "history_model3=rnn_cnn2.train_model(rnn_cnn2_model)"
      ]
    },
    {
      "cell_type": "code",
      "execution_count": null,
      "metadata": {
        "colab": {
          "base_uri": "https://localhost:8080/",
          "height": 265
        },
        "id": "-V6mYKrUFGxr",
        "outputId": "0a26f3fd-0099-4c9b-81ea-766502b1b314"
      },
      "outputs": [
        {
          "output_type": "display_data",
          "data": {
            "text/plain": [
              "<Figure size 1080x288 with 2 Axes>"
            ],
            "image/png": "[encoded data removed]"
          },
          "metadata": {
            "needs_background": "light"
          }
        }
      ],
      "source": [
        "plot_accuracy_and_loss(history_model3)"
      ]
    },
    {
      "cell_type": "markdown",
      "source": [
        "#### B. With Augmentation"
      ],
      "metadata": {
        "id": "qJE2ArhmKTIr"
      }
    },
    {
      "cell_type": "code",
      "source": [
        "rnn_cnn2b=RNNCNN2()\n",
        "rnn_cnn2b.initialize_path(project_folder)\n",
        "rnn_cnn2b.initialize_image_properties(image_height=64,image_width=64)\n",
        "rnn_cnn2b.initialize_hyperparams(frames_to_sample=16,batch_size=32,num_epochs=40)\n",
        "rnn_cnn2b_model=rnn_cnn2b.define_model(lstm_cells=64,dense_neurons=64,dropout=0.25)\n",
        "# rnn_cnn2b_model.summary()"
      ],
      "metadata": {
        "id": "GjRbdkNnRbm5"
      },
      "execution_count": null,
      "outputs": []
    },
    {
      "cell_type": "code",
      "source": [
        "print(\"Total Params:\", rnn_cnn2b_model.count_params())\n",
        "history_model3b=rnn_cnn2.train_model(rnn_cnn2b_model, augment_data=True)"
      ],
      "metadata": {
        "colab": {
          "base_uri": "https://localhost:8080/"
        },
        "id": "L9kXdXADRfm1",
        "outputId": "d7f28941-a8d5-4925-b1e7-d50e52038641"
      },
      "execution_count": null,
      "outputs": [
        {
          "metadata": {
            "tags": null
          },
          "name": "stderr",
          "output_type": "stream",
          "text": [
            "WARNING:tensorflow:`period` argument is deprecated. Please use `save_freq` to specify the frequency in number of batches seen.\n"
          ]
        },
        {
          "output_type": "stream",
          "name": "stdout",
          "text": [
            "Total Params: 675877\n",
            "Epoch 1/40\n",
            "19/19 [==============================] - ETA: 0s - loss: 1.6173 - categorical_accuracy: 0.2307\n",
            "Epoch 1: val_loss improved from inf to 1.59551, saving model to model_init_2022-10-1416_14_33.656422/model-00001-1.61730-0.23070-1.59551-0.34328.h5\n",
            "19/19 [==============================] - 57s 3s/step - loss: 1.6173 - categorical_accuracy: 0.2307 - val_loss: 1.5955 - val_categorical_accuracy: 0.3433 - lr: 0.0020\n",
            "Epoch 2/40\n",
            "19/19 [==============================] - ETA: 0s - loss: 1.5727 - categorical_accuracy: 0.2794\n",
            "Epoch 2: val_loss improved from 1.59551 to 1.56788, saving model to model_init_2022-10-1416_14_33.656422/model-00002-1.57268-0.27936-1.56788-0.31343.h5\n",
            "19/19 [==============================] - 44s 2s/step - loss: 1.5727 - categorical_accuracy: 0.2794 - val_loss: 1.5679 - val_categorical_accuracy: 0.3134 - lr: 0.0020\n",
            "Epoch 3/40\n",
            "19/19 [==============================] - ETA: 0s - loss: 1.4733 - categorical_accuracy: 0.3482\n",
            "Epoch 3: val_loss improved from 1.56788 to 1.38755, saving model to model_init_2022-10-1416_14_33.656422/model-00003-1.47331-0.34815-1.38755-0.31343.h5\n",
            "19/19 [==============================] - 45s 3s/step - loss: 1.4733 - categorical_accuracy: 0.3482 - val_loss: 1.3875 - val_categorical_accuracy: 0.3134 - lr: 0.0020\n",
            "Epoch 4/40\n",
            "19/19 [==============================] - ETA: 0s - loss: 1.3864 - categorical_accuracy: 0.3700\n",
            "Epoch 4: val_loss improved from 1.38755 to 1.35831, saving model to model_init_2022-10-1416_14_33.656422/model-00004-1.38640-0.36997-1.35831-0.34328.h5\n",
            "19/19 [==============================] - 45s 2s/step - loss: 1.3864 - categorical_accuracy: 0.3700 - val_loss: 1.3583 - val_categorical_accuracy: 0.3433 - lr: 0.0020\n",
            "Epoch 5/40\n",
            "19/19 [==============================] - ETA: 0s - loss: 1.2982 - categorical_accuracy: 0.3951\n",
            "Epoch 5: val_loss improved from 1.35831 to 1.21434, saving model to model_init_2022-10-1416_14_33.656422/model-00005-1.29824-0.39513-1.21434-0.37313.h5\n",
            "19/19 [==============================] - 44s 2s/step - loss: 1.2982 - categorical_accuracy: 0.3951 - val_loss: 1.2143 - val_categorical_accuracy: 0.3731 - lr: 0.0020\n",
            "Epoch 6/40\n",
            "19/19 [==============================] - ETA: 0s - loss: 1.2677 - categorical_accuracy: 0.4069\n",
            "Epoch 6: val_loss did not improve from 1.21434\n",
            "19/19 [==============================] - 43s 2s/step - loss: 1.2677 - categorical_accuracy: 0.4069 - val_loss: 1.2630 - val_categorical_accuracy: 0.4030 - lr: 0.0020\n",
            "Epoch 7/40\n",
            "19/19 [==============================] - ETA: 0s - loss: 1.2198 - categorical_accuracy: 0.4455\n",
            "Epoch 7: val_loss improved from 1.21434 to 1.21240, saving model to model_init_2022-10-1416_14_33.656422/model-00007-1.21978-0.44547-1.21240-0.38806.h5\n",
            "19/19 [==============================] - 45s 2s/step - loss: 1.2198 - categorical_accuracy: 0.4455 - val_loss: 1.2124 - val_categorical_accuracy: 0.3881 - lr: 0.0020\n",
            "Epoch 8/40\n",
            "19/19 [==============================] - ETA: 0s - loss: 1.1597 - categorical_accuracy: 0.4673\n",
            "Epoch 8: val_loss did not improve from 1.21240\n",
            "19/19 [==============================] - 43s 2s/step - loss: 1.1597 - categorical_accuracy: 0.4673 - val_loss: 1.2891 - val_categorical_accuracy: 0.4478 - lr: 0.0020\n",
            "Epoch 9/40\n",
            "19/19 [==============================] - ETA: 0s - loss: 1.1793 - categorical_accuracy: 0.4706\n",
            "Epoch 9: val_loss did not improve from 1.21240\n",
            "19/19 [==============================] - 43s 2s/step - loss: 1.1793 - categorical_accuracy: 0.4706 - val_loss: 1.3169 - val_categorical_accuracy: 0.3433 - lr: 0.0020\n",
            "Epoch 10/40\n",
            "19/19 [==============================] - ETA: 0s - loss: 1.1256 - categorical_accuracy: 0.4883\n",
            "Epoch 10: val_loss did not improve from 1.21240\n",
            "19/19 [==============================] - 43s 2s/step - loss: 1.1256 - categorical_accuracy: 0.4883 - val_loss: 1.2587 - val_categorical_accuracy: 0.4478 - lr: 0.0020\n",
            "Epoch 11/40\n",
            "19/19 [==============================] - ETA: 0s - loss: 1.0499 - categorical_accuracy: 0.5319\n",
            "Epoch 11: val_loss did not improve from 1.21240\n",
            "\n",
            "Epoch 11: ReduceLROnPlateau reducing learning rate to 0.0004000000189989805.\n",
            "19/19 [==============================] - 44s 2s/step - loss: 1.0499 - categorical_accuracy: 0.5319 - val_loss: 1.2311 - val_categorical_accuracy: 0.4627 - lr: 0.0020\n",
            "Epoch 12/40\n",
            "19/19 [==============================] - ETA: 0s - loss: 1.0030 - categorical_accuracy: 0.5646\n",
            "Epoch 12: val_loss did not improve from 1.21240\n",
            "19/19 [==============================] - 43s 2s/step - loss: 1.0030 - categorical_accuracy: 0.5646 - val_loss: 1.2492 - val_categorical_accuracy: 0.4478 - lr: 4.0000e-04\n",
            "Epoch 13/40\n",
            "19/19 [==============================] - ETA: 0s - loss: 0.9589 - categorical_accuracy: 0.5730\n",
            "Epoch 13: val_loss did not improve from 1.21240\n",
            "19/19 [==============================] - 44s 2s/step - loss: 0.9589 - categorical_accuracy: 0.5730 - val_loss: 1.2265 - val_categorical_accuracy: 0.4478 - lr: 4.0000e-04\n",
            "Epoch 14/40\n",
            "19/19 [==============================] - ETA: 0s - loss: 0.9321 - categorical_accuracy: 0.5864\n",
            "Epoch 14: val_loss did not improve from 1.21240\n",
            "19/19 [==============================] - 43s 2s/step - loss: 0.9321 - categorical_accuracy: 0.5864 - val_loss: 1.2379 - val_categorical_accuracy: 0.3881 - lr: 4.0000e-04\n",
            "Epoch 15/40\n",
            "19/19 [==============================] - ETA: 0s - loss: 0.9157 - categorical_accuracy: 0.5965\n",
            "Epoch 15: val_loss improved from 1.21240 to 1.16873, saving model to model_init_2022-10-1416_14_33.656422/model-00015-0.91571-0.59648-1.16873-0.47761.h5\n",
            "19/19 [==============================] - 42s 2s/step - loss: 0.9157 - categorical_accuracy: 0.5965 - val_loss: 1.1687 - val_categorical_accuracy: 0.4776 - lr: 4.0000e-04\n",
            "Epoch 16/40\n",
            "19/19 [==============================] - ETA: 0s - loss: 0.9083 - categorical_accuracy: 0.6023\n",
            "Epoch 16: val_loss did not improve from 1.16873\n",
            "19/19 [==============================] - 46s 3s/step - loss: 0.9083 - categorical_accuracy: 0.6023 - val_loss: 1.2166 - val_categorical_accuracy: 0.4776 - lr: 4.0000e-04\n",
            "Epoch 17/40\n",
            "19/19 [==============================] - ETA: 0s - loss: 0.8723 - categorical_accuracy: 0.6191\n",
            "Epoch 17: val_loss did not improve from 1.16873\n",
            "19/19 [==============================] - 43s 2s/step - loss: 0.8723 - categorical_accuracy: 0.6191 - val_loss: 1.2577 - val_categorical_accuracy: 0.4328 - lr: 4.0000e-04\n",
            "Epoch 18/40\n",
            "19/19 [==============================] - ETA: 0s - loss: 0.8402 - categorical_accuracy: 0.6376\n",
            "Epoch 18: val_loss did not improve from 1.16873\n",
            "19/19 [==============================] - 42s 2s/step - loss: 0.8402 - categorical_accuracy: 0.6376 - val_loss: 1.2991 - val_categorical_accuracy: 0.4627 - lr: 4.0000e-04\n",
            "Epoch 19/40\n",
            "19/19 [==============================] - ETA: 0s - loss: 0.8544 - categorical_accuracy: 0.6367\n",
            "Epoch 19: val_loss did not improve from 1.16873\n",
            "\n",
            "Epoch 19: ReduceLROnPlateau reducing learning rate to 8.000000379979611e-05.\n",
            "19/19 [==============================] - 43s 2s/step - loss: 0.8544 - categorical_accuracy: 0.6367 - val_loss: 1.2277 - val_categorical_accuracy: 0.4627 - lr: 4.0000e-04\n",
            "Epoch 20/40\n",
            "19/19 [==============================] - ETA: 0s - loss: 0.7890 - categorical_accuracy: 0.6728\n",
            "Epoch 20: val_loss improved from 1.16873 to 1.00374, saving model to model_init_2022-10-1416_14_33.656422/model-00020-0.78904-0.67282-1.00374-0.58209.h5\n",
            "19/19 [==============================] - 43s 2s/step - loss: 0.7890 - categorical_accuracy: 0.6728 - val_loss: 1.0037 - val_categorical_accuracy: 0.5821 - lr: 8.0000e-05\n",
            "Epoch 21/40\n",
            "19/19 [==============================] - ETA: 0s - loss: 0.7747 - categorical_accuracy: 0.6787\n",
            "Epoch 21: val_loss did not improve from 1.00374\n",
            "19/19 [==============================] - 43s 2s/step - loss: 0.7747 - categorical_accuracy: 0.6787 - val_loss: 1.2415 - val_categorical_accuracy: 0.4478 - lr: 8.0000e-05\n",
            "Epoch 22/40\n",
            "19/19 [==============================] - ETA: 0s - loss: 0.7914 - categorical_accuracy: 0.6628\n",
            "Epoch 22: val_loss did not improve from 1.00374\n",
            "19/19 [==============================] - 43s 2s/step - loss: 0.7914 - categorical_accuracy: 0.6628 - val_loss: 1.2177 - val_categorical_accuracy: 0.5075 - lr: 8.0000e-05\n",
            "Epoch 23/40\n",
            "19/19 [==============================] - ETA: 0s - loss: 0.7645 - categorical_accuracy: 0.6770\n",
            "Epoch 23: val_loss did not improve from 1.00374\n",
            "19/19 [==============================] - 42s 2s/step - loss: 0.7645 - categorical_accuracy: 0.6770 - val_loss: 1.2735 - val_categorical_accuracy: 0.4328 - lr: 8.0000e-05\n",
            "Epoch 24/40\n",
            "19/19 [==============================] - ETA: 0s - loss: 0.7527 - categorical_accuracy: 0.6879\n",
            "Epoch 24: val_loss did not improve from 1.00374\n",
            "\n",
            "Epoch 24: ReduceLROnPlateau reducing learning rate to 1.6000001050997525e-05.\n",
            "19/19 [==============================] - 42s 2s/step - loss: 0.7527 - categorical_accuracy: 0.6879 - val_loss: 1.2499 - val_categorical_accuracy: 0.4627 - lr: 8.0000e-05\n",
            "Epoch 25/40\n",
            "19/19 [==============================] - ETA: 0s - loss: 0.7398 - categorical_accuracy: 0.6837\n",
            "Epoch 25: val_loss did not improve from 1.00374\n",
            "19/19 [==============================] - 43s 2s/step - loss: 0.7398 - categorical_accuracy: 0.6837 - val_loss: 1.2379 - val_categorical_accuracy: 0.4776 - lr: 1.6000e-05\n",
            "Epoch 26/40\n",
            "19/19 [==============================] - ETA: 0s - loss: 0.7615 - categorical_accuracy: 0.7064\n",
            "Epoch 26: val_loss did not improve from 1.00374\n",
            "19/19 [==============================] - 44s 2s/step - loss: 0.7615 - categorical_accuracy: 0.7064 - val_loss: 1.3004 - val_categorical_accuracy: 0.4179 - lr: 1.6000e-05\n",
            "Epoch 27/40\n",
            "19/19 [==============================] - ETA: 0s - loss: 0.7356 - categorical_accuracy: 0.6988\n",
            "Epoch 27: val_loss did not improve from 1.00374\n",
            "19/19 [==============================] - 42s 2s/step - loss: 0.7356 - categorical_accuracy: 0.6988 - val_loss: 1.2189 - val_categorical_accuracy: 0.4627 - lr: 1.6000e-05\n",
            "Epoch 28/40\n",
            "19/19 [==============================] - ETA: 0s - loss: 0.7489 - categorical_accuracy: 0.6871\n",
            "Epoch 28: val_loss did not improve from 1.00374\n",
            "\n",
            "Epoch 28: ReduceLROnPlateau reducing learning rate to 3.2000003557186575e-06.\n",
            "19/19 [==============================] - 43s 2s/step - loss: 0.7489 - categorical_accuracy: 0.6871 - val_loss: 1.2025 - val_categorical_accuracy: 0.4627 - lr: 1.6000e-05\n",
            "Epoch 29/40\n",
            "19/19 [==============================] - ETA: 0s - loss: 0.7313 - categorical_accuracy: 0.7081\n",
            "Epoch 29: val_loss did not improve from 1.00374\n",
            "19/19 [==============================] - 43s 2s/step - loss: 0.7313 - categorical_accuracy: 0.7081 - val_loss: 1.1650 - val_categorical_accuracy: 0.5224 - lr: 3.2000e-06\n",
            "Epoch 30/40\n",
            "19/19 [==============================] - ETA: 0s - loss: 0.7503 - categorical_accuracy: 0.6854\n",
            "Epoch 30: val_loss did not improve from 1.00374\n",
            "19/19 [==============================] - 43s 2s/step - loss: 0.7503 - categorical_accuracy: 0.6854 - val_loss: 1.1972 - val_categorical_accuracy: 0.4627 - lr: 3.2000e-06\n",
            "Epoch 30: early stopping\n",
            "Evaluating\n",
            "\n",
            "Test accuracy: 0.6299999952316284\n",
            "\n",
            "Test loss: 0.9589130878448486\n"
          ]
        }
      ]
    },
    {
      "cell_type": "code",
      "source": [
        "plot_accuracy_and_loss(history_model3b)"
      ],
      "metadata": {
        "colab": {
          "base_uri": "https://localhost:8080/",
          "height": 265
        },
        "id": "eFkFzWSIRvh7",
        "outputId": "1d0e648d-78cd-43fb-9f98-df36008d1438"
      },
      "execution_count": null,
      "outputs": [
        {
          "output_type": "display_data",
          "data": {
            "text/plain": [
              "<Figure size 1080x288 with 2 Axes>"
            ],
            "image/png": "[encoded data removed]"
          },
          "metadata": {
            "needs_background": "light"
          }
        }
      ]
    },
    {
      "cell_type": "markdown",
      "metadata": {
        "id": "acPbLiRt4U1x"
      },
      "source": [
        "## Model 4 - Transfer Learning using Mobilnet with LSTM and data augmentation\n"
      ]
    },
    {
      "cell_type": "code",
      "execution_count": null,
      "metadata": {
        "id": "sqZB5IP-4U1y"
      },
      "outputs": [],
      "source": [
        "# importing the MobileNet model due to it's lightweight architecture and high speed performance as compared \n",
        "# to other heavy-duty models like VGG16, Alexnet, InceptionV3 etc. \n",
        "from keras.applications import mobilenet"
      ]
    },
    {
      "cell_type": "code",
      "execution_count": null,
      "metadata": {
        "colab": {
          "base_uri": "https://localhost:8080/"
        },
        "id": "xAnh4RWH4U1y",
        "outputId": "57513782-0274-472b-8083-3196bac27429"
      },
      "outputs": [
        {
          "output_type": "stream",
          "name": "stderr",
          "text": [
            "WARNING:tensorflow:`input_shape` is undefined or non-square, or `rows` is not in [128, 160, 192, 224]. Weights for input shape (224, 224) will be loaded as the default.\n"
          ]
        },
        {
          "output_type": "stream",
          "name": "stdout",
          "text": [
            "Downloading data from https://storage.googleapis.com/tensorflow/keras-applications/mobilenet/mobilenet_1_0_224_tf_no_top.h5\n",
            "17225924/17225924 [==============================] - 0s 0us/step\n"
          ]
        }
      ],
      "source": [
        "mobilenet_transfer = mobilenet.MobileNet(weights='imagenet', include_top=False)\n",
        "\n",
        "class RNNCNN_TL(ModelBuilderClass):\n",
        "    \n",
        "    def define_model(self,lstm_cells=64,dense_neurons=64,dropout=0.25):\n",
        "        \n",
        "        model = Sequential()\n",
        "        model.add(TimeDistributed(mobilenet_transfer,input_shape=(self.frames_to_sample,self.image_height,self.image_width,self.channels)))\n",
        "        \n",
        "        \n",
        "        # for layer in model.layers:\n",
        "        #     layer.trainable = False\n",
        "        \n",
        "        \n",
        "        model.add(TimeDistributed(BatchNormalization()))\n",
        "        model.add(TimeDistributed(MaxPooling2D((2, 2))))\n",
        "        model.add(TimeDistributed(Flatten()))\n",
        "\n",
        "        model.add(LSTM(lstm_cells))\n",
        "        model.add(Dropout(dropout))\n",
        "        \n",
        "        model.add(Dense(dense_neurons,activation='relu'))\n",
        "        model.add(Dropout(dropout))\n",
        "        \n",
        "        model.add(Dense(self.num_classes, activation='softmax'))\n",
        "        \n",
        "        \n",
        "        optimiser = tf.keras.optimizers.Adam()\n",
        "        model.compile(optimizer=optimiser, loss='categorical_crossentropy', metrics=['categorical_accuracy'])\n",
        "        return model"
      ]
    },
    {
      "cell_type": "code",
      "execution_count": null,
      "metadata": {
        "colab": {
          "base_uri": "https://localhost:8080/"
        },
        "id": "s5FwB0mH4U1y",
        "outputId": "604e06c4-1b65-48f2-decf-a11b72fd9e61"
      },
      "outputs": [
        {
          "output_type": "stream",
          "name": "stdout",
          "text": [
            "Model: \"sequential\"\n",
            "_________________________________________________________________\n",
            " Layer (type)                Output Shape              Param #   \n",
            "=================================================================\n",
            " time_distributed (TimeDistr  (None, 16, 2, 2, 1024)   3228864   \n",
            " ibuted)                                                         \n",
            "                                                                 \n",
            " time_distributed_1 (TimeDis  (None, 16, 2, 2, 1024)   4096      \n",
            " tributed)                                                       \n",
            "                                                                 \n",
            " time_distributed_2 (TimeDis  (None, 16, 1, 1, 1024)   0         \n",
            " tributed)                                                       \n",
            "                                                                 \n",
            " time_distributed_3 (TimeDis  (None, 16, 1024)         0         \n",
            " tributed)                                                       \n",
            "                                                                 \n",
            " lstm (LSTM)                 (None, 128)               590336    \n",
            "                                                                 \n",
            " dropout (Dropout)           (None, 128)               0         \n",
            "                                                                 \n",
            " dense (Dense)               (None, 128)               16512     \n",
            "                                                                 \n",
            " dropout_1 (Dropout)         (None, 128)               0         \n",
            "                                                                 \n",
            " dense_1 (Dense)             (None, 5)                 645       \n",
            "                                                                 \n",
            "=================================================================\n",
            "Total params: 3,840,453\n",
            "Trainable params: 3,816,517\n",
            "Non-trainable params: 23,936\n",
            "_________________________________________________________________\n"
          ]
        }
      ],
      "source": [
        "rnn_cnn_tl=RNNCNN_TL()\n",
        "rnn_cnn_tl.initialize_path(project_folder)\n",
        "rnn_cnn_tl.initialize_image_properties(image_height=64,image_width=64)\n",
        "rnn_cnn_tl.initialize_hyperparams(frames_to_sample=16,batch_size=32,num_epochs=20)\n",
        "rnn_cnn_tl_model=rnn_cnn_tl.define_model(lstm_cells=128,dense_neurons=128,dropout=0.25)\n",
        "rnn_cnn_tl_model.summary()"
      ]
    },
    {
      "cell_type": "code",
      "execution_count": null,
      "metadata": {
        "colab": {
          "base_uri": "https://localhost:8080/"
        },
        "id": "mOZRrGtK4U1y",
        "outputId": "114c5826-899b-4495-fc93-34d4710f9f72"
      },
      "outputs": [
        {
          "output_type": "stream",
          "name": "stderr",
          "text": [
            "WARNING:tensorflow:`period` argument is deprecated. Please use `save_freq` to specify the frequency in number of batches seen.\n"
          ]
        },
        {
          "output_type": "stream",
          "name": "stdout",
          "text": [
            "Total Params: 3840453\n",
            "Epoch 1/20\n",
            "19/19 [==============================] - ETA: 0s - loss: 1.4345 - categorical_accuracy: 0.3867\n",
            "Epoch 1: val_loss improved from inf to 1.28836, saving model to model_init_2022-10-1507_57_45.402692/model-00001-1.43452-0.38674-1.28836-0.44776.h5\n",
            "19/19 [==============================] - 69s 3s/step - loss: 1.4345 - categorical_accuracy: 0.3867 - val_loss: 1.2884 - val_categorical_accuracy: 0.4478 - lr: 0.0010\n",
            "Epoch 2/20\n",
            "19/19 [==============================] - ETA: 0s - loss: 0.7403 - categorical_accuracy: 0.7424\n",
            "Epoch 2: val_loss improved from 1.28836 to 1.04379, saving model to model_init_2022-10-1507_57_45.402692/model-00002-0.74031-0.74245-1.04379-0.61194.h5\n",
            "19/19 [==============================] - 49s 3s/step - loss: 0.7403 - categorical_accuracy: 0.7424 - val_loss: 1.0438 - val_categorical_accuracy: 0.6119 - lr: 0.0010\n",
            "Epoch 3/20\n",
            "19/19 [==============================] - ETA: 0s - loss: 0.3190 - categorical_accuracy: 0.8985\n",
            "Epoch 3: val_loss did not improve from 1.04379\n",
            "19/19 [==============================] - 46s 3s/step - loss: 0.3190 - categorical_accuracy: 0.8985 - val_loss: 1.0818 - val_categorical_accuracy: 0.5522 - lr: 0.0010\n",
            "Epoch 4/20\n",
            "19/19 [==============================] - ETA: 0s - loss: 0.2644 - categorical_accuracy: 0.9128\n",
            "Epoch 4: val_loss improved from 1.04379 to 0.55325, saving model to model_init_2022-10-1507_57_45.402692/model-00004-0.26438-0.91275-0.55325-0.79104.h5\n",
            "19/19 [==============================] - 48s 3s/step - loss: 0.2644 - categorical_accuracy: 0.9128 - val_loss: 0.5533 - val_categorical_accuracy: 0.7910 - lr: 0.0010\n",
            "Epoch 5/20\n",
            "19/19 [==============================] - ETA: 0s - loss: 0.1991 - categorical_accuracy: 0.9346\n",
            "Epoch 5: val_loss did not improve from 0.55325\n",
            "19/19 [==============================] - 48s 3s/step - loss: 0.1991 - categorical_accuracy: 0.9346 - val_loss: 0.7698 - val_categorical_accuracy: 0.7463 - lr: 0.0010\n",
            "Epoch 6/20\n",
            "19/19 [==============================] - ETA: 0s - loss: 0.1566 - categorical_accuracy: 0.9564\n",
            "Epoch 6: val_loss did not improve from 0.55325\n",
            "19/19 [==============================] - 45s 2s/step - loss: 0.1566 - categorical_accuracy: 0.9564 - val_loss: 0.6999 - val_categorical_accuracy: 0.7761 - lr: 0.0010\n",
            "Epoch 7/20\n",
            "19/19 [==============================] - ETA: 0s - loss: 0.0895 - categorical_accuracy: 0.9757\n",
            "Epoch 7: val_loss improved from 0.55325 to 0.36973, saving model to model_init_2022-10-1507_57_45.402692/model-00007-0.08946-0.97567-0.36973-0.85075.h5\n",
            "19/19 [==============================] - 48s 3s/step - loss: 0.0895 - categorical_accuracy: 0.9757 - val_loss: 0.3697 - val_categorical_accuracy: 0.8507 - lr: 0.0010\n",
            "Epoch 8/20\n",
            "19/19 [==============================] - ETA: 0s - loss: 0.1246 - categorical_accuracy: 0.9648\n",
            "Epoch 8: val_loss improved from 0.36973 to 0.33315, saving model to model_init_2022-10-1507_57_45.402692/model-00008-0.12459-0.96477-0.33315-0.94030.h5\n",
            "19/19 [==============================] - 48s 3s/step - loss: 0.1246 - categorical_accuracy: 0.9648 - val_loss: 0.3331 - val_categorical_accuracy: 0.9403 - lr: 0.0010\n",
            "Epoch 9/20\n",
            "19/19 [==============================] - ETA: 0s - loss: 0.0920 - categorical_accuracy: 0.9732\n",
            "Epoch 9: val_loss did not improve from 0.33315\n",
            "19/19 [==============================] - 46s 3s/step - loss: 0.0920 - categorical_accuracy: 0.9732 - val_loss: 0.5211 - val_categorical_accuracy: 0.8657 - lr: 0.0010\n",
            "Epoch 10/20\n",
            "19/19 [==============================] - ETA: 0s - loss: 0.0854 - categorical_accuracy: 0.9732\n",
            "Epoch 10: val_loss did not improve from 0.33315\n",
            "19/19 [==============================] - 47s 3s/step - loss: 0.0854 - categorical_accuracy: 0.9732 - val_loss: 0.5285 - val_categorical_accuracy: 0.8955 - lr: 0.0010\n",
            "Epoch 11/20\n",
            "19/19 [==============================] - ETA: 0s - loss: 0.0955 - categorical_accuracy: 0.9732\n",
            "Epoch 11: val_loss did not improve from 0.33315\n",
            "19/19 [==============================] - 48s 3s/step - loss: 0.0955 - categorical_accuracy: 0.9732 - val_loss: 0.9759 - val_categorical_accuracy: 0.7612 - lr: 0.0010\n",
            "Epoch 12/20\n",
            "19/19 [==============================] - ETA: 0s - loss: 0.0998 - categorical_accuracy: 0.9639\n",
            "Epoch 12: val_loss did not improve from 0.33315\n",
            "\n",
            "Epoch 12: ReduceLROnPlateau reducing learning rate to 0.00020000000949949026.\n",
            "19/19 [==============================] - 46s 3s/step - loss: 0.0998 - categorical_accuracy: 0.9639 - val_loss: 0.6080 - val_categorical_accuracy: 0.8358 - lr: 0.0010\n",
            "Epoch 13/20\n",
            "19/19 [==============================] - ETA: 0s - loss: 0.0972 - categorical_accuracy: 0.9698\n",
            "Epoch 13: val_loss did not improve from 0.33315\n",
            "19/19 [==============================] - 46s 3s/step - loss: 0.0972 - categorical_accuracy: 0.9698 - val_loss: 0.5380 - val_categorical_accuracy: 0.8507 - lr: 2.0000e-04\n",
            "Epoch 14/20\n",
            "19/19 [==============================] - ETA: 0s - loss: 0.0237 - categorical_accuracy: 0.9950\n",
            "Epoch 14: val_loss did not improve from 0.33315\n",
            "19/19 [==============================] - 48s 3s/step - loss: 0.0237 - categorical_accuracy: 0.9950 - val_loss: 0.3664 - val_categorical_accuracy: 0.8806 - lr: 2.0000e-04\n",
            "Epoch 15/20\n",
            "19/19 [==============================] - ETA: 0s - loss: 0.0182 - categorical_accuracy: 0.9950\n",
            "Epoch 15: val_loss improved from 0.33315 to 0.24894, saving model to model_init_2022-10-1507_57_45.402692/model-00015-0.01824-0.99497-0.24894-0.94030.h5\n",
            "19/19 [==============================] - 46s 3s/step - loss: 0.0182 - categorical_accuracy: 0.9950 - val_loss: 0.2489 - val_categorical_accuracy: 0.9403 - lr: 2.0000e-04\n",
            "Epoch 16/20\n",
            "19/19 [==============================] - ETA: 0s - loss: 0.0123 - categorical_accuracy: 0.9966\n",
            "Epoch 16: val_loss did not improve from 0.24894\n",
            "19/19 [==============================] - 47s 3s/step - loss: 0.0123 - categorical_accuracy: 0.9966 - val_loss: 0.2621 - val_categorical_accuracy: 0.9254 - lr: 2.0000e-04\n",
            "Epoch 17/20\n",
            "19/19 [==============================] - ETA: 0s - loss: 0.0096 - categorical_accuracy: 0.9975\n",
            "Epoch 17: val_loss did not improve from 0.24894\n",
            "19/19 [==============================] - 48s 3s/step - loss: 0.0096 - categorical_accuracy: 0.9975 - val_loss: 0.2914 - val_categorical_accuracy: 0.8955 - lr: 2.0000e-04\n",
            "Epoch 18/20\n",
            "19/19 [==============================] - ETA: 0s - loss: 0.0082 - categorical_accuracy: 0.9983\n",
            "Epoch 18: val_loss improved from 0.24894 to 0.22091, saving model to model_init_2022-10-1507_57_45.402692/model-00018-0.00824-0.99832-0.22091-0.95522.h5\n",
            "19/19 [==============================] - 46s 3s/step - loss: 0.0082 - categorical_accuracy: 0.9983 - val_loss: 0.2209 - val_categorical_accuracy: 0.9552 - lr: 2.0000e-04\n",
            "Epoch 19/20\n",
            "19/19 [==============================] - ETA: 0s - loss: 0.0132 - categorical_accuracy: 0.9966\n",
            "Epoch 19: val_loss improved from 0.22091 to 0.18886, saving model to model_init_2022-10-1507_57_45.402692/model-00019-0.01322-0.99664-0.18886-0.92537.h5\n",
            "19/19 [==============================] - 47s 3s/step - loss: 0.0132 - categorical_accuracy: 0.9966 - val_loss: 0.1889 - val_categorical_accuracy: 0.9254 - lr: 2.0000e-04\n",
            "Epoch 20/20\n",
            "19/19 [==============================] - ETA: 0s - loss: 0.0088 - categorical_accuracy: 0.9992\n",
            "Epoch 20: val_loss did not improve from 0.18886\n",
            "19/19 [==============================] - 47s 3s/step - loss: 0.0088 - categorical_accuracy: 0.9992 - val_loss: 0.2269 - val_categorical_accuracy: 0.9104 - lr: 2.0000e-04\n",
            "Evaluating\n",
            "\n",
            "Test accuracy: 0.9200000166893005\n",
            "\n",
            "Test loss: 0.2726801931858063\n"
          ]
        }
      ],
      "source": [
        "print(\"Total Params:\", rnn_cnn_tl_model.count_params())\n",
        "history_model4=rnn_cnn_tl.train_model(rnn_cnn_tl_model,augment_data=True)"
      ]
    },
    {
      "cell_type": "code",
      "execution_count": null,
      "metadata": {
        "colab": {
          "base_uri": "https://localhost:8080/",
          "height": 265
        },
        "id": "U7GmPulYFCit",
        "outputId": "fc7dd566-8f89-45e1-d5d0-7843fb7c2dc8"
      },
      "outputs": [
        {
          "output_type": "display_data",
          "data": {
            "text/plain": [
              "<Figure size 1080x288 with 2 Axes>"
            ],
            "image/png": "[encoded data removed]"
          },
          "metadata": {
            "needs_background": "light"
          }
        }
      ],
      "source": [
        "plot_accuracy_and_loss(history_model4)"
      ]
    },
    {
      "cell_type": "markdown",
      "metadata": {
        "id": "XUd5OqCm4U1z"
      },
      "source": [
        "## Model 5 - Transfer Learning using Mobilnet with GRU and data augmentation (Final Model)"
      ]
    },
    {
      "cell_type": "code",
      "execution_count": null,
      "metadata": {
        "colab": {
          "base_uri": "https://localhost:8080/"
        },
        "id": "yS_1T10H4U1z",
        "outputId": "6afa2dc7-7c86-47df-8e5e-9efd56d20f7c"
      },
      "outputs": [
        {
          "output_type": "stream",
          "name": "stderr",
          "text": [
            "WARNING:tensorflow:`input_shape` is undefined or non-square, or `rows` is not in [128, 160, 192, 224]. Weights for input shape (224, 224) will be loaded as the default.\n"
          ]
        }
      ],
      "source": [
        "from keras.applications import mobilenet\n",
        "\n",
        "mobilenet_transfer = mobilenet.MobileNet(weights='imagenet', include_top=False)\n",
        "\n",
        "class RNNCNN_TL2(ModelBuilderClass):\n",
        "    \n",
        "    def define_model(self,gru_cells=64,dense_neurons=64,dropout=0.25):\n",
        "        \n",
        "        model = Sequential()\n",
        "        model.add(TimeDistributed(mobilenet_transfer,input_shape=(self.frames_to_sample,self.image_height,self.image_width,self.channels)))\n",
        " \n",
        "        \n",
        "        model.add(TimeDistributed(BatchNormalization()))\n",
        "        model.add(TimeDistributed(MaxPooling2D((2, 2))))\n",
        "        model.add(TimeDistributed(Flatten()))\n",
        "\n",
        "        model.add(GRU(gru_cells))\n",
        "        model.add(Dropout(dropout))\n",
        "        \n",
        "        model.add(Dense(dense_neurons,activation='relu'))\n",
        "        model.add(Dropout(dropout))\n",
        "        \n",
        "        model.add(Dense(self.num_classes, activation='softmax'))\n",
        "        \n",
        "        \n",
        "        adam_optimizer = tf.keras.optimizers.Adam()\n",
        "        model.compile(optimizer=adam_optimizer, loss='categorical_crossentropy', metrics=['categorical_accuracy'])\n",
        "        return model"
      ]
    },
    {
      "cell_type": "code",
      "execution_count": null,
      "metadata": {
        "colab": {
          "base_uri": "https://localhost:8080/"
        },
        "id": "Hzn0fOPV4U1z",
        "outputId": "6106cbc6-93f6-4cf6-95a1-bb0bf7dbf164"
      },
      "outputs": [
        {
          "output_type": "stream",
          "name": "stdout",
          "text": [
            "Model: \"sequential_3\"\n",
            "_________________________________________________________________\n",
            " Layer (type)                Output Shape              Param #   \n",
            "=================================================================\n",
            " time_distributed_12 (TimeDi  (None, 16, 2, 2, 1024)   3228864   \n",
            " stributed)                                                      \n",
            "                                                                 \n",
            " time_distributed_13 (TimeDi  (None, 16, 2, 2, 1024)   4096      \n",
            " stributed)                                                      \n",
            "                                                                 \n",
            " time_distributed_14 (TimeDi  (None, 16, 1, 1, 1024)   0         \n",
            " stributed)                                                      \n",
            "                                                                 \n",
            " time_distributed_15 (TimeDi  (None, 16, 1024)         0         \n",
            " stributed)                                                      \n",
            "                                                                 \n",
            " gru_3 (GRU)                 (None, 128)               443136    \n",
            "                                                                 \n",
            " dropout_6 (Dropout)         (None, 128)               0         \n",
            "                                                                 \n",
            " dense_6 (Dense)             (None, 128)               16512     \n",
            "                                                                 \n",
            " dropout_7 (Dropout)         (None, 128)               0         \n",
            "                                                                 \n",
            " dense_7 (Dense)             (None, 5)                 645       \n",
            "                                                                 \n",
            "=================================================================\n",
            "Total params: 3,693,253\n",
            "Trainable params: 3,669,317\n",
            "Non-trainable params: 23,936\n",
            "_________________________________________________________________\n"
          ]
        }
      ],
      "source": [
        "rnn_cnn_tl2=RNNCNN_TL2()\n",
        "rnn_cnn_tl2.initialize_path(project_folder)\n",
        "rnn_cnn_tl2.initialize_image_properties(image_height=64,image_width=64)\n",
        "rnn_cnn_tl2.initialize_hyperparams(frames_to_sample=16,batch_size=32,num_epochs=20)\n",
        "rnn_cnn_tl2_model=rnn_cnn_tl2.define_model(gru_cells=128,dense_neurons=128,dropout=0.25)\n",
        "rnn_cnn_tl2_model.summary()"
      ]
    },
    {
      "cell_type": "code",
      "execution_count": null,
      "metadata": {
        "colab": {
          "base_uri": "https://localhost:8080/"
        },
        "id": "l8yQobsh4U1z",
        "outputId": "13653b08-af60-4e46-9a19-f379274681f1"
      },
      "outputs": [
        {
          "output_type": "stream",
          "name": "stderr",
          "text": [
            "WARNING:tensorflow:`period` argument is deprecated. Please use `save_freq` to specify the frequency in number of batches seen.\n"
          ]
        },
        {
          "output_type": "stream",
          "name": "stdout",
          "text": [
            "Total Params: 3693253\n",
            "Epoch 1/20\n",
            "19/19 [==============================] - ETA: 0s - loss: 1.3370 - categorical_accuracy: 0.4589\n",
            "Epoch 1: val_loss improved from inf to 1.27067, saving model to model_init_2022-10-1517_21_04.769472/model-00001-1.33702-0.45889-1.27067-0.44776.h5\n",
            "19/19 [==============================] - 50s 3s/step - loss: 1.3370 - categorical_accuracy: 0.4589 - val_loss: 1.2707 - val_categorical_accuracy: 0.4478 - lr: 0.0010\n",
            "Epoch 2/20\n",
            "19/19 [==============================] - ETA: 0s - loss: 0.5870 - categorical_accuracy: 0.7819\n",
            "Epoch 2: val_loss did not improve from 1.27067\n",
            "19/19 [==============================] - 44s 2s/step - loss: 0.5870 - categorical_accuracy: 0.7819 - val_loss: 1.8649 - val_categorical_accuracy: 0.3284 - lr: 0.0010\n",
            "Epoch 3/20\n",
            "19/19 [==============================] - ETA: 0s - loss: 0.2619 - categorical_accuracy: 0.9119\n",
            "Epoch 3: val_loss improved from 1.27067 to 0.66945, saving model to model_init_2022-10-1517_21_04.769472/model-00003-0.26190-0.91191-0.66945-0.71642.h5\n",
            "19/19 [==============================] - 45s 2s/step - loss: 0.2619 - categorical_accuracy: 0.9119 - val_loss: 0.6695 - val_categorical_accuracy: 0.7164 - lr: 0.0010\n",
            "Epoch 4/20\n",
            "19/19 [==============================] - ETA: 0s - loss: 0.1488 - categorical_accuracy: 0.9497\n",
            "Epoch 4: val_loss improved from 0.66945 to 0.58923, saving model to model_init_2022-10-1517_21_04.769472/model-00004-0.14885-0.94966-0.58923-0.79104.h5\n",
            "19/19 [==============================] - 44s 2s/step - loss: 0.1488 - categorical_accuracy: 0.9497 - val_loss: 0.5892 - val_categorical_accuracy: 0.7910 - lr: 0.0010\n",
            "Epoch 5/20\n",
            "19/19 [==============================] - ETA: 0s - loss: 0.0838 - categorical_accuracy: 0.9748\n",
            "Epoch 5: val_loss improved from 0.58923 to 0.25992, saving model to model_init_2022-10-1517_21_04.769472/model-00005-0.08379-0.97483-0.25992-0.85075.h5\n",
            "19/19 [==============================] - 44s 2s/step - loss: 0.0838 - categorical_accuracy: 0.9748 - val_loss: 0.2599 - val_categorical_accuracy: 0.8507 - lr: 0.0010\n",
            "Epoch 6/20\n",
            "19/19 [==============================] - ETA: 0s - loss: 0.0893 - categorical_accuracy: 0.9690\n",
            "Epoch 6: val_loss did not improve from 0.25992\n",
            "19/19 [==============================] - 44s 2s/step - loss: 0.0893 - categorical_accuracy: 0.9690 - val_loss: 0.5988 - val_categorical_accuracy: 0.8060 - lr: 0.0010\n",
            "Epoch 7/20\n",
            "19/19 [==============================] - ETA: 0s - loss: 0.1016 - categorical_accuracy: 0.9656\n",
            "Epoch 7: val_loss did not improve from 0.25992\n",
            "19/19 [==============================] - 44s 2s/step - loss: 0.1016 - categorical_accuracy: 0.9656 - val_loss: 0.4686 - val_categorical_accuracy: 0.8955 - lr: 0.0010\n",
            "Epoch 8/20\n",
            "19/19 [==============================] - ETA: 0s - loss: 0.1266 - categorical_accuracy: 0.9622\n",
            "Epoch 8: val_loss did not improve from 0.25992\n",
            "19/19 [==============================] - 44s 2s/step - loss: 0.1266 - categorical_accuracy: 0.9622 - val_loss: 0.8584 - val_categorical_accuracy: 0.7313 - lr: 0.0010\n",
            "Epoch 9/20\n",
            "19/19 [==============================] - ETA: 0s - loss: 0.1268 - categorical_accuracy: 0.9614\n",
            "Epoch 9: val_loss did not improve from 0.25992\n",
            "\n",
            "Epoch 9: ReduceLROnPlateau reducing learning rate to 0.00020000000949949026.\n",
            "19/19 [==============================] - 43s 2s/step - loss: 0.1268 - categorical_accuracy: 0.9614 - val_loss: 0.4662 - val_categorical_accuracy: 0.8358 - lr: 0.0010\n",
            "Epoch 10/20\n",
            "19/19 [==============================] - ETA: 0s - loss: 0.0593 - categorical_accuracy: 0.9765\n",
            "Epoch 10: val_loss improved from 0.25992 to 0.25561, saving model to model_init_2022-10-1517_21_04.769472/model-00010-0.05934-0.97651-0.25561-0.92537.h5\n",
            "19/19 [==============================] - 46s 3s/step - loss: 0.0593 - categorical_accuracy: 0.9765 - val_loss: 0.2556 - val_categorical_accuracy: 0.9254 - lr: 2.0000e-04\n",
            "Epoch 11/20\n",
            "19/19 [==============================] - ETA: 0s - loss: 0.0226 - categorical_accuracy: 0.9933\n",
            "Epoch 11: val_loss improved from 0.25561 to 0.13243, saving model to model_init_2022-10-1517_21_04.769472/model-00011-0.02257-0.99329-0.13243-0.94030.h5\n",
            "19/19 [==============================] - 44s 2s/step - loss: 0.0226 - categorical_accuracy: 0.9933 - val_loss: 0.1324 - val_categorical_accuracy: 0.9403 - lr: 2.0000e-04\n",
            "Epoch 12/20\n",
            "19/19 [==============================] - ETA: 0s - loss: 0.0265 - categorical_accuracy: 0.9933\n",
            "Epoch 12: val_loss did not improve from 0.13243\n",
            "19/19 [==============================] - 43s 2s/step - loss: 0.0265 - categorical_accuracy: 0.9933 - val_loss: 0.1899 - val_categorical_accuracy: 0.9403 - lr: 2.0000e-04\n",
            "Epoch 13/20\n",
            "19/19 [==============================] - ETA: 0s - loss: 0.0172 - categorical_accuracy: 0.9958\n",
            "Epoch 13: val_loss did not improve from 0.13243\n",
            "19/19 [==============================] - 44s 2s/step - loss: 0.0172 - categorical_accuracy: 0.9958 - val_loss: 0.2128 - val_categorical_accuracy: 0.9254 - lr: 2.0000e-04\n",
            "Epoch 14/20\n",
            "19/19 [==============================] - ETA: 0s - loss: 0.0131 - categorical_accuracy: 0.9992\n",
            "Epoch 14: val_loss did not improve from 0.13243\n",
            "19/19 [==============================] - 45s 2s/step - loss: 0.0131 - categorical_accuracy: 0.9992 - val_loss: 0.2749 - val_categorical_accuracy: 0.8955 - lr: 2.0000e-04\n",
            "Epoch 15/20\n",
            "19/19 [==============================] - ETA: 0s - loss: 0.0082 - categorical_accuracy: 0.9975\n",
            "Epoch 15: val_loss did not improve from 0.13243\n",
            "\n",
            "Epoch 15: ReduceLROnPlateau reducing learning rate to 4.0000001899898055e-05.\n",
            "19/19 [==============================] - 43s 2s/step - loss: 0.0082 - categorical_accuracy: 0.9975 - val_loss: 0.1592 - val_categorical_accuracy: 0.9701 - lr: 2.0000e-04\n",
            "Epoch 16/20\n",
            "19/19 [==============================] - ETA: 0s - loss: 0.0075 - categorical_accuracy: 1.0000\n",
            "Epoch 16: val_loss did not improve from 0.13243\n",
            "19/19 [==============================] - 44s 2s/step - loss: 0.0075 - categorical_accuracy: 1.0000 - val_loss: 0.2495 - val_categorical_accuracy: 0.9403 - lr: 4.0000e-05\n",
            "Epoch 17/20\n",
            "19/19 [==============================] - ETA: 0s - loss: 0.0083 - categorical_accuracy: 0.9992\n",
            "Epoch 17: val_loss did not improve from 0.13243\n",
            "19/19 [==============================] - 44s 2s/step - loss: 0.0083 - categorical_accuracy: 0.9992 - val_loss: 0.3031 - val_categorical_accuracy: 0.9254 - lr: 4.0000e-05\n",
            "Epoch 18/20\n",
            "19/19 [==============================] - ETA: 0s - loss: 0.0065 - categorical_accuracy: 0.9992\n",
            "Epoch 18: val_loss did not improve from 0.13243\n",
            "19/19 [==============================] - 44s 2s/step - loss: 0.0065 - categorical_accuracy: 0.9992 - val_loss: 0.2478 - val_categorical_accuracy: 0.9254 - lr: 4.0000e-05\n",
            "Epoch 19/20\n",
            "19/19 [==============================] - ETA: 0s - loss: 0.0059 - categorical_accuracy: 0.9992\n",
            "Epoch 19: val_loss did not improve from 0.13243\n",
            "\n",
            "Epoch 19: ReduceLROnPlateau reducing learning rate to 8.000000525498762e-06.\n",
            "19/19 [==============================] - 43s 2s/step - loss: 0.0059 - categorical_accuracy: 0.9992 - val_loss: 0.2565 - val_categorical_accuracy: 0.9254 - lr: 4.0000e-05\n",
            "Epoch 20/20\n",
            "19/19 [==============================] - ETA: 0s - loss: 0.0250 - categorical_accuracy: 0.9916\n",
            "Epoch 20: val_loss did not improve from 0.13243\n",
            "19/19 [==============================] - 44s 2s/step - loss: 0.0250 - categorical_accuracy: 0.9916 - val_loss: 0.1985 - val_categorical_accuracy: 0.9403 - lr: 8.0000e-06\n",
            "Evaluating\n",
            "\n",
            "Test accuracy: 0.9200000166893005\n",
            "\n",
            "Test loss: 0.23567628860473633\n"
          ]
        }
      ],
      "source": [
        "print(\"Total Params:\", rnn_cnn_tl2_model.count_params())\n",
        "history_model5=rnn_cnn_tl2.train_model(rnn_cnn_tl2_model,augment_data=True)"
      ]
    },
    {
      "cell_type": "code",
      "execution_count": null,
      "metadata": {
        "colab": {
          "base_uri": "https://localhost:8080/",
          "height": 265
        },
        "id": "dtUfWXogE773",
        "outputId": "0c783570-de46-46a4-f2fa-5c615db2163a"
      },
      "outputs": [
        {
          "output_type": "display_data",
          "data": {
            "text/plain": [
              "<Figure size 1080x288 with 2 Axes>"
            ],
            "image/png": "[encoded data removed]"
          },
          "metadata": {
            "needs_background": "light"
          }
        }
      ],
      "source": [
        "plot_accuracy_and_loss(history_model5)"
      ]
    },
    {
      "cell_type": "markdown",
      "metadata": {
        "id": "TL7-tfo64U10"
      },
      "source": [
        "# Conclusion\n",
        "\n",
        ">*   CNN+GRU cells along with Transfer Learning and data augmentation gave the good results considering parameter size, accuracy and loss functions trade-off.\n",
        "*   Transfer learning boosted the overall accuracy of the model.\n",
        "*   Findings:-\n",
        "    1. No of parameters: 3693253\n",
        "    2. Test Accuracy : 0.9200000166893005\n",
        "    3. Test Loss: 0.23567628860473633\n",
        "\n",
        "\n"
      ]
    },
    {
      "cell_type": "markdown",
      "metadata": {
        "id": "ZHTb8uhh4U10"
      },
      "source": [
        "# Loading model and Testing"
      ]
    },
    {
      "cell_type": "code",
      "execution_count": null,
      "metadata": {
        "id": "SFR4_gMr4U10"
      },
      "outputs": [],
      "source": [
        "import time\n",
        "from keras.models import load_model\n",
        "model = load_model('/content/model_init_2022-10-1517_21_04.769472/model-00011-0.02257-0.99329-0.13243-0.94030.h5')"
      ]
    },
    {
      "cell_type": "code",
      "execution_count": null,
      "metadata": {
        "id": "YkUUo1nb4U10"
      },
      "outputs": [],
      "source": [
        "test_generator=RNNCNN_TL2()\n",
        "test_generator.initialize_path(project_folder)\n",
        "test_generator.initialize_image_properties(image_height=64,image_width=64)\n",
        "test_generator.initialize_hyperparams(frames_to_sample=16,batch_size=32,num_epochs=20)\n",
        "\n",
        "g=test_generator.generator(test_generator.test_path,test_generator.test_doc,augment=False)\n",
        "batch_data, batch_labels=next(g)"
      ]
    },
    {
      "cell_type": "code",
      "execution_count": null,
      "metadata": {
        "id": "FIjMt8Oh4U10",
        "outputId": "2c1d0a6b-2bff-41ed-fab4-7d1142ae6ba8",
        "colab": {
          "base_uri": "https://localhost:8080/"
        }
      },
      "outputs": [
        {
          "output_type": "execute_result",
          "data": {
            "text/plain": [
              "array([[0., 0., 0., 0., 1.],\n",
              "       [0., 0., 0., 0., 1.],\n",
              "       [0., 0., 0., 1., 0.],\n",
              "       [0., 1., 0., 0., 0.],\n",
              "       [1., 0., 0., 0., 0.],\n",
              "       [0., 0., 0., 1., 0.],\n",
              "       [0., 0., 0., 1., 0.],\n",
              "       [0., 1., 0., 0., 0.],\n",
              "       [1., 0., 0., 0., 0.],\n",
              "       [0., 0., 1., 0., 0.],\n",
              "       [0., 0., 1., 0., 0.],\n",
              "       [1., 0., 0., 0., 0.],\n",
              "       [0., 0., 0., 1., 0.],\n",
              "       [0., 1., 0., 0., 0.],\n",
              "       [0., 0., 0., 1., 0.],\n",
              "       [0., 0., 0., 0., 1.],\n",
              "       [0., 0., 0., 0., 1.],\n",
              "       [0., 1., 0., 0., 0.],\n",
              "       [1., 0., 0., 0., 0.],\n",
              "       [0., 0., 1., 0., 0.],\n",
              "       [0., 0., 1., 0., 0.],\n",
              "       [0., 0., 1., 0., 0.],\n",
              "       [0., 0., 0., 0., 1.],\n",
              "       [0., 1., 0., 0., 0.],\n",
              "       [0., 1., 0., 0., 0.],\n",
              "       [0., 0., 0., 0., 1.],\n",
              "       [1., 0., 0., 0., 0.],\n",
              "       [0., 0., 1., 0., 0.],\n",
              "       [0., 1., 0., 0., 0.],\n",
              "       [0., 0., 0., 0., 1.],\n",
              "       [0., 0., 1., 0., 0.],\n",
              "       [0., 0., 0., 0., 1.]])"
            ]
          },
          "metadata": {},
          "execution_count": 30
        }
      ],
      "source": [
        "batch_labels"
      ]
    },
    {
      "cell_type": "code",
      "execution_count": null,
      "metadata": {
        "id": "wtQ7HWV34U10",
        "outputId": "aa3d8236-e493-4377-cbc5-7eed92f0d3d5",
        "colab": {
          "base_uri": "https://localhost:8080/"
        }
      },
      "outputs": [
        {
          "output_type": "stream",
          "name": "stdout",
          "text": [
            "1/1 [==============================] - 0s 34ms/step\n",
            "[4 4 3 1 0 3 0 0 0 2 2 0 3 1 3 4 4 1 1 2 2 2 4 1 1 4 0 2 1 4 2 4]\n"
          ]
        }
      ],
      "source": [
        "print(np.argmax(model.predict(batch_data[:,:,:,:,:]),axis=1))"
      ]
    }
  ],
  "metadata": {
    "accelerator": "GPU",
    "colab": {
      "provenance": [],
      "collapsed_sections": [
        "WsrAvCBGDmuK",
        "3-ghZWeh4U1j",
        "z87jJk074U1k",
        "Pl-6lMCb4U1k"
      ]
    },
    "kernelspec": {
      "display_name": "Python 3 (ipykernel)",
      "language": "python",
      "name": "python3"
    },
    "language_info": {
      "codemirror_mode": {
        "name": "ipython",
        "version": 3
      },
      "file_extension": ".py",
      "mimetype": "text/x-python",
      "name": "python",
      "nbconvert_exporter": "python",
      "pygments_lexer": "ipython3",
      "version": "3.8.10"
    }
  },
  "nbformat": 4,
  "nbformat_minor": 0
}