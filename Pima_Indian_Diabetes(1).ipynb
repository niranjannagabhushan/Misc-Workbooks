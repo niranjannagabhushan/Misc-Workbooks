{
 "cells": [
  {
   "cell_type": "code",
   "execution_count": 1,
   "metadata": {},
   "outputs": [],
   "source": [
    "import pandas as pd\n",
    "import numpy as np"
   ]
  },
  {
   "cell_type": "code",
   "execution_count": 39,
   "metadata": {},
   "outputs": [],
   "source": [
    "pima = pd.read_csv('pima_indian_diabetes.csv')"
   ]
  },
  {
   "cell_type": "code",
   "execution_count": 40,
   "metadata": {},
   "outputs": [
    {
     "data": {
      "text/html": [
       "<div>\n",
       "<style scoped>\n",
       "    .dataframe tbody tr th:only-of-type {\n",
       "        vertical-align: middle;\n",
       "    }\n",
       "\n",
       "    .dataframe tbody tr th {\n",
       "        vertical-align: top;\n",
       "    }\n",
       "\n",
       "    .dataframe thead th {\n",
       "        text-align: right;\n",
       "    }\n",
       "</style>\n",
       "<table border=\"1\" class=\"dataframe\">\n",
       "  <thead>\n",
       "    <tr style=\"text-align: right;\">\n",
       "      <th></th>\n",
       "      <th>No_Times_Pregnant</th>\n",
       "      <th>Plasma_Glucose</th>\n",
       "      <th>Diastolic_BP</th>\n",
       "      <th>Triceps</th>\n",
       "      <th>Insulin</th>\n",
       "      <th>BMI</th>\n",
       "      <th>Age</th>\n",
       "      <th>Diabetes</th>\n",
       "    </tr>\n",
       "  </thead>\n",
       "  <tbody>\n",
       "    <tr>\n",
       "      <th>0</th>\n",
       "      <td>1</td>\n",
       "      <td>89</td>\n",
       "      <td>66</td>\n",
       "      <td>23</td>\n",
       "      <td>94</td>\n",
       "      <td>28.1</td>\n",
       "      <td>21</td>\n",
       "      <td>0</td>\n",
       "    </tr>\n",
       "    <tr>\n",
       "      <th>1</th>\n",
       "      <td>0</td>\n",
       "      <td>137</td>\n",
       "      <td>40</td>\n",
       "      <td>35</td>\n",
       "      <td>168</td>\n",
       "      <td>43.1</td>\n",
       "      <td>33</td>\n",
       "      <td>1</td>\n",
       "    </tr>\n",
       "    <tr>\n",
       "      <th>2</th>\n",
       "      <td>3</td>\n",
       "      <td>78</td>\n",
       "      <td>50</td>\n",
       "      <td>32</td>\n",
       "      <td>88</td>\n",
       "      <td>31.0</td>\n",
       "      <td>26</td>\n",
       "      <td>1</td>\n",
       "    </tr>\n",
       "    <tr>\n",
       "      <th>3</th>\n",
       "      <td>2</td>\n",
       "      <td>197</td>\n",
       "      <td>70</td>\n",
       "      <td>45</td>\n",
       "      <td>543</td>\n",
       "      <td>30.5</td>\n",
       "      <td>53</td>\n",
       "      <td>1</td>\n",
       "    </tr>\n",
       "    <tr>\n",
       "      <th>4</th>\n",
       "      <td>1</td>\n",
       "      <td>189</td>\n",
       "      <td>60</td>\n",
       "      <td>23</td>\n",
       "      <td>846</td>\n",
       "      <td>30.1</td>\n",
       "      <td>59</td>\n",
       "      <td>1</td>\n",
       "    </tr>\n",
       "  </tbody>\n",
       "</table>\n",
       "</div>"
      ],
      "text/plain": [
       "   No_Times_Pregnant  Plasma_Glucose  Diastolic_BP  Triceps  Insulin   BMI  \\\n",
       "0                  1              89            66       23       94  28.1   \n",
       "1                  0             137            40       35      168  43.1   \n",
       "2                  3              78            50       32       88  31.0   \n",
       "3                  2             197            70       45      543  30.5   \n",
       "4                  1             189            60       23      846  30.1   \n",
       "\n",
       "   Age  Diabetes  \n",
       "0   21         0  \n",
       "1   33         1  \n",
       "2   26         1  \n",
       "3   53         1  \n",
       "4   59         1  "
      ]
     },
     "execution_count": 40,
     "metadata": {},
     "output_type": "execute_result"
    }
   ],
   "source": [
    "pima.head()"
   ]
  },
  {
   "cell_type": "code",
   "execution_count": 41,
   "metadata": {},
   "outputs": [
    {
     "data": {
      "text/plain": [
       "No_Times_Pregnant    0\n",
       "Plasma_Glucose       0\n",
       "Diastolic_BP         0\n",
       "Triceps              0\n",
       "Insulin              0\n",
       "BMI                  0\n",
       "Age                  0\n",
       "Diabetes             0\n",
       "dtype: int64"
      ]
     },
     "execution_count": 41,
     "metadata": {},
     "output_type": "execute_result"
    }
   ],
   "source": [
    "pima.isnull().sum()"
   ]
  },
  {
   "cell_type": "code",
   "execution_count": 42,
   "metadata": {},
   "outputs": [],
   "source": [
    "dib = (sum(pima['Diabetes'])/len(pima['Diabetes'].index))*100"
   ]
  },
  {
   "cell_type": "code",
   "execution_count": 43,
   "metadata": {},
   "outputs": [
    {
     "data": {
      "text/plain": [
       "33.16326530612245"
      ]
     },
     "execution_count": 43,
     "metadata": {},
     "output_type": "execute_result"
    }
   ],
   "source": [
    "dib"
   ]
  },
  {
   "cell_type": "code",
   "execution_count": 44,
   "metadata": {},
   "outputs": [],
   "source": [
    "df = pima[['Plasma_Glucose','Diastolic_BP','Triceps','Insulin','BMI','Age','No_Times_Pregnant']]"
   ]
  },
  {
   "cell_type": "code",
   "execution_count": 45,
   "metadata": {},
   "outputs": [],
   "source": [
    "normalized_df=(df-df.mean())/df.std()"
   ]
  },
  {
   "cell_type": "code",
   "execution_count": 46,
   "metadata": {},
   "outputs": [],
   "source": [
    "pima= pima.drop(['Plasma_Glucose','Diastolic_BP','Triceps','Insulin','BMI','Age','No_Times_Pregnant'], 1)"
   ]
  },
  {
   "cell_type": "code",
   "execution_count": 47,
   "metadata": {},
   "outputs": [],
   "source": [
    "pima = pd.concat([pima,normalized_df],axis=1)"
   ]
  },
  {
   "cell_type": "code",
   "execution_count": 48,
   "metadata": {},
   "outputs": [
    {
     "data": {
      "text/html": [
       "<div>\n",
       "<style scoped>\n",
       "    .dataframe tbody tr th:only-of-type {\n",
       "        vertical-align: middle;\n",
       "    }\n",
       "\n",
       "    .dataframe tbody tr th {\n",
       "        vertical-align: top;\n",
       "    }\n",
       "\n",
       "    .dataframe thead th {\n",
       "        text-align: right;\n",
       "    }\n",
       "</style>\n",
       "<table border=\"1\" class=\"dataframe\">\n",
       "  <thead>\n",
       "    <tr style=\"text-align: right;\">\n",
       "      <th></th>\n",
       "      <th>Diabetes</th>\n",
       "      <th>Plasma_Glucose</th>\n",
       "      <th>Diastolic_BP</th>\n",
       "      <th>Triceps</th>\n",
       "      <th>Insulin</th>\n",
       "      <th>BMI</th>\n",
       "      <th>Age</th>\n",
       "      <th>No_Times_Pregnant</th>\n",
       "    </tr>\n",
       "  </thead>\n",
       "  <tbody>\n",
       "    <tr>\n",
       "      <th>0</th>\n",
       "      <td>0</td>\n",
       "      <td>-1.089653</td>\n",
       "      <td>-0.373178</td>\n",
       "      <td>-0.584363</td>\n",
       "      <td>-0.522175</td>\n",
       "      <td>-0.709514</td>\n",
       "      <td>-0.967063</td>\n",
       "      <td>-0.716511</td>\n",
       "    </tr>\n",
       "    <tr>\n",
       "      <th>1</th>\n",
       "      <td>1</td>\n",
       "      <td>0.465719</td>\n",
       "      <td>-2.453828</td>\n",
       "      <td>0.556709</td>\n",
       "      <td>0.100502</td>\n",
       "      <td>1.424909</td>\n",
       "      <td>0.209318</td>\n",
       "      <td>-1.027899</td>\n",
       "    </tr>\n",
       "    <tr>\n",
       "      <th>2</th>\n",
       "      <td>1</td>\n",
       "      <td>-1.446093</td>\n",
       "      <td>-1.653578</td>\n",
       "      <td>0.271441</td>\n",
       "      <td>-0.572662</td>\n",
       "      <td>-0.296859</td>\n",
       "      <td>-0.476904</td>\n",
       "      <td>-0.093734</td>\n",
       "    </tr>\n",
       "    <tr>\n",
       "      <th>3</th>\n",
       "      <td>1</td>\n",
       "      <td>2.409934</td>\n",
       "      <td>-0.053078</td>\n",
       "      <td>1.507603</td>\n",
       "      <td>3.255961</td>\n",
       "      <td>-0.368007</td>\n",
       "      <td>2.169953</td>\n",
       "      <td>-0.405123</td>\n",
       "    </tr>\n",
       "    <tr>\n",
       "      <th>4</th>\n",
       "      <td>1</td>\n",
       "      <td>2.150705</td>\n",
       "      <td>-0.853328</td>\n",
       "      <td>-0.584363</td>\n",
       "      <td>5.805571</td>\n",
       "      <td>-0.424924</td>\n",
       "      <td>2.758143</td>\n",
       "      <td>-0.716511</td>\n",
       "    </tr>\n",
       "  </tbody>\n",
       "</table>\n",
       "</div>"
      ],
      "text/plain": [
       "   Diabetes  Plasma_Glucose  Diastolic_BP   Triceps   Insulin       BMI  \\\n",
       "0         0       -1.089653     -0.373178 -0.584363 -0.522175 -0.709514   \n",
       "1         1        0.465719     -2.453828  0.556709  0.100502  1.424909   \n",
       "2         1       -1.446093     -1.653578  0.271441 -0.572662 -0.296859   \n",
       "3         1        2.409934     -0.053078  1.507603  3.255961 -0.368007   \n",
       "4         1        2.150705     -0.853328 -0.584363  5.805571 -0.424924   \n",
       "\n",
       "        Age  No_Times_Pregnant  \n",
       "0 -0.967063          -0.716511  \n",
       "1  0.209318          -1.027899  \n",
       "2 -0.476904          -0.093734  \n",
       "3  2.169953          -0.405123  \n",
       "4  2.758143          -0.716511  "
      ]
     },
     "execution_count": 48,
     "metadata": {},
     "output_type": "execute_result"
    }
   ],
   "source": [
    "pima.head()"
   ]
  },
  {
   "cell_type": "code",
   "execution_count": 49,
   "metadata": {},
   "outputs": [
    {
     "data": {
      "text/html": [
       "<div>\n",
       "<style scoped>\n",
       "    .dataframe tbody tr th:only-of-type {\n",
       "        vertical-align: middle;\n",
       "    }\n",
       "\n",
       "    .dataframe tbody tr th {\n",
       "        vertical-align: top;\n",
       "    }\n",
       "\n",
       "    .dataframe thead th {\n",
       "        text-align: right;\n",
       "    }\n",
       "</style>\n",
       "<table border=\"1\" class=\"dataframe\">\n",
       "  <thead>\n",
       "    <tr style=\"text-align: right;\">\n",
       "      <th></th>\n",
       "      <th>Diabetes</th>\n",
       "      <th>Plasma_Glucose</th>\n",
       "      <th>Diastolic_BP</th>\n",
       "      <th>Triceps</th>\n",
       "      <th>Insulin</th>\n",
       "      <th>BMI</th>\n",
       "      <th>Age</th>\n",
       "      <th>No_Times_Pregnant</th>\n",
       "    </tr>\n",
       "  </thead>\n",
       "  <tbody>\n",
       "    <tr>\n",
       "      <th>count</th>\n",
       "      <td>392.000000</td>\n",
       "      <td>3.920000e+02</td>\n",
       "      <td>3.920000e+02</td>\n",
       "      <td>3.920000e+02</td>\n",
       "      <td>3.920000e+02</td>\n",
       "      <td>3.920000e+02</td>\n",
       "      <td>3.920000e+02</td>\n",
       "      <td>3.920000e+02</td>\n",
       "    </tr>\n",
       "    <tr>\n",
       "      <th>mean</th>\n",
       "      <td>0.331633</td>\n",
       "      <td>5.540494e-18</td>\n",
       "      <td>-4.299282e-16</td>\n",
       "      <td>9.686129e-17</td>\n",
       "      <td>7.831037e-17</td>\n",
       "      <td>3.188493e-15</td>\n",
       "      <td>5.083802e-17</td>\n",
       "      <td>-1.642677e-17</td>\n",
       "    </tr>\n",
       "    <tr>\n",
       "      <th>std</th>\n",
       "      <td>0.471401</td>\n",
       "      <td>1.000000e+00</td>\n",
       "      <td>1.000000e+00</td>\n",
       "      <td>1.000000e+00</td>\n",
       "      <td>1.000000e+00</td>\n",
       "      <td>1.000000e+00</td>\n",
       "      <td>1.000000e+00</td>\n",
       "      <td>1.000000e+00</td>\n",
       "    </tr>\n",
       "    <tr>\n",
       "      <th>min</th>\n",
       "      <td>0.000000</td>\n",
       "      <td>-2.158972e+00</td>\n",
       "      <td>-3.734229e+00</td>\n",
       "      <td>-2.105793e+00</td>\n",
       "      <td>-1.195339e+00</td>\n",
       "      <td>-2.118234e+00</td>\n",
       "      <td>-9.670632e-01</td>\n",
       "      <td>-1.027899e+00</td>\n",
       "    </tr>\n",
       "    <tr>\n",
       "      <th>25%</th>\n",
       "      <td>0.000000</td>\n",
       "      <td>-7.656174e-01</td>\n",
       "      <td>-6.932780e-01</td>\n",
       "      <td>-7.745416e-01</td>\n",
       "      <td>-6.673258e-01</td>\n",
       "      <td>-6.668258e-01</td>\n",
       "      <td>-7.709997e-01</td>\n",
       "      <td>-7.165108e-01</td>\n",
       "    </tr>\n",
       "    <tr>\n",
       "      <th>50%</th>\n",
       "      <td>0.000000</td>\n",
       "      <td>-1.175457e-01</td>\n",
       "      <td>-5.307782e-02</td>\n",
       "      <td>-1.382677e-02</td>\n",
       "      <td>-2.571162e-01</td>\n",
       "      <td>1.618967e-02</td>\n",
       "      <td>-3.788727e-01</td>\n",
       "      <td>-4.051225e-01</td>\n",
       "    </tr>\n",
       "    <tr>\n",
       "      <th>75%</th>\n",
       "      <td>1.000000</td>\n",
       "      <td>6.601404e-01</td>\n",
       "      <td>5.871224e-01</td>\n",
       "      <td>7.468881e-01</td>\n",
       "      <td>2.856226e-01</td>\n",
       "      <td>5.711397e-01</td>\n",
       "      <td>5.034131e-01</td>\n",
       "      <td>5.290424e-01</td>\n",
       "    </tr>\n",
       "    <tr>\n",
       "      <th>max</th>\n",
       "      <td>1.000000</td>\n",
       "      <td>2.442338e+00</td>\n",
       "      <td>3.147923e+00</td>\n",
       "      <td>3.219211e+00</td>\n",
       "      <td>5.805571e+00</td>\n",
       "      <td>4.839986e+00</td>\n",
       "      <td>4.914842e+00</td>\n",
       "      <td>4.265702e+00</td>\n",
       "    </tr>\n",
       "  </tbody>\n",
       "</table>\n",
       "</div>"
      ],
      "text/plain": [
       "         Diabetes  Plasma_Glucose  Diastolic_BP       Triceps       Insulin  \\\n",
       "count  392.000000    3.920000e+02  3.920000e+02  3.920000e+02  3.920000e+02   \n",
       "mean     0.331633    5.540494e-18 -4.299282e-16  9.686129e-17  7.831037e-17   \n",
       "std      0.471401    1.000000e+00  1.000000e+00  1.000000e+00  1.000000e+00   \n",
       "min      0.000000   -2.158972e+00 -3.734229e+00 -2.105793e+00 -1.195339e+00   \n",
       "25%      0.000000   -7.656174e-01 -6.932780e-01 -7.745416e-01 -6.673258e-01   \n",
       "50%      0.000000   -1.175457e-01 -5.307782e-02 -1.382677e-02 -2.571162e-01   \n",
       "75%      1.000000    6.601404e-01  5.871224e-01  7.468881e-01  2.856226e-01   \n",
       "max      1.000000    2.442338e+00  3.147923e+00  3.219211e+00  5.805571e+00   \n",
       "\n",
       "                BMI           Age  No_Times_Pregnant  \n",
       "count  3.920000e+02  3.920000e+02       3.920000e+02  \n",
       "mean   3.188493e-15  5.083802e-17      -1.642677e-17  \n",
       "std    1.000000e+00  1.000000e+00       1.000000e+00  \n",
       "min   -2.118234e+00 -9.670632e-01      -1.027899e+00  \n",
       "25%   -6.668258e-01 -7.709997e-01      -7.165108e-01  \n",
       "50%    1.618967e-02 -3.788727e-01      -4.051225e-01  \n",
       "75%    5.711397e-01  5.034131e-01       5.290424e-01  \n",
       "max    4.839986e+00  4.914842e+00       4.265702e+00  "
      ]
     },
     "execution_count": 49,
     "metadata": {},
     "output_type": "execute_result"
    }
   ],
   "source": [
    "pima.describe()"
   ]
  },
  {
   "cell_type": "code",
   "execution_count": 50,
   "metadata": {},
   "outputs": [],
   "source": [
    "from sklearn.model_selection import train_test_split"
   ]
  },
  {
   "cell_type": "code",
   "execution_count": 51,
   "metadata": {},
   "outputs": [],
   "source": [
    "# Putting feature variable to X\n",
    "X = pima.drop(['Diabetes'],axis=1)\n",
    "\n",
    "# Putting response variable to y\n",
    "y = pima['Diabetes']"
   ]
  },
  {
   "cell_type": "code",
   "execution_count": 52,
   "metadata": {},
   "outputs": [],
   "source": [
    "# Splitting the data into train and test\n",
    "X_train, X_test, y_train, y_test = train_test_split(X,y, train_size=0.7,test_size=0.3,random_state=100)"
   ]
  },
  {
   "cell_type": "code",
   "execution_count": 55,
   "metadata": {},
   "outputs": [
    {
     "data": {
      "text/html": [
       "<div>\n",
       "<style scoped>\n",
       "    .dataframe tbody tr th:only-of-type {\n",
       "        vertical-align: middle;\n",
       "    }\n",
       "\n",
       "    .dataframe tbody tr th {\n",
       "        vertical-align: top;\n",
       "    }\n",
       "\n",
       "    .dataframe thead th {\n",
       "        text-align: right;\n",
       "    }\n",
       "</style>\n",
       "<table border=\"1\" class=\"dataframe\">\n",
       "  <thead>\n",
       "    <tr style=\"text-align: right;\">\n",
       "      <th></th>\n",
       "      <th>Plasma_Glucose</th>\n",
       "      <th>Diastolic_BP</th>\n",
       "      <th>Triceps</th>\n",
       "      <th>Insulin</th>\n",
       "      <th>BMI</th>\n",
       "      <th>Age</th>\n",
       "      <th>No_Times_Pregnant</th>\n",
       "    </tr>\n",
       "  </thead>\n",
       "  <tbody>\n",
       "    <tr>\n",
       "      <th>count</th>\n",
       "      <td>274.000000</td>\n",
       "      <td>274.000000</td>\n",
       "      <td>274.000000</td>\n",
       "      <td>274.000000</td>\n",
       "      <td>274.000000</td>\n",
       "      <td>274.000000</td>\n",
       "      <td>274.000000</td>\n",
       "    </tr>\n",
       "    <tr>\n",
       "      <th>mean</th>\n",
       "      <td>-0.004488</td>\n",
       "      <td>0.025195</td>\n",
       "      <td>-0.012786</td>\n",
       "      <td>0.035704</td>\n",
       "      <td>0.031562</td>\n",
       "      <td>-0.060448</td>\n",
       "      <td>-0.025547</td>\n",
       "    </tr>\n",
       "    <tr>\n",
       "      <th>std</th>\n",
       "      <td>1.000324</td>\n",
       "      <td>0.991617</td>\n",
       "      <td>1.009403</td>\n",
       "      <td>1.028585</td>\n",
       "      <td>1.021551</td>\n",
       "      <td>0.968125</td>\n",
       "      <td>0.993112</td>\n",
       "    </tr>\n",
       "    <tr>\n",
       "      <th>min</th>\n",
       "      <td>-2.158972</td>\n",
       "      <td>-3.254079</td>\n",
       "      <td>-2.105793</td>\n",
       "      <td>-1.186925</td>\n",
       "      <td>-2.118234</td>\n",
       "      <td>-0.967063</td>\n",
       "      <td>-1.027899</td>\n",
       "    </tr>\n",
       "    <tr>\n",
       "      <th>25%</th>\n",
       "      <td>-0.765617</td>\n",
       "      <td>-0.693278</td>\n",
       "      <td>-0.845859</td>\n",
       "      <td>-0.656808</td>\n",
       "      <td>-0.638367</td>\n",
       "      <td>-0.771000</td>\n",
       "      <td>-0.716511</td>\n",
       "    </tr>\n",
       "    <tr>\n",
       "      <th>50%</th>\n",
       "      <td>-0.117546</td>\n",
       "      <td>0.026947</td>\n",
       "      <td>-0.013827</td>\n",
       "      <td>-0.248702</td>\n",
       "      <td>0.030419</td>\n",
       "      <td>-0.476904</td>\n",
       "      <td>-0.405123</td>\n",
       "    </tr>\n",
       "    <tr>\n",
       "      <th>75%</th>\n",
       "      <td>0.660140</td>\n",
       "      <td>0.747172</td>\n",
       "      <td>0.746888</td>\n",
       "      <td>0.315074</td>\n",
       "      <td>0.603156</td>\n",
       "      <td>0.405381</td>\n",
       "      <td>0.529042</td>\n",
       "    </tr>\n",
       "    <tr>\n",
       "      <th>max</th>\n",
       "      <td>2.377531</td>\n",
       "      <td>3.147923</td>\n",
       "      <td>2.933943</td>\n",
       "      <td>5.805571</td>\n",
       "      <td>4.839986</td>\n",
       "      <td>3.150270</td>\n",
       "      <td>4.265702</td>\n",
       "    </tr>\n",
       "  </tbody>\n",
       "</table>\n",
       "</div>"
      ],
      "text/plain": [
       "       Plasma_Glucose  Diastolic_BP     Triceps     Insulin         BMI  \\\n",
       "count      274.000000    274.000000  274.000000  274.000000  274.000000   \n",
       "mean        -0.004488      0.025195   -0.012786    0.035704    0.031562   \n",
       "std          1.000324      0.991617    1.009403    1.028585    1.021551   \n",
       "min         -2.158972     -3.254079   -2.105793   -1.186925   -2.118234   \n",
       "25%         -0.765617     -0.693278   -0.845859   -0.656808   -0.638367   \n",
       "50%         -0.117546      0.026947   -0.013827   -0.248702    0.030419   \n",
       "75%          0.660140      0.747172    0.746888    0.315074    0.603156   \n",
       "max          2.377531      3.147923    2.933943    5.805571    4.839986   \n",
       "\n",
       "              Age  No_Times_Pregnant  \n",
       "count  274.000000         274.000000  \n",
       "mean    -0.060448          -0.025547  \n",
       "std      0.968125           0.993112  \n",
       "min     -0.967063          -1.027899  \n",
       "25%     -0.771000          -0.716511  \n",
       "50%     -0.476904          -0.405123  \n",
       "75%      0.405381           0.529042  \n",
       "max      3.150270           4.265702  "
      ]
     },
     "execution_count": 55,
     "metadata": {},
     "output_type": "execute_result"
    }
   ],
   "source": [
    "X_train.describe()"
   ]
  },
  {
   "cell_type": "code",
   "execution_count": 20,
   "metadata": {},
   "outputs": [
    {
     "data": {
      "text/plain": [
       "LogisticRegression(C=1.0, class_weight=None, dual=False, fit_intercept=True,\n",
       "          intercept_scaling=1, max_iter=100, multi_class='ovr', n_jobs=1,\n",
       "          penalty='l2', random_state=None, solver='liblinear', tol=0.0001,\n",
       "          verbose=0, warm_start=False)"
      ]
     },
     "execution_count": 20,
     "metadata": {},
     "output_type": "execute_result"
    }
   ],
   "source": [
    "from sklearn.linear_model import LogisticRegression\n",
    "from sklearn import metrics\n",
    "logreg = LogisticRegression()\n",
    "logreg.fit(X_train, y_train)"
   ]
  },
  {
   "cell_type": "code",
   "execution_count": 21,
   "metadata": {},
   "outputs": [],
   "source": [
    "y_pred = logreg.predict(X_test)"
   ]
  },
  {
   "cell_type": "code",
   "execution_count": 56,
   "metadata": {},
   "outputs": [
    {
     "data": {
      "text/plain": [
       "0.7627118644067796"
      ]
     },
     "execution_count": 56,
     "metadata": {},
     "output_type": "execute_result"
    }
   ],
   "source": [
    "metrics.accuracy_score( y_test, y_pred)"
   ]
  },
  {
   "cell_type": "code",
   "execution_count": 22,
   "metadata": {},
   "outputs": [
    {
     "name": "stdout",
     "output_type": "stream",
     "text": [
      "[[68 12]\n",
      " [16 22]]\n"
     ]
    }
   ],
   "source": [
    "from sklearn.metrics import confusion_matrix\n",
    "confusion_matrix = confusion_matrix(y_test, y_pred)\n",
    "print(confusion_matrix)"
   ]
  },
  {
   "cell_type": "code",
   "execution_count": 23,
   "metadata": {},
   "outputs": [
    {
     "name": "stdout",
     "output_type": "stream",
     "text": [
      "             precision    recall  f1-score   support\n",
      "\n",
      "          0       0.81      0.85      0.83        80\n",
      "          1       0.65      0.58      0.61        38\n",
      "\n",
      "avg / total       0.76      0.76      0.76       118\n",
      "\n"
     ]
    }
   ],
   "source": [
    "from sklearn.metrics import classification_report\n",
    "print(classification_report(y_test, y_pred))"
   ]
  },
  {
   "cell_type": "code",
   "execution_count": 26,
   "metadata": {},
   "outputs": [
    {
     "data": {
      "image/png": "[encoded data removed]",
      "text/plain": [
       "<matplotlib.figure.Figure at 0x1e3c69c50f0>"
      ]
     },
     "metadata": {},
     "output_type": "display_data"
    }
   ],
   "source": [
    "from sklearn.metrics import roc_auc_score\n",
    "from sklearn.metrics import roc_curve\n",
    "import matplotlib.pyplot as plt \n",
    "%matplotlib inline\n",
    "logit_roc_auc = roc_auc_score(y_test, logreg.predict(X_test))\n",
    "fpr, tpr, thresholds = roc_curve(y_test, logreg.predict_proba(X_test)[:,1])\n",
    "plt.figure()\n",
    "plt.plot(fpr, tpr, label='Logistic Regression (area = %0.2f)' % logit_roc_auc)\n",
    "plt.plot([0, 1], [0, 1],'r--')\n",
    "plt.xlim([0.0, 1.0])\n",
    "plt.ylim([0.0, 1.05])\n",
    "plt.xlabel('False Positive Rate')\n",
    "plt.ylabel('True Positive Rate')\n",
    "plt.title('Receiver operating characteristic')\n",
    "plt.legend(loc=\"lower right\")\n",
    "plt.savefig('Log_ROC')\n",
    "plt.show()"
   ]
  },
  {
   "cell_type": "code",
   "execution_count": null,
   "metadata": {},
   "outputs": [],
   "source": []
  }
 ],
 "metadata": {
  "kernelspec": {
   "display_name": "Python 3",
   "language": "python",
   "name": "python3"
  },
  "language_info": {
   "codemirror_mode": {
    "name": "ipython",
    "version": 3
   },
   "file_extension": ".py",
   "mimetype": "text/x-python",
   "name": "python",
   "nbconvert_exporter": "python",
   "pygments_lexer": "ipython3",
   "version": "3.6.4"
  }
 },
 "nbformat": 4,
 "nbformat_minor": 2
}
